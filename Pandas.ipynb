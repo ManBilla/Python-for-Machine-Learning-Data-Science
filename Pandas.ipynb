{
  "nbformat": 4,
  "nbformat_minor": 0,
  "metadata": {
    "colab": {
      "name": "Pandas.ipynb",
      "version": "0.3.2",
      "provenance": [],
      "include_colab_link": true
    },
    "kernelspec": {
      "display_name": "Python 3",
      "language": "python",
      "name": "python3"
    }
  },
  "cells": [
    {
      "cell_type": "markdown",
      "metadata": {
        "id": "view-in-github",
        "colab_type": "text"
      },
      "source": [
        "<a href=\"https://colab.research.google.com/github/ManBilla/Python-for-Machine-Learning-Data-Science/blob/master/Pandas.ipynb\" target=\"_parent\"><img src=\"https://colab.research.google.com/assets/colab-badge.svg\" alt=\"Open In Colab\"/></a>"
      ]
    },
    {
      "metadata": {
        "id": "SJQt7_OFjckb",
        "colab_type": "text"
      },
      "cell_type": "markdown",
      "source": [
        "# PANDAS"
      ]
    },
    {
      "metadata": {
        "id": "zJZg1sNojckd",
        "colab_type": "text"
      },
      "cell_type": "markdown",
      "source": [
        "Pandas is an opensource library built on top of NumPy and it can be used for fast analysis and data cleaning & preparation, data visualization (Pythons version of R dataframe). Works with a wide variety of data sources"
      ]
    },
    {
      "metadata": {
        "id": "T9FvnZBzjcke",
        "colab_type": "code",
        "colab": {},
        "outputId": "dc0b256e-9b13-44b5-dec2-90f966700268"
      },
      "cell_type": "code",
      "source": [
        "conda install pandas"
      ],
      "execution_count": 0,
      "outputs": [
        {
          "output_type": "error",
          "ename": "SyntaxError",
          "evalue": "invalid syntax (<ipython-input-1-182416202f0a>, line 1)",
          "traceback": [
            "\u001b[1;36m  File \u001b[1;32m\"<ipython-input-1-182416202f0a>\"\u001b[1;36m, line \u001b[1;32m1\u001b[0m\n\u001b[1;33m    conda install pandas\u001b[0m\n\u001b[1;37m                ^\u001b[0m\n\u001b[1;31mSyntaxError\u001b[0m\u001b[1;31m:\u001b[0m invalid syntax\n"
          ]
        }
      ]
    },
    {
      "metadata": {
        "id": "RCXqUc_8jckn",
        "colab_type": "text"
      },
      "cell_type": "markdown",
      "source": [
        "## Pandas Data Types"
      ]
    },
    {
      "metadata": {
        "id": "i0Kj-XZWjckq",
        "colab_type": "text"
      },
      "cell_type": "markdown",
      "source": [
        "### 1. Series"
      ]
    },
    {
      "metadata": {
        "id": "3YJtJxmvjcks",
        "colab_type": "text"
      },
      "cell_type": "markdown",
      "source": [
        "* Similar to Numpy Array but Pandas Series can have access labels. i.e. It can be indexed by labels. Because of this, we can do a very fast look up of information like Hash Table or Dictionary"
      ]
    },
    {
      "metadata": {
        "id": "PD9riJIGjckt",
        "colab_type": "text"
      },
      "cell_type": "markdown",
      "source": [
        "#### Series Basics"
      ]
    },
    {
      "metadata": {
        "id": "DA3cSBStjcku",
        "colab_type": "code",
        "colab": {}
      },
      "cell_type": "code",
      "source": [
        "import numpy as np"
      ],
      "execution_count": 0,
      "outputs": []
    },
    {
      "metadata": {
        "id": "p4mXRyy0jckz",
        "colab_type": "code",
        "colab": {}
      },
      "cell_type": "code",
      "source": [
        "import pandas as pd"
      ],
      "execution_count": 0,
      "outputs": []
    },
    {
      "metadata": {
        "id": "bEDjPzVWjck4",
        "colab_type": "code",
        "colab": {}
      },
      "cell_type": "code",
      "source": [
        "#Creating list\n",
        "labels = ['a','b','c']\n",
        "\n",
        "#Creating List\n",
        "my_data = [10,20,30]\n",
        "\n",
        "#creating Numpy Array\n",
        "arr = np.array(my_data)\n",
        "\n",
        "#Creating dictionary\n",
        "d = {'a':10,'b':20,'c':30}"
      ],
      "execution_count": 0,
      "outputs": []
    },
    {
      "metadata": {
        "id": "Dy6TpuL7jck-",
        "colab_type": "code",
        "colab": {},
        "outputId": "715c42c7-5d4c-4367-f561-07c029d58d83"
      },
      "cell_type": "code",
      "source": [
        "#Creating a Pandas Series\n",
        "pd.Series(data = my_data)"
      ],
      "execution_count": 0,
      "outputs": [
        {
          "output_type": "execute_result",
          "data": {
            "text/plain": [
              "0    10\n",
              "1    20\n",
              "2    30\n",
              "dtype: int64"
            ]
          },
          "metadata": {
            "tags": []
          },
          "execution_count": 8
        }
      ]
    },
    {
      "metadata": {
        "id": "3XehHe6gjclF",
        "colab_type": "code",
        "colab": {},
        "outputId": "ea68d1c9-994c-431b-88d5-a114481bfcc4"
      },
      "cell_type": "code",
      "source": [
        "pd.Series(data=my_data, index =labels)"
      ],
      "execution_count": 0,
      "outputs": [
        {
          "output_type": "execute_result",
          "data": {
            "text/plain": [
              "a    10\n",
              "b    20\n",
              "c    30\n",
              "dtype: int64"
            ]
          },
          "metadata": {
            "tags": []
          },
          "execution_count": 12
        }
      ]
    },
    {
      "metadata": {
        "id": "W_K08j4IjclL",
        "colab_type": "code",
        "colab": {},
        "outputId": "1bea892f-7f28-473f-be88-3691ab336956"
      },
      "cell_type": "code",
      "source": [
        "pd.Series(arr, labels)"
      ],
      "execution_count": 0,
      "outputs": [
        {
          "output_type": "execute_result",
          "data": {
            "text/plain": [
              "a    10\n",
              "b    20\n",
              "c    30\n",
              "dtype: int32"
            ]
          },
          "metadata": {
            "tags": []
          },
          "execution_count": 13
        }
      ]
    },
    {
      "metadata": {
        "id": "B7hrqb1fjclP",
        "colab_type": "code",
        "colab": {},
        "outputId": "4b7e4d9f-31f7-4fc1-daae-4d7c2da01668"
      },
      "cell_type": "code",
      "source": [
        "pd.Series(d)"
      ],
      "execution_count": 0,
      "outputs": [
        {
          "output_type": "execute_result",
          "data": {
            "text/plain": [
              "a    10\n",
              "b    20\n",
              "c    30\n",
              "dtype: int64"
            ]
          },
          "metadata": {
            "tags": []
          },
          "execution_count": 15
        }
      ]
    },
    {
      "metadata": {
        "id": "UrxuDrq9jclV",
        "colab_type": "code",
        "colab": {},
        "outputId": "3b6623b4-9b4e-4847-dd8c-9e485d12a753"
      },
      "cell_type": "code",
      "source": [
        "#pandas series can hold any python object\n",
        "pd.Series(data = [sum,print,len])"
      ],
      "execution_count": 0,
      "outputs": [
        {
          "output_type": "execute_result",
          "data": {
            "text/plain": [
              "0      <built-in function sum>\n",
              "1    <built-in function print>\n",
              "2      <built-in function len>\n",
              "dtype: object"
            ]
          },
          "metadata": {
            "tags": []
          },
          "execution_count": 16
        }
      ]
    },
    {
      "metadata": {
        "id": "_WGzE_yHjclZ",
        "colab_type": "text"
      },
      "cell_type": "markdown",
      "source": [
        "#### Grabbing information from series"
      ]
    },
    {
      "metadata": {
        "id": "_MbOB8Pmjcla",
        "colab_type": "code",
        "colab": {}
      },
      "cell_type": "code",
      "source": [
        "ser1=pd.Series([1,2,3,4],['USA','Germany','USSR','Japan'])\n",
        "ser1"
      ],
      "execution_count": 0,
      "outputs": []
    },
    {
      "metadata": {
        "id": "TTjhozKgjcle",
        "colab_type": "code",
        "colab": {},
        "outputId": "703fe423-f79d-4060-fd2c-ebd49831594c"
      },
      "cell_type": "code",
      "source": [
        "ser2 = pd.Series([1,2,5,4],['USA','Germany','Italy','Japan'])\n",
        "ser2"
      ],
      "execution_count": 0,
      "outputs": [
        {
          "output_type": "execute_result",
          "data": {
            "text/plain": [
              "USA        1\n",
              "Germany    2\n",
              "Italy      5\n",
              "Japan      4\n",
              "dtype: int64"
            ]
          },
          "metadata": {
            "tags": []
          },
          "execution_count": 19
        }
      ]
    },
    {
      "metadata": {
        "id": "bXNWb01mjclv",
        "colab_type": "code",
        "colab": {},
        "outputId": "6bf7584e-a5b4-43f5-c5f0-81a011ef631a"
      },
      "cell_type": "code",
      "source": [
        "#pulling data from series\n",
        "ser1['USA']"
      ],
      "execution_count": 0,
      "outputs": [
        {
          "output_type": "execute_result",
          "data": {
            "text/plain": [
              "1"
            ]
          },
          "metadata": {
            "tags": []
          },
          "execution_count": 21
        }
      ]
    },
    {
      "metadata": {
        "id": "_wXS_0yDjcmI",
        "colab_type": "code",
        "colab": {},
        "outputId": "f8720a86-a4d6-470d-bf14-1117dce16456"
      },
      "cell_type": "code",
      "source": [
        "ser1+ser2\n",
        "#it adds the data for the matched labels. Integers are automatically converted to floats"
      ],
      "execution_count": 0,
      "outputs": [
        {
          "output_type": "execute_result",
          "data": {
            "text/plain": [
              "Germany    4.0\n",
              "Italy      NaN\n",
              "Japan      8.0\n",
              "USA        2.0\n",
              "USSR       NaN\n",
              "dtype: float64"
            ]
          },
          "metadata": {
            "tags": []
          },
          "execution_count": 23
        }
      ]
    },
    {
      "metadata": {
        "id": "C2eVTukcjcmX",
        "colab_type": "text"
      },
      "cell_type": "markdown",
      "source": [
        "### 2. DataFrames"
      ]
    },
    {
      "metadata": {
        "id": "txYZLqVMjcma",
        "colab_type": "text"
      },
      "cell_type": "markdown",
      "source": [
        "Main workhorse of Pandas"
      ]
    },
    {
      "metadata": {
        "id": "K0DC2kpFjcmh",
        "colab_type": "code",
        "colab": {}
      },
      "cell_type": "code",
      "source": [
        "import numpy as np\n",
        "import pandas as pd"
      ],
      "execution_count": 0,
      "outputs": []
    },
    {
      "metadata": {
        "id": "WVAdO8YPjcmr",
        "colab_type": "code",
        "colab": {}
      },
      "cell_type": "code",
      "source": [
        "from numpy.random import randn"
      ],
      "execution_count": 0,
      "outputs": []
    },
    {
      "metadata": {
        "id": "LeY-HxhLjcm3",
        "colab_type": "code",
        "colab": {}
      },
      "cell_type": "code",
      "source": [
        "np.random.seed(101)"
      ],
      "execution_count": 0,
      "outputs": []
    },
    {
      "metadata": {
        "id": "pXVo5AFgjcm-",
        "colab_type": "code",
        "colab": {},
        "outputId": "a3079cf9-739f-456b-cd20-4e0689829e9a"
      },
      "cell_type": "code",
      "source": [
        "df = pd.DataFrame(randn(5,4),['A','B','C','D','E'],['W','X','Y','Z'])\n",
        "df"
      ],
      "execution_count": 0,
      "outputs": [
        {
          "output_type": "execute_result",
          "data": {
            "text/html": [
              "<div>\n",
              "<style scoped>\n",
              "    .dataframe tbody tr th:only-of-type {\n",
              "        vertical-align: middle;\n",
              "    }\n",
              "\n",
              "    .dataframe tbody tr th {\n",
              "        vertical-align: top;\n",
              "    }\n",
              "\n",
              "    .dataframe thead th {\n",
              "        text-align: right;\n",
              "    }\n",
              "</style>\n",
              "<table border=\"1\" class=\"dataframe\">\n",
              "  <thead>\n",
              "    <tr style=\"text-align: right;\">\n",
              "      <th></th>\n",
              "      <th>W</th>\n",
              "      <th>X</th>\n",
              "      <th>Y</th>\n",
              "      <th>Z</th>\n",
              "    </tr>\n",
              "  </thead>\n",
              "  <tbody>\n",
              "    <tr>\n",
              "      <th>A</th>\n",
              "      <td>2.706850</td>\n",
              "      <td>0.628133</td>\n",
              "      <td>0.907969</td>\n",
              "      <td>0.503826</td>\n",
              "    </tr>\n",
              "    <tr>\n",
              "      <th>B</th>\n",
              "      <td>0.651118</td>\n",
              "      <td>-0.319318</td>\n",
              "      <td>-0.848077</td>\n",
              "      <td>0.605965</td>\n",
              "    </tr>\n",
              "    <tr>\n",
              "      <th>C</th>\n",
              "      <td>-2.018168</td>\n",
              "      <td>0.740122</td>\n",
              "      <td>0.528813</td>\n",
              "      <td>-0.589001</td>\n",
              "    </tr>\n",
              "    <tr>\n",
              "      <th>D</th>\n",
              "      <td>0.188695</td>\n",
              "      <td>-0.758872</td>\n",
              "      <td>-0.933237</td>\n",
              "      <td>0.955057</td>\n",
              "    </tr>\n",
              "    <tr>\n",
              "      <th>E</th>\n",
              "      <td>0.190794</td>\n",
              "      <td>1.978757</td>\n",
              "      <td>2.605967</td>\n",
              "      <td>0.683509</td>\n",
              "    </tr>\n",
              "  </tbody>\n",
              "</table>\n",
              "</div>"
            ],
            "text/plain": [
              "          W         X         Y         Z\n",
              "A  2.706850  0.628133  0.907969  0.503826\n",
              "B  0.651118 -0.319318 -0.848077  0.605965\n",
              "C -2.018168  0.740122  0.528813 -0.589001\n",
              "D  0.188695 -0.758872 -0.933237  0.955057\n",
              "E  0.190794  1.978757  2.605967  0.683509"
            ]
          },
          "metadata": {
            "tags": []
          },
          "execution_count": 71
        }
      ]
    },
    {
      "metadata": {
        "id": "TURltH0EjcnN",
        "colab_type": "text"
      },
      "cell_type": "markdown",
      "source": [
        "Here, each column is a series. Dataframe is a set of Series that share the same index"
      ]
    },
    {
      "metadata": {
        "id": "Aw1-q46KjcnP",
        "colab_type": "text"
      },
      "cell_type": "markdown",
      "source": [
        "#### Selecting Data from Dataframe"
      ]
    },
    {
      "metadata": {
        "id": "6ujjUMfXjcnR",
        "colab_type": "code",
        "colab": {},
        "outputId": "6ed8ff7c-bff6-4829-fe0a-823b07e8c95b"
      },
      "cell_type": "code",
      "source": [
        "df['W']"
      ],
      "execution_count": 0,
      "outputs": [
        {
          "output_type": "execute_result",
          "data": {
            "text/plain": [
              "A    2.706850\n",
              "B    0.651118\n",
              "C   -2.018168\n",
              "D    0.188695\n",
              "E    0.190794\n",
              "Name: W, dtype: float64"
            ]
          },
          "metadata": {
            "tags": []
          },
          "execution_count": 72
        }
      ]
    },
    {
      "metadata": {
        "id": "wDQQdfCQjcnY",
        "colab_type": "text"
      },
      "cell_type": "markdown",
      "source": [
        "This is a series. You can check by:"
      ]
    },
    {
      "metadata": {
        "id": "SD4RXrw8jcnb",
        "colab_type": "code",
        "colab": {},
        "outputId": "0622f99b-fafe-40af-cc60-02b72d57b3b1"
      },
      "cell_type": "code",
      "source": [
        "type(df['W'])"
      ],
      "execution_count": 0,
      "outputs": [
        {
          "output_type": "execute_result",
          "data": {
            "text/plain": [
              "pandas.core.series.Series"
            ]
          },
          "metadata": {
            "tags": []
          },
          "execution_count": 73
        }
      ]
    },
    {
      "metadata": {
        "id": "AqxUDuVgjcnh",
        "colab_type": "code",
        "colab": {},
        "outputId": "1e200574-c8d8-4f80-980b-6517ad679dab"
      },
      "cell_type": "code",
      "source": [
        "type(df)"
      ],
      "execution_count": 0,
      "outputs": [
        {
          "output_type": "execute_result",
          "data": {
            "text/plain": [
              "pandas.core.frame.DataFrame"
            ]
          },
          "metadata": {
            "tags": []
          },
          "execution_count": 74
        }
      ]
    },
    {
      "metadata": {
        "id": "QWtVknPejcnq",
        "colab_type": "code",
        "colab": {},
        "outputId": "495d2443-7da5-4f17-d460-c3f9952207a0"
      },
      "cell_type": "code",
      "source": [
        "#You can also select like you do in SQL (not recommended as you may confuse with methods)\n",
        "df.W\n",
        "#One of the methods may get overwritten with column name"
      ],
      "execution_count": 0,
      "outputs": [
        {
          "output_type": "execute_result",
          "data": {
            "text/plain": [
              "A    2.706850\n",
              "B    0.651118\n",
              "C   -2.018168\n",
              "D    0.188695\n",
              "E    0.190794\n",
              "Name: W, dtype: float64"
            ]
          },
          "metadata": {
            "tags": []
          },
          "execution_count": 75
        }
      ]
    },
    {
      "metadata": {
        "id": "Qpvbe2Ffjcnw",
        "colab_type": "code",
        "colab": {},
        "outputId": "8d3a08ce-7612-41aa-a271-b56da4534ade"
      },
      "cell_type": "code",
      "source": [
        "df[['W','Z']]"
      ],
      "execution_count": 0,
      "outputs": [
        {
          "output_type": "execute_result",
          "data": {
            "text/html": [
              "<div>\n",
              "<style scoped>\n",
              "    .dataframe tbody tr th:only-of-type {\n",
              "        vertical-align: middle;\n",
              "    }\n",
              "\n",
              "    .dataframe tbody tr th {\n",
              "        vertical-align: top;\n",
              "    }\n",
              "\n",
              "    .dataframe thead th {\n",
              "        text-align: right;\n",
              "    }\n",
              "</style>\n",
              "<table border=\"1\" class=\"dataframe\">\n",
              "  <thead>\n",
              "    <tr style=\"text-align: right;\">\n",
              "      <th></th>\n",
              "      <th>W</th>\n",
              "      <th>Z</th>\n",
              "    </tr>\n",
              "  </thead>\n",
              "  <tbody>\n",
              "    <tr>\n",
              "      <th>A</th>\n",
              "      <td>2.706850</td>\n",
              "      <td>0.503826</td>\n",
              "    </tr>\n",
              "    <tr>\n",
              "      <th>B</th>\n",
              "      <td>0.651118</td>\n",
              "      <td>0.605965</td>\n",
              "    </tr>\n",
              "    <tr>\n",
              "      <th>C</th>\n",
              "      <td>-2.018168</td>\n",
              "      <td>-0.589001</td>\n",
              "    </tr>\n",
              "    <tr>\n",
              "      <th>D</th>\n",
              "      <td>0.188695</td>\n",
              "      <td>0.955057</td>\n",
              "    </tr>\n",
              "    <tr>\n",
              "      <th>E</th>\n",
              "      <td>0.190794</td>\n",
              "      <td>0.683509</td>\n",
              "    </tr>\n",
              "  </tbody>\n",
              "</table>\n",
              "</div>"
            ],
            "text/plain": [
              "          W         Z\n",
              "A  2.706850  0.503826\n",
              "B  0.651118  0.605965\n",
              "C -2.018168 -0.589001\n",
              "D  0.188695  0.955057\n",
              "E  0.190794  0.683509"
            ]
          },
          "metadata": {
            "tags": []
          },
          "execution_count": 76
        }
      ]
    },
    {
      "metadata": {
        "id": "6QjxGQuqjcn4",
        "colab_type": "code",
        "colab": {},
        "outputId": "2abc5d7d-ae44-42d8-a895-d818223d890c"
      },
      "cell_type": "code",
      "source": [
        "#Defining a new column\n",
        "df['new']=df['W']+df['Y']\n",
        "df"
      ],
      "execution_count": 0,
      "outputs": [
        {
          "output_type": "execute_result",
          "data": {
            "text/html": [
              "<div>\n",
              "<style scoped>\n",
              "    .dataframe tbody tr th:only-of-type {\n",
              "        vertical-align: middle;\n",
              "    }\n",
              "\n",
              "    .dataframe tbody tr th {\n",
              "        vertical-align: top;\n",
              "    }\n",
              "\n",
              "    .dataframe thead th {\n",
              "        text-align: right;\n",
              "    }\n",
              "</style>\n",
              "<table border=\"1\" class=\"dataframe\">\n",
              "  <thead>\n",
              "    <tr style=\"text-align: right;\">\n",
              "      <th></th>\n",
              "      <th>W</th>\n",
              "      <th>X</th>\n",
              "      <th>Y</th>\n",
              "      <th>Z</th>\n",
              "      <th>new</th>\n",
              "    </tr>\n",
              "  </thead>\n",
              "  <tbody>\n",
              "    <tr>\n",
              "      <th>A</th>\n",
              "      <td>2.706850</td>\n",
              "      <td>0.628133</td>\n",
              "      <td>0.907969</td>\n",
              "      <td>0.503826</td>\n",
              "      <td>3.614819</td>\n",
              "    </tr>\n",
              "    <tr>\n",
              "      <th>B</th>\n",
              "      <td>0.651118</td>\n",
              "      <td>-0.319318</td>\n",
              "      <td>-0.848077</td>\n",
              "      <td>0.605965</td>\n",
              "      <td>-0.196959</td>\n",
              "    </tr>\n",
              "    <tr>\n",
              "      <th>C</th>\n",
              "      <td>-2.018168</td>\n",
              "      <td>0.740122</td>\n",
              "      <td>0.528813</td>\n",
              "      <td>-0.589001</td>\n",
              "      <td>-1.489355</td>\n",
              "    </tr>\n",
              "    <tr>\n",
              "      <th>D</th>\n",
              "      <td>0.188695</td>\n",
              "      <td>-0.758872</td>\n",
              "      <td>-0.933237</td>\n",
              "      <td>0.955057</td>\n",
              "      <td>-0.744542</td>\n",
              "    </tr>\n",
              "    <tr>\n",
              "      <th>E</th>\n",
              "      <td>0.190794</td>\n",
              "      <td>1.978757</td>\n",
              "      <td>2.605967</td>\n",
              "      <td>0.683509</td>\n",
              "      <td>2.796762</td>\n",
              "    </tr>\n",
              "  </tbody>\n",
              "</table>\n",
              "</div>"
            ],
            "text/plain": [
              "          W         X         Y         Z       new\n",
              "A  2.706850  0.628133  0.907969  0.503826  3.614819\n",
              "B  0.651118 -0.319318 -0.848077  0.605965 -0.196959\n",
              "C -2.018168  0.740122  0.528813 -0.589001 -1.489355\n",
              "D  0.188695 -0.758872 -0.933237  0.955057 -0.744542\n",
              "E  0.190794  1.978757  2.605967  0.683509  2.796762"
            ]
          },
          "metadata": {
            "tags": []
          },
          "execution_count": 77
        }
      ]
    },
    {
      "metadata": {
        "id": "k4gjjGeajcoA",
        "colab_type": "code",
        "colab": {}
      },
      "cell_type": "code",
      "source": [
        "#df.drop('new') will throw an error as by default axis = 0 (which means index or rows. To indicate columns):\n",
        "df.drop('new', axis = 1, inplace = True)\n"
      ],
      "execution_count": 0,
      "outputs": []
    },
    {
      "metadata": {
        "id": "pTt7VR9TjcoF",
        "colab_type": "text"
      },
      "cell_type": "markdown",
      "source": [
        "However, if you call df, it will still show new row. To make changes permanently to df, use inplace=True as argument"
      ]
    },
    {
      "metadata": {
        "scrolled": true,
        "id": "v46i3Sp_jcoH",
        "colab_type": "code",
        "colab": {},
        "outputId": "962d9b2e-f7cd-4511-f03f-b9581a5a2849"
      },
      "cell_type": "code",
      "source": [
        "#df.frop can also be used to drop rows\n",
        "df.drop('E')"
      ],
      "execution_count": 0,
      "outputs": [
        {
          "output_type": "execute_result",
          "data": {
            "text/html": [
              "<div>\n",
              "<style scoped>\n",
              "    .dataframe tbody tr th:only-of-type {\n",
              "        vertical-align: middle;\n",
              "    }\n",
              "\n",
              "    .dataframe tbody tr th {\n",
              "        vertical-align: top;\n",
              "    }\n",
              "\n",
              "    .dataframe thead th {\n",
              "        text-align: right;\n",
              "    }\n",
              "</style>\n",
              "<table border=\"1\" class=\"dataframe\">\n",
              "  <thead>\n",
              "    <tr style=\"text-align: right;\">\n",
              "      <th></th>\n",
              "      <th>W</th>\n",
              "      <th>X</th>\n",
              "      <th>Y</th>\n",
              "      <th>Z</th>\n",
              "    </tr>\n",
              "  </thead>\n",
              "  <tbody>\n",
              "    <tr>\n",
              "      <th>A</th>\n",
              "      <td>2.706850</td>\n",
              "      <td>0.628133</td>\n",
              "      <td>0.907969</td>\n",
              "      <td>0.503826</td>\n",
              "    </tr>\n",
              "    <tr>\n",
              "      <th>B</th>\n",
              "      <td>0.651118</td>\n",
              "      <td>-0.319318</td>\n",
              "      <td>-0.848077</td>\n",
              "      <td>0.605965</td>\n",
              "    </tr>\n",
              "    <tr>\n",
              "      <th>C</th>\n",
              "      <td>-2.018168</td>\n",
              "      <td>0.740122</td>\n",
              "      <td>0.528813</td>\n",
              "      <td>-0.589001</td>\n",
              "    </tr>\n",
              "    <tr>\n",
              "      <th>D</th>\n",
              "      <td>0.188695</td>\n",
              "      <td>-0.758872</td>\n",
              "      <td>-0.933237</td>\n",
              "      <td>0.955057</td>\n",
              "    </tr>\n",
              "  </tbody>\n",
              "</table>\n",
              "</div>"
            ],
            "text/plain": [
              "          W         X         Y         Z\n",
              "A  2.706850  0.628133  0.907969  0.503826\n",
              "B  0.651118 -0.319318 -0.848077  0.605965\n",
              "C -2.018168  0.740122  0.528813 -0.589001\n",
              "D  0.188695 -0.758872 -0.933237  0.955057"
            ]
          },
          "metadata": {
            "tags": []
          },
          "execution_count": 79
        }
      ]
    },
    {
      "metadata": {
        "id": "tp7tRB-_jcoX",
        "colab_type": "text"
      },
      "cell_type": "markdown",
      "source": [
        "Reason why rows are 0 and columns are 1 as the DataFrame is nothing but an index marker on top of a Numpy array.\n"
      ]
    },
    {
      "metadata": {
        "id": "moHwJxMgjcoY",
        "colab_type": "code",
        "colab": {},
        "outputId": "ba5a8eb9-cc64-4b6d-d054-fa27d1682a29"
      },
      "cell_type": "code",
      "source": [
        "df.shape"
      ],
      "execution_count": 0,
      "outputs": [
        {
          "output_type": "execute_result",
          "data": {
            "text/plain": [
              "(5, 4)"
            ]
          },
          "metadata": {
            "tags": []
          },
          "execution_count": 80
        }
      ]
    },
    {
      "metadata": {
        "id": "2JtdkML4jcod",
        "colab_type": "text"
      },
      "cell_type": "markdown",
      "source": [
        "Zero index is for rows and 1 index is for columns"
      ]
    },
    {
      "metadata": {
        "id": "CUYIHyOSjcoe",
        "colab_type": "text"
      },
      "cell_type": "markdown",
      "source": [
        "#### Selecting Rows"
      ]
    },
    {
      "metadata": {
        "id": "f34KyIs1jcog",
        "colab_type": "code",
        "colab": {},
        "outputId": "83073fda-695e-44ed-a6a8-882ef8f85f39"
      },
      "cell_type": "code",
      "source": [
        "#There are 2 ways:\n",
        "df.loc['A']"
      ],
      "execution_count": 0,
      "outputs": [
        {
          "output_type": "execute_result",
          "data": {
            "text/plain": [
              "W    2.706850\n",
              "X    0.628133\n",
              "Y    0.907969\n",
              "Z    0.503826\n",
              "Name: A, dtype: float64"
            ]
          },
          "metadata": {
            "tags": []
          },
          "execution_count": 81
        }
      ]
    },
    {
      "metadata": {
        "id": "Oo3d35OTjcok",
        "colab_type": "text"
      },
      "cell_type": "markdown",
      "source": [
        "This shows that not only columns but the rows are also Series"
      ]
    },
    {
      "metadata": {
        "id": "aFArpBZbjcol",
        "colab_type": "code",
        "colab": {},
        "outputId": "cf726e82-590d-4684-f24c-d8598bc6f256"
      },
      "cell_type": "code",
      "source": [
        "df.iloc[2]"
      ],
      "execution_count": 0,
      "outputs": [
        {
          "output_type": "execute_result",
          "data": {
            "text/plain": [
              "W   -2.018168\n",
              "X    0.740122\n",
              "Y    0.528813\n",
              "Z   -0.589001\n",
              "Name: C, dtype: float64"
            ]
          },
          "metadata": {
            "tags": []
          },
          "execution_count": 82
        }
      ]
    },
    {
      "metadata": {
        "id": "rx_dHTRjjcoq",
        "colab_type": "code",
        "colab": {},
        "outputId": "2447f1e0-fa6d-41c1-8b8e-fd556c9cbdd1"
      },
      "cell_type": "code",
      "source": [
        "#Subsets of rows and columns: Row B and Columns Y\n",
        "df.loc['B','Y']"
      ],
      "execution_count": 0,
      "outputs": [
        {
          "output_type": "execute_result",
          "data": {
            "text/plain": [
              "-0.8480769834036315"
            ]
          },
          "metadata": {
            "tags": []
          },
          "execution_count": 83
        }
      ]
    },
    {
      "metadata": {
        "id": "uygbGHDvjcox",
        "colab_type": "code",
        "colab": {},
        "outputId": "1ff011d2-0151-4d06-96d3-d4d47a26c360"
      },
      "cell_type": "code",
      "source": [
        "#subset of multiple rows, columns\n",
        "df.loc[['A','B'],['W','Y']]"
      ],
      "execution_count": 0,
      "outputs": [
        {
          "output_type": "execute_result",
          "data": {
            "text/html": [
              "<div>\n",
              "<style scoped>\n",
              "    .dataframe tbody tr th:only-of-type {\n",
              "        vertical-align: middle;\n",
              "    }\n",
              "\n",
              "    .dataframe tbody tr th {\n",
              "        vertical-align: top;\n",
              "    }\n",
              "\n",
              "    .dataframe thead th {\n",
              "        text-align: right;\n",
              "    }\n",
              "</style>\n",
              "<table border=\"1\" class=\"dataframe\">\n",
              "  <thead>\n",
              "    <tr style=\"text-align: right;\">\n",
              "      <th></th>\n",
              "      <th>W</th>\n",
              "      <th>Y</th>\n",
              "    </tr>\n",
              "  </thead>\n",
              "  <tbody>\n",
              "    <tr>\n",
              "      <th>A</th>\n",
              "      <td>2.706850</td>\n",
              "      <td>0.907969</td>\n",
              "    </tr>\n",
              "    <tr>\n",
              "      <th>B</th>\n",
              "      <td>0.651118</td>\n",
              "      <td>-0.848077</td>\n",
              "    </tr>\n",
              "  </tbody>\n",
              "</table>\n",
              "</div>"
            ],
            "text/plain": [
              "          W         Y\n",
              "A  2.706850  0.907969\n",
              "B  0.651118 -0.848077"
            ]
          },
          "metadata": {
            "tags": []
          },
          "execution_count": 84
        }
      ]
    },
    {
      "metadata": {
        "id": "5D6TOb3ajco1",
        "colab_type": "text"
      },
      "cell_type": "markdown",
      "source": [
        "#### Conditional Selection:"
      ]
    },
    {
      "metadata": {
        "id": "7wPONTG6jco2",
        "colab_type": "text"
      },
      "cell_type": "markdown",
      "source": [
        " You can do conditional selection using bracket notation"
      ]
    },
    {
      "metadata": {
        "id": "c5iOpOO4jco5",
        "colab_type": "code",
        "colab": {},
        "outputId": "c60dce09-396f-463e-ce5e-93a79f73d4f7"
      },
      "cell_type": "code",
      "source": [
        "booldf = df > 0\n",
        "booldf"
      ],
      "execution_count": 0,
      "outputs": [
        {
          "output_type": "execute_result",
          "data": {
            "text/html": [
              "<div>\n",
              "<style scoped>\n",
              "    .dataframe tbody tr th:only-of-type {\n",
              "        vertical-align: middle;\n",
              "    }\n",
              "\n",
              "    .dataframe tbody tr th {\n",
              "        vertical-align: top;\n",
              "    }\n",
              "\n",
              "    .dataframe thead th {\n",
              "        text-align: right;\n",
              "    }\n",
              "</style>\n",
              "<table border=\"1\" class=\"dataframe\">\n",
              "  <thead>\n",
              "    <tr style=\"text-align: right;\">\n",
              "      <th></th>\n",
              "      <th>W</th>\n",
              "      <th>X</th>\n",
              "      <th>Y</th>\n",
              "      <th>Z</th>\n",
              "    </tr>\n",
              "  </thead>\n",
              "  <tbody>\n",
              "    <tr>\n",
              "      <th>A</th>\n",
              "      <td>True</td>\n",
              "      <td>True</td>\n",
              "      <td>True</td>\n",
              "      <td>True</td>\n",
              "    </tr>\n",
              "    <tr>\n",
              "      <th>B</th>\n",
              "      <td>True</td>\n",
              "      <td>False</td>\n",
              "      <td>False</td>\n",
              "      <td>True</td>\n",
              "    </tr>\n",
              "    <tr>\n",
              "      <th>C</th>\n",
              "      <td>False</td>\n",
              "      <td>True</td>\n",
              "      <td>True</td>\n",
              "      <td>False</td>\n",
              "    </tr>\n",
              "    <tr>\n",
              "      <th>D</th>\n",
              "      <td>True</td>\n",
              "      <td>False</td>\n",
              "      <td>False</td>\n",
              "      <td>True</td>\n",
              "    </tr>\n",
              "    <tr>\n",
              "      <th>E</th>\n",
              "      <td>True</td>\n",
              "      <td>True</td>\n",
              "      <td>True</td>\n",
              "      <td>True</td>\n",
              "    </tr>\n",
              "  </tbody>\n",
              "</table>\n",
              "</div>"
            ],
            "text/plain": [
              "       W      X      Y      Z\n",
              "A   True   True   True   True\n",
              "B   True  False  False   True\n",
              "C  False   True   True  False\n",
              "D   True  False  False   True\n",
              "E   True   True   True   True"
            ]
          },
          "metadata": {
            "tags": []
          },
          "execution_count": 85
        }
      ]
    },
    {
      "metadata": {
        "id": "ioYZVcG7jcpA",
        "colab_type": "code",
        "colab": {},
        "outputId": "926d5bfc-a8b9-43fa-a731-96dd377e8edb"
      },
      "cell_type": "code",
      "source": [
        "df[booldf]\n",
        "#You can also use df[df>0]"
      ],
      "execution_count": 0,
      "outputs": [
        {
          "output_type": "execute_result",
          "data": {
            "text/html": [
              "<div>\n",
              "<style scoped>\n",
              "    .dataframe tbody tr th:only-of-type {\n",
              "        vertical-align: middle;\n",
              "    }\n",
              "\n",
              "    .dataframe tbody tr th {\n",
              "        vertical-align: top;\n",
              "    }\n",
              "\n",
              "    .dataframe thead th {\n",
              "        text-align: right;\n",
              "    }\n",
              "</style>\n",
              "<table border=\"1\" class=\"dataframe\">\n",
              "  <thead>\n",
              "    <tr style=\"text-align: right;\">\n",
              "      <th></th>\n",
              "      <th>W</th>\n",
              "      <th>X</th>\n",
              "      <th>Y</th>\n",
              "      <th>Z</th>\n",
              "    </tr>\n",
              "  </thead>\n",
              "  <tbody>\n",
              "    <tr>\n",
              "      <th>A</th>\n",
              "      <td>2.706850</td>\n",
              "      <td>0.628133</td>\n",
              "      <td>0.907969</td>\n",
              "      <td>0.503826</td>\n",
              "    </tr>\n",
              "    <tr>\n",
              "      <th>B</th>\n",
              "      <td>0.651118</td>\n",
              "      <td>NaN</td>\n",
              "      <td>NaN</td>\n",
              "      <td>0.605965</td>\n",
              "    </tr>\n",
              "    <tr>\n",
              "      <th>C</th>\n",
              "      <td>NaN</td>\n",
              "      <td>0.740122</td>\n",
              "      <td>0.528813</td>\n",
              "      <td>NaN</td>\n",
              "    </tr>\n",
              "    <tr>\n",
              "      <th>D</th>\n",
              "      <td>0.188695</td>\n",
              "      <td>NaN</td>\n",
              "      <td>NaN</td>\n",
              "      <td>0.955057</td>\n",
              "    </tr>\n",
              "    <tr>\n",
              "      <th>E</th>\n",
              "      <td>0.190794</td>\n",
              "      <td>1.978757</td>\n",
              "      <td>2.605967</td>\n",
              "      <td>0.683509</td>\n",
              "    </tr>\n",
              "  </tbody>\n",
              "</table>\n",
              "</div>"
            ],
            "text/plain": [
              "          W         X         Y         Z\n",
              "A  2.706850  0.628133  0.907969  0.503826\n",
              "B  0.651118       NaN       NaN  0.605965\n",
              "C       NaN  0.740122  0.528813       NaN\n",
              "D  0.188695       NaN       NaN  0.955057\n",
              "E  0.190794  1.978757  2.605967  0.683509"
            ]
          },
          "metadata": {
            "tags": []
          },
          "execution_count": 86
        }
      ]
    },
    {
      "metadata": {
        "id": "jeAWiMr7jcpE",
        "colab_type": "code",
        "colab": {},
        "outputId": "14df3a8e-61a6-4c30-eff5-a195d7ed8b95"
      },
      "cell_type": "code",
      "source": [
        "#Shows the rows that meet the criteria only\n",
        "df[df['W']>0]"
      ],
      "execution_count": 0,
      "outputs": [
        {
          "output_type": "execute_result",
          "data": {
            "text/html": [
              "<div>\n",
              "<style scoped>\n",
              "    .dataframe tbody tr th:only-of-type {\n",
              "        vertical-align: middle;\n",
              "    }\n",
              "\n",
              "    .dataframe tbody tr th {\n",
              "        vertical-align: top;\n",
              "    }\n",
              "\n",
              "    .dataframe thead th {\n",
              "        text-align: right;\n",
              "    }\n",
              "</style>\n",
              "<table border=\"1\" class=\"dataframe\">\n",
              "  <thead>\n",
              "    <tr style=\"text-align: right;\">\n",
              "      <th></th>\n",
              "      <th>W</th>\n",
              "      <th>X</th>\n",
              "      <th>Y</th>\n",
              "      <th>Z</th>\n",
              "    </tr>\n",
              "  </thead>\n",
              "  <tbody>\n",
              "    <tr>\n",
              "      <th>A</th>\n",
              "      <td>2.706850</td>\n",
              "      <td>0.628133</td>\n",
              "      <td>0.907969</td>\n",
              "      <td>0.503826</td>\n",
              "    </tr>\n",
              "    <tr>\n",
              "      <th>B</th>\n",
              "      <td>0.651118</td>\n",
              "      <td>-0.319318</td>\n",
              "      <td>-0.848077</td>\n",
              "      <td>0.605965</td>\n",
              "    </tr>\n",
              "    <tr>\n",
              "      <th>D</th>\n",
              "      <td>0.188695</td>\n",
              "      <td>-0.758872</td>\n",
              "      <td>-0.933237</td>\n",
              "      <td>0.955057</td>\n",
              "    </tr>\n",
              "    <tr>\n",
              "      <th>E</th>\n",
              "      <td>0.190794</td>\n",
              "      <td>1.978757</td>\n",
              "      <td>2.605967</td>\n",
              "      <td>0.683509</td>\n",
              "    </tr>\n",
              "  </tbody>\n",
              "</table>\n",
              "</div>"
            ],
            "text/plain": [
              "          W         X         Y         Z\n",
              "A  2.706850  0.628133  0.907969  0.503826\n",
              "B  0.651118 -0.319318 -0.848077  0.605965\n",
              "D  0.188695 -0.758872 -0.933237  0.955057\n",
              "E  0.190794  1.978757  2.605967  0.683509"
            ]
          },
          "metadata": {
            "tags": []
          },
          "execution_count": 87
        }
      ]
    },
    {
      "metadata": {
        "id": "n_xalqtwjcpI",
        "colab_type": "code",
        "colab": {},
        "outputId": "4c0e9f22-0028-4c11-998a-d0169a38a00c"
      },
      "cell_type": "code",
      "source": [
        "resultdf = df[df['W'] > 0]\n",
        "resultdf"
      ],
      "execution_count": 0,
      "outputs": [
        {
          "output_type": "execute_result",
          "data": {
            "text/html": [
              "<div>\n",
              "<style scoped>\n",
              "    .dataframe tbody tr th:only-of-type {\n",
              "        vertical-align: middle;\n",
              "    }\n",
              "\n",
              "    .dataframe tbody tr th {\n",
              "        vertical-align: top;\n",
              "    }\n",
              "\n",
              "    .dataframe thead th {\n",
              "        text-align: right;\n",
              "    }\n",
              "</style>\n",
              "<table border=\"1\" class=\"dataframe\">\n",
              "  <thead>\n",
              "    <tr style=\"text-align: right;\">\n",
              "      <th></th>\n",
              "      <th>W</th>\n",
              "      <th>X</th>\n",
              "      <th>Y</th>\n",
              "      <th>Z</th>\n",
              "    </tr>\n",
              "  </thead>\n",
              "  <tbody>\n",
              "    <tr>\n",
              "      <th>A</th>\n",
              "      <td>2.706850</td>\n",
              "      <td>0.628133</td>\n",
              "      <td>0.907969</td>\n",
              "      <td>0.503826</td>\n",
              "    </tr>\n",
              "    <tr>\n",
              "      <th>B</th>\n",
              "      <td>0.651118</td>\n",
              "      <td>-0.319318</td>\n",
              "      <td>-0.848077</td>\n",
              "      <td>0.605965</td>\n",
              "    </tr>\n",
              "    <tr>\n",
              "      <th>D</th>\n",
              "      <td>0.188695</td>\n",
              "      <td>-0.758872</td>\n",
              "      <td>-0.933237</td>\n",
              "      <td>0.955057</td>\n",
              "    </tr>\n",
              "    <tr>\n",
              "      <th>E</th>\n",
              "      <td>0.190794</td>\n",
              "      <td>1.978757</td>\n",
              "      <td>2.605967</td>\n",
              "      <td>0.683509</td>\n",
              "    </tr>\n",
              "  </tbody>\n",
              "</table>\n",
              "</div>"
            ],
            "text/plain": [
              "          W         X         Y         Z\n",
              "A  2.706850  0.628133  0.907969  0.503826\n",
              "B  0.651118 -0.319318 -0.848077  0.605965\n",
              "D  0.188695 -0.758872 -0.933237  0.955057\n",
              "E  0.190794  1.978757  2.605967  0.683509"
            ]
          },
          "metadata": {
            "tags": []
          },
          "execution_count": 94
        }
      ]
    },
    {
      "metadata": {
        "id": "JR08cTUQjcpO",
        "colab_type": "raw"
      },
      "cell_type": "markdown",
      "source": [
        ""
      ]
    },
    {
      "metadata": {
        "id": "f1WSo_hSjcpO",
        "colab_type": "code",
        "colab": {},
        "outputId": "16153e08-cb14-4a91-e754-2a2f0aec752e"
      },
      "cell_type": "code",
      "source": [
        "resultdf['X']"
      ],
      "execution_count": 0,
      "outputs": [
        {
          "output_type": "execute_result",
          "data": {
            "text/plain": [
              "A    0.628133\n",
              "B   -0.319318\n",
              "D   -0.758872\n",
              "E    1.978757\n",
              "Name: X, dtype: float64"
            ]
          },
          "metadata": {
            "tags": []
          },
          "execution_count": 95
        }
      ]
    },
    {
      "metadata": {
        "id": "T8cDVufOjcpS",
        "colab_type": "code",
        "colab": {},
        "outputId": "20469308-84a0-4543-df9d-336055aab8ea"
      },
      "cell_type": "code",
      "source": [
        "#instead of 2 steps, we can do in 1 step\n",
        "df[df['W']>0][['Y','X']]"
      ],
      "execution_count": 0,
      "outputs": [
        {
          "output_type": "execute_result",
          "data": {
            "text/html": [
              "<div>\n",
              "<style scoped>\n",
              "    .dataframe tbody tr th:only-of-type {\n",
              "        vertical-align: middle;\n",
              "    }\n",
              "\n",
              "    .dataframe tbody tr th {\n",
              "        vertical-align: top;\n",
              "    }\n",
              "\n",
              "    .dataframe thead th {\n",
              "        text-align: right;\n",
              "    }\n",
              "</style>\n",
              "<table border=\"1\" class=\"dataframe\">\n",
              "  <thead>\n",
              "    <tr style=\"text-align: right;\">\n",
              "      <th></th>\n",
              "      <th>Y</th>\n",
              "      <th>X</th>\n",
              "    </tr>\n",
              "  </thead>\n",
              "  <tbody>\n",
              "    <tr>\n",
              "      <th>A</th>\n",
              "      <td>0.907969</td>\n",
              "      <td>0.628133</td>\n",
              "    </tr>\n",
              "    <tr>\n",
              "      <th>B</th>\n",
              "      <td>-0.848077</td>\n",
              "      <td>-0.319318</td>\n",
              "    </tr>\n",
              "    <tr>\n",
              "      <th>D</th>\n",
              "      <td>-0.933237</td>\n",
              "      <td>-0.758872</td>\n",
              "    </tr>\n",
              "    <tr>\n",
              "      <th>E</th>\n",
              "      <td>2.605967</td>\n",
              "      <td>1.978757</td>\n",
              "    </tr>\n",
              "  </tbody>\n",
              "</table>\n",
              "</div>"
            ],
            "text/plain": [
              "          Y         X\n",
              "A  0.907969  0.628133\n",
              "B -0.848077 -0.319318\n",
              "D -0.933237 -0.758872\n",
              "E  2.605967  1.978757"
            ]
          },
          "metadata": {
            "tags": []
          },
          "execution_count": 99
        }
      ]
    },
    {
      "metadata": {
        "id": "Q7CPwmaKjcpW",
        "colab_type": "text"
      },
      "cell_type": "markdown",
      "source": [
        "It is efficient to use single step functions as when we use multiple steps, each variable uses some memory\n",
        "\n"
      ]
    },
    {
      "metadata": {
        "id": "OQQHHskajcpW",
        "colab_type": "code",
        "colab": {},
        "outputId": "cbd160ae-b8d7-41a4-c760-9c34523711c8"
      },
      "cell_type": "code",
      "source": [
        "# multiple conditions:\n",
        "#Below code will result in an error\n",
        "df[(df['W']> 0) and (df['Y']> 0)]"
      ],
      "execution_count": 0,
      "outputs": [
        {
          "output_type": "error",
          "ename": "ValueError",
          "evalue": "The truth value of a Series is ambiguous. Use a.empty, a.bool(), a.item(), a.any() or a.all().",
          "traceback": [
            "\u001b[1;31m---------------------------------------------------------------------------\u001b[0m",
            "\u001b[1;31mValueError\u001b[0m                                Traceback (most recent call last)",
            "\u001b[1;32m<ipython-input-100-26bf7fe091c1>\u001b[0m in \u001b[0;36m<module>\u001b[1;34m()\u001b[0m\n\u001b[0;32m      1\u001b[0m \u001b[1;31m# multiple conditions:\u001b[0m\u001b[1;33m\u001b[0m\u001b[1;33m\u001b[0m\u001b[0m\n\u001b[0;32m      2\u001b[0m \u001b[1;31m#Below code will result in an error\u001b[0m\u001b[1;33m\u001b[0m\u001b[1;33m\u001b[0m\u001b[0m\n\u001b[1;32m----> 3\u001b[1;33m \u001b[0mdf\u001b[0m\u001b[1;33m[\u001b[0m\u001b[1;33m(\u001b[0m\u001b[0mdf\u001b[0m\u001b[1;33m[\u001b[0m\u001b[1;34m'W'\u001b[0m\u001b[1;33m]\u001b[0m\u001b[1;33m>\u001b[0m \u001b[1;36m0\u001b[0m\u001b[1;33m)\u001b[0m \u001b[1;32mand\u001b[0m \u001b[1;33m(\u001b[0m\u001b[0mdf\u001b[0m\u001b[1;33m[\u001b[0m\u001b[1;34m'Y'\u001b[0m\u001b[1;33m]\u001b[0m\u001b[1;33m>\u001b[0m \u001b[1;36m0\u001b[0m\u001b[1;33m)\u001b[0m\u001b[1;33m]\u001b[0m\u001b[1;33m\u001b[0m\u001b[0m\n\u001b[0m",
            "\u001b[1;32m~\\Anaconda3\\lib\\site-packages\\pandas\\core\\generic.py\u001b[0m in \u001b[0;36m__nonzero__\u001b[1;34m(self)\u001b[0m\n\u001b[0;32m   1574\u001b[0m         raise ValueError(\"The truth value of a {0} is ambiguous. \"\n\u001b[0;32m   1575\u001b[0m                          \u001b[1;34m\"Use a.empty, a.bool(), a.item(), a.any() or a.all().\"\u001b[0m\u001b[1;33m\u001b[0m\u001b[0m\n\u001b[1;32m-> 1576\u001b[1;33m                          .format(self.__class__.__name__))\n\u001b[0m\u001b[0;32m   1577\u001b[0m \u001b[1;33m\u001b[0m\u001b[0m\n\u001b[0;32m   1578\u001b[0m     \u001b[0m__bool__\u001b[0m \u001b[1;33m=\u001b[0m \u001b[0m__nonzero__\u001b[0m\u001b[1;33m\u001b[0m\u001b[0m\n",
            "\u001b[1;31mValueError\u001b[0m: The truth value of a Series is ambiguous. Use a.empty, a.bool(), a.item(), a.any() or a.all()."
          ]
        }
      ]
    },
    {
      "metadata": {
        "id": "hDxpZH26jcpZ",
        "colab_type": "text"
      },
      "cell_type": "markdown",
      "source": [
        "Above error means that the Python will accept single combination of boolean values. Say TRUE and TRUE = TRUE. TRUE and FALSE = FALSE. However, in above case, df['W']>0 has 5 boolean values. So this will throw an error. So when working with multiple boolean values, you need to use & in pandas"
      ]
    },
    {
      "metadata": {
        "id": "JP5ZJGYYjcpa",
        "colab_type": "code",
        "colab": {},
        "outputId": "aef92e1f-8304-4314-dbfd-56bbf782fb3d"
      },
      "cell_type": "code",
      "source": [
        "df[(df['W']> 0) & (df['Y']> 0)]"
      ],
      "execution_count": 0,
      "outputs": [
        {
          "output_type": "execute_result",
          "data": {
            "text/html": [
              "<div>\n",
              "<style scoped>\n",
              "    .dataframe tbody tr th:only-of-type {\n",
              "        vertical-align: middle;\n",
              "    }\n",
              "\n",
              "    .dataframe tbody tr th {\n",
              "        vertical-align: top;\n",
              "    }\n",
              "\n",
              "    .dataframe thead th {\n",
              "        text-align: right;\n",
              "    }\n",
              "</style>\n",
              "<table border=\"1\" class=\"dataframe\">\n",
              "  <thead>\n",
              "    <tr style=\"text-align: right;\">\n",
              "      <th></th>\n",
              "      <th>W</th>\n",
              "      <th>X</th>\n",
              "      <th>Y</th>\n",
              "      <th>Z</th>\n",
              "    </tr>\n",
              "  </thead>\n",
              "  <tbody>\n",
              "    <tr>\n",
              "      <th>A</th>\n",
              "      <td>2.706850</td>\n",
              "      <td>0.628133</td>\n",
              "      <td>0.907969</td>\n",
              "      <td>0.503826</td>\n",
              "    </tr>\n",
              "    <tr>\n",
              "      <th>E</th>\n",
              "      <td>0.190794</td>\n",
              "      <td>1.978757</td>\n",
              "      <td>2.605967</td>\n",
              "      <td>0.683509</td>\n",
              "    </tr>\n",
              "  </tbody>\n",
              "</table>\n",
              "</div>"
            ],
            "text/plain": [
              "          W         X         Y         Z\n",
              "A  2.706850  0.628133  0.907969  0.503826\n",
              "E  0.190794  1.978757  2.605967  0.683509"
            ]
          },
          "metadata": {
            "tags": []
          },
          "execution_count": 101
        }
      ]
    },
    {
      "metadata": {
        "id": "0LIbqXxkjcpg",
        "colab_type": "text"
      },
      "cell_type": "markdown",
      "source": [
        ""
      ]
    },
    {
      "metadata": {
        "id": "4kLBcVH4jcpg",
        "colab_type": "code",
        "colab": {},
        "outputId": "df8cae71-0a3d-4723-f6b3-8c5f6cedb306"
      },
      "cell_type": "code",
      "source": [
        "#For or, we use pipe operator |\n",
        "df[(df['W']> 0) | (df['Y']> 0)]"
      ],
      "execution_count": 0,
      "outputs": [
        {
          "output_type": "execute_result",
          "data": {
            "text/html": [
              "<div>\n",
              "<style scoped>\n",
              "    .dataframe tbody tr th:only-of-type {\n",
              "        vertical-align: middle;\n",
              "    }\n",
              "\n",
              "    .dataframe tbody tr th {\n",
              "        vertical-align: top;\n",
              "    }\n",
              "\n",
              "    .dataframe thead th {\n",
              "        text-align: right;\n",
              "    }\n",
              "</style>\n",
              "<table border=\"1\" class=\"dataframe\">\n",
              "  <thead>\n",
              "    <tr style=\"text-align: right;\">\n",
              "      <th></th>\n",
              "      <th>W</th>\n",
              "      <th>X</th>\n",
              "      <th>Y</th>\n",
              "      <th>Z</th>\n",
              "    </tr>\n",
              "  </thead>\n",
              "  <tbody>\n",
              "    <tr>\n",
              "      <th>A</th>\n",
              "      <td>2.706850</td>\n",
              "      <td>0.628133</td>\n",
              "      <td>0.907969</td>\n",
              "      <td>0.503826</td>\n",
              "    </tr>\n",
              "    <tr>\n",
              "      <th>B</th>\n",
              "      <td>0.651118</td>\n",
              "      <td>-0.319318</td>\n",
              "      <td>-0.848077</td>\n",
              "      <td>0.605965</td>\n",
              "    </tr>\n",
              "    <tr>\n",
              "      <th>C</th>\n",
              "      <td>-2.018168</td>\n",
              "      <td>0.740122</td>\n",
              "      <td>0.528813</td>\n",
              "      <td>-0.589001</td>\n",
              "    </tr>\n",
              "    <tr>\n",
              "      <th>D</th>\n",
              "      <td>0.188695</td>\n",
              "      <td>-0.758872</td>\n",
              "      <td>-0.933237</td>\n",
              "      <td>0.955057</td>\n",
              "    </tr>\n",
              "    <tr>\n",
              "      <th>E</th>\n",
              "      <td>0.190794</td>\n",
              "      <td>1.978757</td>\n",
              "      <td>2.605967</td>\n",
              "      <td>0.683509</td>\n",
              "    </tr>\n",
              "  </tbody>\n",
              "</table>\n",
              "</div>"
            ],
            "text/plain": [
              "          W         X         Y         Z\n",
              "A  2.706850  0.628133  0.907969  0.503826\n",
              "B  0.651118 -0.319318 -0.848077  0.605965\n",
              "C -2.018168  0.740122  0.528813 -0.589001\n",
              "D  0.188695 -0.758872 -0.933237  0.955057\n",
              "E  0.190794  1.978757  2.605967  0.683509"
            ]
          },
          "metadata": {
            "tags": []
          },
          "execution_count": 102
        }
      ]
    },
    {
      "metadata": {
        "id": "UZMVkjDEjcpl",
        "colab_type": "text"
      },
      "cell_type": "markdown",
      "source": [
        "#### Index "
      ]
    },
    {
      "metadata": {
        "id": "Pf16ZHCNjcpm",
        "colab_type": "code",
        "colab": {},
        "outputId": "f66b3f2b-5345-4b99-98ca-2c9aabed26e7"
      },
      "cell_type": "code",
      "source": [
        "#We can reset the index using reset_index(), which creates a new column - index\n",
        "# However, it wont affect the original dataframe. To make changes on original dataframe,use inplace = TRUE\n",
        "df.reset_index()"
      ],
      "execution_count": 0,
      "outputs": [
        {
          "output_type": "execute_result",
          "data": {
            "text/html": [
              "<div>\n",
              "<style scoped>\n",
              "    .dataframe tbody tr th:only-of-type {\n",
              "        vertical-align: middle;\n",
              "    }\n",
              "\n",
              "    .dataframe tbody tr th {\n",
              "        vertical-align: top;\n",
              "    }\n",
              "\n",
              "    .dataframe thead th {\n",
              "        text-align: right;\n",
              "    }\n",
              "</style>\n",
              "<table border=\"1\" class=\"dataframe\">\n",
              "  <thead>\n",
              "    <tr style=\"text-align: right;\">\n",
              "      <th></th>\n",
              "      <th>index</th>\n",
              "      <th>W</th>\n",
              "      <th>X</th>\n",
              "      <th>Y</th>\n",
              "      <th>Z</th>\n",
              "    </tr>\n",
              "  </thead>\n",
              "  <tbody>\n",
              "    <tr>\n",
              "      <th>0</th>\n",
              "      <td>A</td>\n",
              "      <td>2.706850</td>\n",
              "      <td>0.628133</td>\n",
              "      <td>0.907969</td>\n",
              "      <td>0.503826</td>\n",
              "    </tr>\n",
              "    <tr>\n",
              "      <th>1</th>\n",
              "      <td>B</td>\n",
              "      <td>0.651118</td>\n",
              "      <td>-0.319318</td>\n",
              "      <td>-0.848077</td>\n",
              "      <td>0.605965</td>\n",
              "    </tr>\n",
              "    <tr>\n",
              "      <th>2</th>\n",
              "      <td>C</td>\n",
              "      <td>-2.018168</td>\n",
              "      <td>0.740122</td>\n",
              "      <td>0.528813</td>\n",
              "      <td>-0.589001</td>\n",
              "    </tr>\n",
              "    <tr>\n",
              "      <th>3</th>\n",
              "      <td>D</td>\n",
              "      <td>0.188695</td>\n",
              "      <td>-0.758872</td>\n",
              "      <td>-0.933237</td>\n",
              "      <td>0.955057</td>\n",
              "    </tr>\n",
              "    <tr>\n",
              "      <th>4</th>\n",
              "      <td>E</td>\n",
              "      <td>0.190794</td>\n",
              "      <td>1.978757</td>\n",
              "      <td>2.605967</td>\n",
              "      <td>0.683509</td>\n",
              "    </tr>\n",
              "  </tbody>\n",
              "</table>\n",
              "</div>"
            ],
            "text/plain": [
              "  index         W         X         Y         Z\n",
              "0     A  2.706850  0.628133  0.907969  0.503826\n",
              "1     B  0.651118 -0.319318 -0.848077  0.605965\n",
              "2     C -2.018168  0.740122  0.528813 -0.589001\n",
              "3     D  0.188695 -0.758872 -0.933237  0.955057\n",
              "4     E  0.190794  1.978757  2.605967  0.683509"
            ]
          },
          "metadata": {
            "tags": []
          },
          "execution_count": 108
        }
      ]
    },
    {
      "metadata": {
        "id": "YHSt3w1fjcpq",
        "colab_type": "code",
        "colab": {},
        "outputId": "8a7c8743-c607-4eb6-c09c-a1d928cb2797"
      },
      "cell_type": "code",
      "source": [
        "#Creating a new index:\n",
        "newind = 'CA NY WY OR CO'.split()\n",
        "newind"
      ],
      "execution_count": 0,
      "outputs": [
        {
          "output_type": "execute_result",
          "data": {
            "text/plain": [
              "['CA', 'NY', 'WY', 'OR', 'CO']"
            ]
          },
          "metadata": {
            "tags": []
          },
          "execution_count": 110
        }
      ]
    },
    {
      "metadata": {
        "id": "SH_E1-VTjcpu",
        "colab_type": "code",
        "colab": {},
        "outputId": "6e2de467-a220-4247-e557-a1432672f87b"
      },
      "cell_type": "code",
      "source": [
        "df['States']=newind\n",
        "df"
      ],
      "execution_count": 0,
      "outputs": [
        {
          "output_type": "execute_result",
          "data": {
            "text/html": [
              "<div>\n",
              "<style scoped>\n",
              "    .dataframe tbody tr th:only-of-type {\n",
              "        vertical-align: middle;\n",
              "    }\n",
              "\n",
              "    .dataframe tbody tr th {\n",
              "        vertical-align: top;\n",
              "    }\n",
              "\n",
              "    .dataframe thead th {\n",
              "        text-align: right;\n",
              "    }\n",
              "</style>\n",
              "<table border=\"1\" class=\"dataframe\">\n",
              "  <thead>\n",
              "    <tr style=\"text-align: right;\">\n",
              "      <th></th>\n",
              "      <th>W</th>\n",
              "      <th>X</th>\n",
              "      <th>Y</th>\n",
              "      <th>Z</th>\n",
              "      <th>States</th>\n",
              "    </tr>\n",
              "  </thead>\n",
              "  <tbody>\n",
              "    <tr>\n",
              "      <th>A</th>\n",
              "      <td>2.706850</td>\n",
              "      <td>0.628133</td>\n",
              "      <td>0.907969</td>\n",
              "      <td>0.503826</td>\n",
              "      <td>CA</td>\n",
              "    </tr>\n",
              "    <tr>\n",
              "      <th>B</th>\n",
              "      <td>0.651118</td>\n",
              "      <td>-0.319318</td>\n",
              "      <td>-0.848077</td>\n",
              "      <td>0.605965</td>\n",
              "      <td>NY</td>\n",
              "    </tr>\n",
              "    <tr>\n",
              "      <th>C</th>\n",
              "      <td>-2.018168</td>\n",
              "      <td>0.740122</td>\n",
              "      <td>0.528813</td>\n",
              "      <td>-0.589001</td>\n",
              "      <td>WY</td>\n",
              "    </tr>\n",
              "    <tr>\n",
              "      <th>D</th>\n",
              "      <td>0.188695</td>\n",
              "      <td>-0.758872</td>\n",
              "      <td>-0.933237</td>\n",
              "      <td>0.955057</td>\n",
              "      <td>OR</td>\n",
              "    </tr>\n",
              "    <tr>\n",
              "      <th>E</th>\n",
              "      <td>0.190794</td>\n",
              "      <td>1.978757</td>\n",
              "      <td>2.605967</td>\n",
              "      <td>0.683509</td>\n",
              "      <td>CO</td>\n",
              "    </tr>\n",
              "  </tbody>\n",
              "</table>\n",
              "</div>"
            ],
            "text/plain": [
              "          W         X         Y         Z States\n",
              "A  2.706850  0.628133  0.907969  0.503826     CA\n",
              "B  0.651118 -0.319318 -0.848077  0.605965     NY\n",
              "C -2.018168  0.740122  0.528813 -0.589001     WY\n",
              "D  0.188695 -0.758872 -0.933237  0.955057     OR\n",
              "E  0.190794  1.978757  2.605967  0.683509     CO"
            ]
          },
          "metadata": {
            "tags": []
          },
          "execution_count": 112
        }
      ]
    },
    {
      "metadata": {
        "id": "9aO95EKXjcpw",
        "colab_type": "code",
        "colab": {},
        "outputId": "bb7ec278-0780-49ab-d3a8-4e598aa056af"
      },
      "cell_type": "code",
      "source": [
        "#Instead of reseting index, we can do set_index\n",
        "df.set_index('States')"
      ],
      "execution_count": 0,
      "outputs": [
        {
          "output_type": "execute_result",
          "data": {
            "text/html": [
              "<div>\n",
              "<style scoped>\n",
              "    .dataframe tbody tr th:only-of-type {\n",
              "        vertical-align: middle;\n",
              "    }\n",
              "\n",
              "    .dataframe tbody tr th {\n",
              "        vertical-align: top;\n",
              "    }\n",
              "\n",
              "    .dataframe thead th {\n",
              "        text-align: right;\n",
              "    }\n",
              "</style>\n",
              "<table border=\"1\" class=\"dataframe\">\n",
              "  <thead>\n",
              "    <tr style=\"text-align: right;\">\n",
              "      <th></th>\n",
              "      <th>W</th>\n",
              "      <th>X</th>\n",
              "      <th>Y</th>\n",
              "      <th>Z</th>\n",
              "    </tr>\n",
              "    <tr>\n",
              "      <th>States</th>\n",
              "      <th></th>\n",
              "      <th></th>\n",
              "      <th></th>\n",
              "      <th></th>\n",
              "    </tr>\n",
              "  </thead>\n",
              "  <tbody>\n",
              "    <tr>\n",
              "      <th>CA</th>\n",
              "      <td>2.706850</td>\n",
              "      <td>0.628133</td>\n",
              "      <td>0.907969</td>\n",
              "      <td>0.503826</td>\n",
              "    </tr>\n",
              "    <tr>\n",
              "      <th>NY</th>\n",
              "      <td>0.651118</td>\n",
              "      <td>-0.319318</td>\n",
              "      <td>-0.848077</td>\n",
              "      <td>0.605965</td>\n",
              "    </tr>\n",
              "    <tr>\n",
              "      <th>WY</th>\n",
              "      <td>-2.018168</td>\n",
              "      <td>0.740122</td>\n",
              "      <td>0.528813</td>\n",
              "      <td>-0.589001</td>\n",
              "    </tr>\n",
              "    <tr>\n",
              "      <th>OR</th>\n",
              "      <td>0.188695</td>\n",
              "      <td>-0.758872</td>\n",
              "      <td>-0.933237</td>\n",
              "      <td>0.955057</td>\n",
              "    </tr>\n",
              "    <tr>\n",
              "      <th>CO</th>\n",
              "      <td>0.190794</td>\n",
              "      <td>1.978757</td>\n",
              "      <td>2.605967</td>\n",
              "      <td>0.683509</td>\n",
              "    </tr>\n",
              "  </tbody>\n",
              "</table>\n",
              "</div>"
            ],
            "text/plain": [
              "               W         X         Y         Z\n",
              "States                                        \n",
              "CA      2.706850  0.628133  0.907969  0.503826\n",
              "NY      0.651118 -0.319318 -0.848077  0.605965\n",
              "WY     -2.018168  0.740122  0.528813 -0.589001\n",
              "OR      0.188695 -0.758872 -0.933237  0.955057\n",
              "CO      0.190794  1.978757  2.605967  0.683509"
            ]
          },
          "metadata": {
            "tags": []
          },
          "execution_count": 114
        }
      ]
    },
    {
      "metadata": {
        "id": "VpBqdM5tjcpy",
        "colab_type": "text"
      },
      "cell_type": "markdown",
      "source": [
        "Again, to make the change to df, use inplace = TRUE"
      ]
    },
    {
      "metadata": {
        "id": "_sGDKUXsjcpz",
        "colab_type": "text"
      },
      "cell_type": "markdown",
      "source": [
        "#### Multi index"
      ]
    },
    {
      "metadata": {
        "id": "qBhKAGZEjcp0",
        "colab_type": "code",
        "colab": {},
        "outputId": "fbbb6916-427e-41cb-8842-94c7961eafc1"
      },
      "cell_type": "code",
      "source": [
        "#Creating a new DataFrame\n",
        "outside = 'G1 G1 G1 G2 G2 G2'.split()\n",
        "inside = [1,2,3,1,2,3]\n",
        "hier_index = list(zip(outside, inside))\n",
        "print(hier_index)\n",
        "#Below function can take a list and create multiple levels\n",
        "hier_index = pd.MultiIndex.from_tuples(hier_index)\n",
        "print(hier_index)"
      ],
      "execution_count": 0,
      "outputs": [
        {
          "output_type": "stream",
          "text": [
            "[('G1', 1), ('G1', 2), ('G1', 3), ('G2', 1), ('G2', 2), ('G2', 3)]\n",
            "MultiIndex(levels=[['G1', 'G2'], [1, 2, 3]],\n",
            "           labels=[[0, 0, 0, 1, 1, 1], [0, 1, 2, 0, 1, 2]])\n"
          ],
          "name": "stdout"
        }
      ]
    },
    {
      "metadata": {
        "id": "2xapOihJjcp4",
        "colab_type": "code",
        "colab": {},
        "outputId": "878ec068-f09f-45da-8b27-3781de31dd1b"
      },
      "cell_type": "code",
      "source": [
        "df = pd.DataFrame(randn(6,2), hier_index, ['A','B'])\n",
        "df"
      ],
      "execution_count": 0,
      "outputs": [
        {
          "output_type": "execute_result",
          "data": {
            "text/html": [
              "<div>\n",
              "<style scoped>\n",
              "    .dataframe tbody tr th:only-of-type {\n",
              "        vertical-align: middle;\n",
              "    }\n",
              "\n",
              "    .dataframe tbody tr th {\n",
              "        vertical-align: top;\n",
              "    }\n",
              "\n",
              "    .dataframe thead th {\n",
              "        text-align: right;\n",
              "    }\n",
              "</style>\n",
              "<table border=\"1\" class=\"dataframe\">\n",
              "  <thead>\n",
              "    <tr style=\"text-align: right;\">\n",
              "      <th></th>\n",
              "      <th></th>\n",
              "      <th>A</th>\n",
              "      <th>B</th>\n",
              "    </tr>\n",
              "  </thead>\n",
              "  <tbody>\n",
              "    <tr>\n",
              "      <th rowspan=\"3\" valign=\"top\">G1</th>\n",
              "      <th>1</th>\n",
              "      <td>-0.925874</td>\n",
              "      <td>1.862864</td>\n",
              "    </tr>\n",
              "    <tr>\n",
              "      <th>2</th>\n",
              "      <td>-1.133817</td>\n",
              "      <td>0.610478</td>\n",
              "    </tr>\n",
              "    <tr>\n",
              "      <th>3</th>\n",
              "      <td>0.386030</td>\n",
              "      <td>2.084019</td>\n",
              "    </tr>\n",
              "    <tr>\n",
              "      <th rowspan=\"3\" valign=\"top\">G2</th>\n",
              "      <th>1</th>\n",
              "      <td>-0.376519</td>\n",
              "      <td>0.230336</td>\n",
              "    </tr>\n",
              "    <tr>\n",
              "      <th>2</th>\n",
              "      <td>0.681209</td>\n",
              "      <td>1.035125</td>\n",
              "    </tr>\n",
              "    <tr>\n",
              "      <th>3</th>\n",
              "      <td>-0.031160</td>\n",
              "      <td>1.939932</td>\n",
              "    </tr>\n",
              "  </tbody>\n",
              "</table>\n",
              "</div>"
            ],
            "text/plain": [
              "             A         B\n",
              "G1 1 -0.925874  1.862864\n",
              "   2 -1.133817  0.610478\n",
              "   3  0.386030  2.084019\n",
              "G2 1 -0.376519  0.230336\n",
              "   2  0.681209  1.035125\n",
              "   3 -0.031160  1.939932"
            ]
          },
          "metadata": {
            "tags": []
          },
          "execution_count": 157
        }
      ]
    },
    {
      "metadata": {
        "id": "bPB-nxDEjcp7",
        "colab_type": "text"
      },
      "cell_type": "markdown",
      "source": [
        "**Read about the above special function**"
      ]
    },
    {
      "metadata": {
        "id": "gMW4EJHwjcp8",
        "colab_type": "code",
        "colab": {},
        "outputId": "8b8cbc8e-08a7-457f-fb3b-526fab579554"
      },
      "cell_type": "code",
      "source": [
        "#To return the first row as series from above aggregation\n",
        "df.loc['G1'].loc[1]"
      ],
      "execution_count": 0,
      "outputs": [
        {
          "output_type": "execute_result",
          "data": {
            "text/plain": [
              "A   -0.925874\n",
              "B    1.862864\n",
              "Name: 1, dtype: float64"
            ]
          },
          "metadata": {
            "tags": []
          },
          "execution_count": 158
        }
      ]
    },
    {
      "metadata": {
        "id": "Dn95BDMXjcp_",
        "colab_type": "code",
        "colab": {},
        "outputId": "2241002d-a30d-4f81-a514-d09004c95950"
      },
      "cell_type": "code",
      "source": [
        "#We can name the G1, G2 and other indices:\n",
        "df.index.names = ['Groups','Num']\n",
        "df"
      ],
      "execution_count": 0,
      "outputs": [
        {
          "output_type": "execute_result",
          "data": {
            "text/html": [
              "<div>\n",
              "<style scoped>\n",
              "    .dataframe tbody tr th:only-of-type {\n",
              "        vertical-align: middle;\n",
              "    }\n",
              "\n",
              "    .dataframe tbody tr th {\n",
              "        vertical-align: top;\n",
              "    }\n",
              "\n",
              "    .dataframe thead th {\n",
              "        text-align: right;\n",
              "    }\n",
              "</style>\n",
              "<table border=\"1\" class=\"dataframe\">\n",
              "  <thead>\n",
              "    <tr style=\"text-align: right;\">\n",
              "      <th></th>\n",
              "      <th></th>\n",
              "      <th>A</th>\n",
              "      <th>B</th>\n",
              "    </tr>\n",
              "    <tr>\n",
              "      <th>Groups</th>\n",
              "      <th>Num</th>\n",
              "      <th></th>\n",
              "      <th></th>\n",
              "    </tr>\n",
              "  </thead>\n",
              "  <tbody>\n",
              "    <tr>\n",
              "      <th rowspan=\"3\" valign=\"top\">G1</th>\n",
              "      <th>1</th>\n",
              "      <td>-0.925874</td>\n",
              "      <td>1.862864</td>\n",
              "    </tr>\n",
              "    <tr>\n",
              "      <th>2</th>\n",
              "      <td>-1.133817</td>\n",
              "      <td>0.610478</td>\n",
              "    </tr>\n",
              "    <tr>\n",
              "      <th>3</th>\n",
              "      <td>0.386030</td>\n",
              "      <td>2.084019</td>\n",
              "    </tr>\n",
              "    <tr>\n",
              "      <th rowspan=\"3\" valign=\"top\">G2</th>\n",
              "      <th>1</th>\n",
              "      <td>-0.376519</td>\n",
              "      <td>0.230336</td>\n",
              "    </tr>\n",
              "    <tr>\n",
              "      <th>2</th>\n",
              "      <td>0.681209</td>\n",
              "      <td>1.035125</td>\n",
              "    </tr>\n",
              "    <tr>\n",
              "      <th>3</th>\n",
              "      <td>-0.031160</td>\n",
              "      <td>1.939932</td>\n",
              "    </tr>\n",
              "  </tbody>\n",
              "</table>\n",
              "</div>"
            ],
            "text/plain": [
              "                   A         B\n",
              "Groups Num                    \n",
              "G1     1   -0.925874  1.862864\n",
              "       2   -1.133817  0.610478\n",
              "       3    0.386030  2.084019\n",
              "G2     1   -0.376519  0.230336\n",
              "       2    0.681209  1.035125\n",
              "       3   -0.031160  1.939932"
            ]
          },
          "metadata": {
            "tags": []
          },
          "execution_count": 159
        }
      ]
    },
    {
      "metadata": {
        "id": "M1jC7agWjcqC",
        "colab_type": "code",
        "colab": {},
        "outputId": "9fe4b773-a91e-488e-82d5-3675756a3629"
      },
      "cell_type": "code",
      "source": [
        "#TO call a specific value\n",
        "df.loc['G2'].loc[3][1]"
      ],
      "execution_count": 0,
      "outputs": [
        {
          "output_type": "execute_result",
          "data": {
            "text/plain": [
              "1.9399323109926203"
            ]
          },
          "metadata": {
            "tags": []
          },
          "execution_count": 160
        }
      ]
    },
    {
      "metadata": {
        "id": "82RmwWtojcqE",
        "colab_type": "text"
      },
      "cell_type": "markdown",
      "source": [
        "#### Cross Section"
      ]
    },
    {
      "metadata": {
        "id": "8bzjxmC6jcqF",
        "colab_type": "code",
        "colab": {},
        "outputId": "6dec2467-81c7-41a9-eed6-34cb9bc70ddc"
      },
      "cell_type": "code",
      "source": [
        "#To grab everything under G1, the other way is using xs (Cross section)\n",
        "df.xs('G1')"
      ],
      "execution_count": 0,
      "outputs": [
        {
          "output_type": "execute_result",
          "data": {
            "text/html": [
              "<div>\n",
              "<style scoped>\n",
              "    .dataframe tbody tr th:only-of-type {\n",
              "        vertical-align: middle;\n",
              "    }\n",
              "\n",
              "    .dataframe tbody tr th {\n",
              "        vertical-align: top;\n",
              "    }\n",
              "\n",
              "    .dataframe thead th {\n",
              "        text-align: right;\n",
              "    }\n",
              "</style>\n",
              "<table border=\"1\" class=\"dataframe\">\n",
              "  <thead>\n",
              "    <tr style=\"text-align: right;\">\n",
              "      <th></th>\n",
              "      <th>A</th>\n",
              "      <th>B</th>\n",
              "    </tr>\n",
              "    <tr>\n",
              "      <th>Num</th>\n",
              "      <th></th>\n",
              "      <th></th>\n",
              "    </tr>\n",
              "  </thead>\n",
              "  <tbody>\n",
              "    <tr>\n",
              "      <th>1</th>\n",
              "      <td>-0.925874</td>\n",
              "      <td>1.862864</td>\n",
              "    </tr>\n",
              "    <tr>\n",
              "      <th>2</th>\n",
              "      <td>-1.133817</td>\n",
              "      <td>0.610478</td>\n",
              "    </tr>\n",
              "    <tr>\n",
              "      <th>3</th>\n",
              "      <td>0.386030</td>\n",
              "      <td>2.084019</td>\n",
              "    </tr>\n",
              "  </tbody>\n",
              "</table>\n",
              "</div>"
            ],
            "text/plain": [
              "            A         B\n",
              "Num                    \n",
              "1   -0.925874  1.862864\n",
              "2   -1.133817  0.610478\n",
              "3    0.386030  2.084019"
            ]
          },
          "metadata": {
            "tags": []
          },
          "execution_count": 161
        }
      ]
    },
    {
      "metadata": {
        "id": "LyyKIl_MjcqH",
        "colab_type": "text"
      },
      "cell_type": "markdown",
      "source": [
        "The cross section can bypass the levels and filter"
      ]
    },
    {
      "metadata": {
        "id": "3ABogvTujcqJ",
        "colab_type": "code",
        "colab": {},
        "outputId": "f3de65aa-f27a-4ff8-827c-29d2d273b726"
      },
      "cell_type": "code",
      "source": [
        "#Below code will filter 1's in 'Num' column\n",
        "df.xs(1, level = 'Num')"
      ],
      "execution_count": 0,
      "outputs": [
        {
          "output_type": "execute_result",
          "data": {
            "text/html": [
              "<div>\n",
              "<style scoped>\n",
              "    .dataframe tbody tr th:only-of-type {\n",
              "        vertical-align: middle;\n",
              "    }\n",
              "\n",
              "    .dataframe tbody tr th {\n",
              "        vertical-align: top;\n",
              "    }\n",
              "\n",
              "    .dataframe thead th {\n",
              "        text-align: right;\n",
              "    }\n",
              "</style>\n",
              "<table border=\"1\" class=\"dataframe\">\n",
              "  <thead>\n",
              "    <tr style=\"text-align: right;\">\n",
              "      <th></th>\n",
              "      <th>A</th>\n",
              "      <th>B</th>\n",
              "    </tr>\n",
              "    <tr>\n",
              "      <th>Groups</th>\n",
              "      <th></th>\n",
              "      <th></th>\n",
              "    </tr>\n",
              "  </thead>\n",
              "  <tbody>\n",
              "    <tr>\n",
              "      <th>G1</th>\n",
              "      <td>-0.925874</td>\n",
              "      <td>1.862864</td>\n",
              "    </tr>\n",
              "    <tr>\n",
              "      <th>G2</th>\n",
              "      <td>-0.376519</td>\n",
              "      <td>0.230336</td>\n",
              "    </tr>\n",
              "  </tbody>\n",
              "</table>\n",
              "</div>"
            ],
            "text/plain": [
              "               A         B\n",
              "Groups                    \n",
              "G1     -0.925874  1.862864\n",
              "G2     -0.376519  0.230336"
            ]
          },
          "metadata": {
            "tags": []
          },
          "execution_count": 163
        }
      ]
    },
    {
      "metadata": {
        "id": "PwnLJ62OjcqL",
        "colab_type": "text"
      },
      "cell_type": "markdown",
      "source": [
        "## Missing Data Using Pandas"
      ]
    },
    {
      "metadata": {
        "id": "5iwgO46wjcqM",
        "colab_type": "code",
        "colab": {},
        "outputId": "7f6e5bbf-a273-4f2f-92b6-6866053822b8"
      },
      "cell_type": "code",
      "source": [
        "# Creating a dataframe from dictionary\n",
        "d = {'A': [1,2,np.nan], 'B': [5, np.nan, np.nan], 'C': [1,2,3]}\n",
        "df = pd.DataFrame(d)\n",
        "df"
      ],
      "execution_count": 0,
      "outputs": [
        {
          "output_type": "execute_result",
          "data": {
            "text/html": [
              "<div>\n",
              "<style scoped>\n",
              "    .dataframe tbody tr th:only-of-type {\n",
              "        vertical-align: middle;\n",
              "    }\n",
              "\n",
              "    .dataframe tbody tr th {\n",
              "        vertical-align: top;\n",
              "    }\n",
              "\n",
              "    .dataframe thead th {\n",
              "        text-align: right;\n",
              "    }\n",
              "</style>\n",
              "<table border=\"1\" class=\"dataframe\">\n",
              "  <thead>\n",
              "    <tr style=\"text-align: right;\">\n",
              "      <th></th>\n",
              "      <th>A</th>\n",
              "      <th>B</th>\n",
              "      <th>C</th>\n",
              "    </tr>\n",
              "  </thead>\n",
              "  <tbody>\n",
              "    <tr>\n",
              "      <th>0</th>\n",
              "      <td>1.0</td>\n",
              "      <td>5.0</td>\n",
              "      <td>1</td>\n",
              "    </tr>\n",
              "    <tr>\n",
              "      <th>1</th>\n",
              "      <td>2.0</td>\n",
              "      <td>NaN</td>\n",
              "      <td>2</td>\n",
              "    </tr>\n",
              "    <tr>\n",
              "      <th>2</th>\n",
              "      <td>NaN</td>\n",
              "      <td>NaN</td>\n",
              "      <td>3</td>\n",
              "    </tr>\n",
              "  </tbody>\n",
              "</table>\n",
              "</div>"
            ],
            "text/plain": [
              "     A    B  C\n",
              "0  1.0  5.0  1\n",
              "1  2.0  NaN  2\n",
              "2  NaN  NaN  3"
            ]
          },
          "metadata": {
            "tags": []
          },
          "execution_count": 169
        }
      ]
    },
    {
      "metadata": {
        "id": "piGIH7cHjcqO",
        "colab_type": "code",
        "colab": {},
        "outputId": "cc167987-a3ce-4d69-d093-8cfc08cad512"
      },
      "cell_type": "code",
      "source": [
        "#Dropping any rows with null values\n",
        "df.dropna()\n"
      ],
      "execution_count": 0,
      "outputs": [
        {
          "output_type": "execute_result",
          "data": {
            "text/html": [
              "<div>\n",
              "<style scoped>\n",
              "    .dataframe tbody tr th:only-of-type {\n",
              "        vertical-align: middle;\n",
              "    }\n",
              "\n",
              "    .dataframe tbody tr th {\n",
              "        vertical-align: top;\n",
              "    }\n",
              "\n",
              "    .dataframe thead th {\n",
              "        text-align: right;\n",
              "    }\n",
              "</style>\n",
              "<table border=\"1\" class=\"dataframe\">\n",
              "  <thead>\n",
              "    <tr style=\"text-align: right;\">\n",
              "      <th></th>\n",
              "      <th>A</th>\n",
              "      <th>B</th>\n",
              "      <th>C</th>\n",
              "    </tr>\n",
              "  </thead>\n",
              "  <tbody>\n",
              "    <tr>\n",
              "      <th>0</th>\n",
              "      <td>1.0</td>\n",
              "      <td>5.0</td>\n",
              "      <td>1</td>\n",
              "    </tr>\n",
              "  </tbody>\n",
              "</table>\n",
              "</div>"
            ],
            "text/plain": [
              "     A    B  C\n",
              "0  1.0  5.0  1"
            ]
          },
          "metadata": {
            "tags": []
          },
          "execution_count": 170
        }
      ]
    },
    {
      "metadata": {
        "id": "3-pNW53ljcqT",
        "colab_type": "text"
      },
      "cell_type": "markdown",
      "source": [
        "By Specifying axis = 1, we can drop columns instead"
      ]
    },
    {
      "metadata": {
        "id": "akZ8zkRWjcqV",
        "colab_type": "code",
        "colab": {},
        "outputId": "bbebe991-2c6a-466c-9250-e801b2072533"
      },
      "cell_type": "code",
      "source": [
        "# We can specify threshold to drop only if the nuber of na's is greater than threshold\n",
        "df.dropna(thresh = 2)"
      ],
      "execution_count": 0,
      "outputs": [
        {
          "output_type": "execute_result",
          "data": {
            "text/html": [
              "<div>\n",
              "<style scoped>\n",
              "    .dataframe tbody tr th:only-of-type {\n",
              "        vertical-align: middle;\n",
              "    }\n",
              "\n",
              "    .dataframe tbody tr th {\n",
              "        vertical-align: top;\n",
              "    }\n",
              "\n",
              "    .dataframe thead th {\n",
              "        text-align: right;\n",
              "    }\n",
              "</style>\n",
              "<table border=\"1\" class=\"dataframe\">\n",
              "  <thead>\n",
              "    <tr style=\"text-align: right;\">\n",
              "      <th></th>\n",
              "      <th>A</th>\n",
              "      <th>B</th>\n",
              "      <th>C</th>\n",
              "    </tr>\n",
              "  </thead>\n",
              "  <tbody>\n",
              "    <tr>\n",
              "      <th>0</th>\n",
              "      <td>1.0</td>\n",
              "      <td>5.0</td>\n",
              "      <td>1</td>\n",
              "    </tr>\n",
              "    <tr>\n",
              "      <th>1</th>\n",
              "      <td>2.0</td>\n",
              "      <td>NaN</td>\n",
              "      <td>2</td>\n",
              "    </tr>\n",
              "  </tbody>\n",
              "</table>\n",
              "</div>"
            ],
            "text/plain": [
              "     A    B  C\n",
              "0  1.0  5.0  1\n",
              "1  2.0  NaN  2"
            ]
          },
          "metadata": {
            "tags": []
          },
          "execution_count": 171
        }
      ]
    },
    {
      "metadata": {
        "id": "QA9BUd4Bjcqa",
        "colab_type": "code",
        "colab": {},
        "outputId": "1f781b02-474f-4864-a1b0-5980f1b5234e"
      },
      "cell_type": "code",
      "source": [
        "# We can use fillna method to fill the missing values instead\n",
        "df.fillna(value = 'FILL VALUE')"
      ],
      "execution_count": 0,
      "outputs": [
        {
          "output_type": "execute_result",
          "data": {
            "text/html": [
              "<div>\n",
              "<style scoped>\n",
              "    .dataframe tbody tr th:only-of-type {\n",
              "        vertical-align: middle;\n",
              "    }\n",
              "\n",
              "    .dataframe tbody tr th {\n",
              "        vertical-align: top;\n",
              "    }\n",
              "\n",
              "    .dataframe thead th {\n",
              "        text-align: right;\n",
              "    }\n",
              "</style>\n",
              "<table border=\"1\" class=\"dataframe\">\n",
              "  <thead>\n",
              "    <tr style=\"text-align: right;\">\n",
              "      <th></th>\n",
              "      <th>A</th>\n",
              "      <th>B</th>\n",
              "      <th>C</th>\n",
              "    </tr>\n",
              "  </thead>\n",
              "  <tbody>\n",
              "    <tr>\n",
              "      <th>0</th>\n",
              "      <td>1</td>\n",
              "      <td>5</td>\n",
              "      <td>1</td>\n",
              "    </tr>\n",
              "    <tr>\n",
              "      <th>1</th>\n",
              "      <td>2</td>\n",
              "      <td>FILL VALUE</td>\n",
              "      <td>2</td>\n",
              "    </tr>\n",
              "    <tr>\n",
              "      <th>2</th>\n",
              "      <td>FILL VALUE</td>\n",
              "      <td>FILL VALUE</td>\n",
              "      <td>3</td>\n",
              "    </tr>\n",
              "  </tbody>\n",
              "</table>\n",
              "</div>"
            ],
            "text/plain": [
              "            A           B  C\n",
              "0           1           5  1\n",
              "1           2  FILL VALUE  2\n",
              "2  FILL VALUE  FILL VALUE  3"
            ]
          },
          "metadata": {
            "tags": []
          },
          "execution_count": 172
        }
      ]
    },
    {
      "metadata": {
        "id": "WpIhQyEPjcqd",
        "colab_type": "code",
        "colab": {},
        "outputId": "b14cdace-f720-4815-e980-cbb398e4622c"
      },
      "cell_type": "code",
      "source": [
        "# Instead, filling with mean\n",
        "df.fillna(value=df['A'].mean())"
      ],
      "execution_count": 0,
      "outputs": [
        {
          "output_type": "execute_result",
          "data": {
            "text/html": [
              "<div>\n",
              "<style scoped>\n",
              "    .dataframe tbody tr th:only-of-type {\n",
              "        vertical-align: middle;\n",
              "    }\n",
              "\n",
              "    .dataframe tbody tr th {\n",
              "        vertical-align: top;\n",
              "    }\n",
              "\n",
              "    .dataframe thead th {\n",
              "        text-align: right;\n",
              "    }\n",
              "</style>\n",
              "<table border=\"1\" class=\"dataframe\">\n",
              "  <thead>\n",
              "    <tr style=\"text-align: right;\">\n",
              "      <th></th>\n",
              "      <th>A</th>\n",
              "      <th>B</th>\n",
              "      <th>C</th>\n",
              "    </tr>\n",
              "  </thead>\n",
              "  <tbody>\n",
              "    <tr>\n",
              "      <th>0</th>\n",
              "      <td>1.0</td>\n",
              "      <td>5.0</td>\n",
              "      <td>1</td>\n",
              "    </tr>\n",
              "    <tr>\n",
              "      <th>1</th>\n",
              "      <td>2.0</td>\n",
              "      <td>1.5</td>\n",
              "      <td>2</td>\n",
              "    </tr>\n",
              "    <tr>\n",
              "      <th>2</th>\n",
              "      <td>1.5</td>\n",
              "      <td>1.5</td>\n",
              "      <td>3</td>\n",
              "    </tr>\n",
              "  </tbody>\n",
              "</table>\n",
              "</div>"
            ],
            "text/plain": [
              "     A    B  C\n",
              "0  1.0  5.0  1\n",
              "1  2.0  1.5  2\n",
              "2  1.5  1.5  3"
            ]
          },
          "metadata": {
            "tags": []
          },
          "execution_count": 174
        }
      ]
    },
    {
      "metadata": {
        "id": "lhm1oJAijcqf",
        "colab_type": "text"
      },
      "cell_type": "markdown",
      "source": [
        "## Group By"
      ]
    },
    {
      "metadata": {
        "id": "0LvbeRRfjcqg",
        "colab_type": "text"
      },
      "cell_type": "markdown",
      "source": [
        "Used for aggregations"
      ]
    },
    {
      "metadata": {
        "id": "qIO0ArF3jcqi",
        "colab_type": "code",
        "colab": {},
        "outputId": "1cda433a-6531-460c-9358-7690cb40bd34"
      },
      "cell_type": "code",
      "source": [
        "#Creating a DataFrame\n",
        "data = {'Company':['GOOG','GOOG','MSFT','MSFT','FB','FB'],\n",
        "        'Person':['Sam','Charlie','Amy','Vanessa','Carl','Sarah'],\n",
        "        'Sales':[200,120,340,124,243,350]}\n",
        "df=pd.DataFrame(data)\n",
        "df"
      ],
      "execution_count": 0,
      "outputs": [
        {
          "output_type": "execute_result",
          "data": {
            "text/html": [
              "<div>\n",
              "<style scoped>\n",
              "    .dataframe tbody tr th:only-of-type {\n",
              "        vertical-align: middle;\n",
              "    }\n",
              "\n",
              "    .dataframe tbody tr th {\n",
              "        vertical-align: top;\n",
              "    }\n",
              "\n",
              "    .dataframe thead th {\n",
              "        text-align: right;\n",
              "    }\n",
              "</style>\n",
              "<table border=\"1\" class=\"dataframe\">\n",
              "  <thead>\n",
              "    <tr style=\"text-align: right;\">\n",
              "      <th></th>\n",
              "      <th>Company</th>\n",
              "      <th>Person</th>\n",
              "      <th>Sales</th>\n",
              "    </tr>\n",
              "  </thead>\n",
              "  <tbody>\n",
              "    <tr>\n",
              "      <th>0</th>\n",
              "      <td>GOOG</td>\n",
              "      <td>Sam</td>\n",
              "      <td>200</td>\n",
              "    </tr>\n",
              "    <tr>\n",
              "      <th>1</th>\n",
              "      <td>GOOG</td>\n",
              "      <td>Charlie</td>\n",
              "      <td>120</td>\n",
              "    </tr>\n",
              "    <tr>\n",
              "      <th>2</th>\n",
              "      <td>MSFT</td>\n",
              "      <td>Amy</td>\n",
              "      <td>340</td>\n",
              "    </tr>\n",
              "    <tr>\n",
              "      <th>3</th>\n",
              "      <td>MSFT</td>\n",
              "      <td>Vanessa</td>\n",
              "      <td>124</td>\n",
              "    </tr>\n",
              "    <tr>\n",
              "      <th>4</th>\n",
              "      <td>FB</td>\n",
              "      <td>Carl</td>\n",
              "      <td>243</td>\n",
              "    </tr>\n",
              "    <tr>\n",
              "      <th>5</th>\n",
              "      <td>FB</td>\n",
              "      <td>Sarah</td>\n",
              "      <td>350</td>\n",
              "    </tr>\n",
              "  </tbody>\n",
              "</table>\n",
              "</div>"
            ],
            "text/plain": [
              "  Company   Person  Sales\n",
              "0    GOOG      Sam    200\n",
              "1    GOOG  Charlie    120\n",
              "2    MSFT      Amy    340\n",
              "3    MSFT  Vanessa    124\n",
              "4      FB     Carl    243\n",
              "5      FB    Sarah    350"
            ]
          },
          "metadata": {
            "tags": []
          },
          "execution_count": 181
        }
      ]
    },
    {
      "metadata": {
        "id": "jYn2fs-ljcql",
        "colab_type": "code",
        "colab": {},
        "outputId": "b4bc1fd5-1e91-4adb-e756-1cb56b9e6974"
      },
      "cell_type": "code",
      "source": [
        "#This command groups by the column we gave and then stores it at a certain memory location\n",
        "df.groupby('Company')"
      ],
      "execution_count": 0,
      "outputs": [
        {
          "output_type": "execute_result",
          "data": {
            "text/plain": [
              "<pandas.core.groupby.groupby.DataFrameGroupBy object at 0x000002206CBEBBE0>"
            ]
          },
          "metadata": {
            "tags": []
          },
          "execution_count": 183
        }
      ]
    },
    {
      "metadata": {
        "id": "0xSdise9jcqp",
        "colab_type": "code",
        "colab": {}
      },
      "cell_type": "code",
      "source": [
        "byComp = df.groupby('Company')"
      ],
      "execution_count": 0,
      "outputs": []
    },
    {
      "metadata": {
        "id": "m2mW-x81jcqt",
        "colab_type": "code",
        "colab": {},
        "outputId": "1d04d708-510a-40a2-e149-19743235e852"
      },
      "cell_type": "code",
      "source": [
        "#The below aggregate functions will ignore any non-numeric columns\n",
        "byComp.sum()"
      ],
      "execution_count": 0,
      "outputs": [
        {
          "output_type": "execute_result",
          "data": {
            "text/html": [
              "<div>\n",
              "<style scoped>\n",
              "    .dataframe tbody tr th:only-of-type {\n",
              "        vertical-align: middle;\n",
              "    }\n",
              "\n",
              "    .dataframe tbody tr th {\n",
              "        vertical-align: top;\n",
              "    }\n",
              "\n",
              "    .dataframe thead th {\n",
              "        text-align: right;\n",
              "    }\n",
              "</style>\n",
              "<table border=\"1\" class=\"dataframe\">\n",
              "  <thead>\n",
              "    <tr style=\"text-align: right;\">\n",
              "      <th></th>\n",
              "      <th>Sales</th>\n",
              "    </tr>\n",
              "    <tr>\n",
              "      <th>Company</th>\n",
              "      <th></th>\n",
              "    </tr>\n",
              "  </thead>\n",
              "  <tbody>\n",
              "    <tr>\n",
              "      <th>FB</th>\n",
              "      <td>593</td>\n",
              "    </tr>\n",
              "    <tr>\n",
              "      <th>GOOG</th>\n",
              "      <td>320</td>\n",
              "    </tr>\n",
              "    <tr>\n",
              "      <th>MSFT</th>\n",
              "      <td>464</td>\n",
              "    </tr>\n",
              "  </tbody>\n",
              "</table>\n",
              "</div>"
            ],
            "text/plain": [
              "         Sales\n",
              "Company       \n",
              "FB         593\n",
              "GOOG       320\n",
              "MSFT       464"
            ]
          },
          "metadata": {
            "tags": []
          },
          "execution_count": 186
        }
      ]
    },
    {
      "metadata": {
        "id": "f47ygamijcqw",
        "colab_type": "code",
        "colab": {},
        "outputId": "a5ddfb77-5d75-4f65-ae30-4152fd6e6ef5"
      },
      "cell_type": "code",
      "source": [
        "byComp.mean()"
      ],
      "execution_count": 0,
      "outputs": [
        {
          "output_type": "execute_result",
          "data": {
            "text/html": [
              "<div>\n",
              "<style scoped>\n",
              "    .dataframe tbody tr th:only-of-type {\n",
              "        vertical-align: middle;\n",
              "    }\n",
              "\n",
              "    .dataframe tbody tr th {\n",
              "        vertical-align: top;\n",
              "    }\n",
              "\n",
              "    .dataframe thead th {\n",
              "        text-align: right;\n",
              "    }\n",
              "</style>\n",
              "<table border=\"1\" class=\"dataframe\">\n",
              "  <thead>\n",
              "    <tr style=\"text-align: right;\">\n",
              "      <th></th>\n",
              "      <th>Sales</th>\n",
              "    </tr>\n",
              "    <tr>\n",
              "      <th>Company</th>\n",
              "      <th></th>\n",
              "    </tr>\n",
              "  </thead>\n",
              "  <tbody>\n",
              "    <tr>\n",
              "      <th>FB</th>\n",
              "      <td>296.5</td>\n",
              "    </tr>\n",
              "    <tr>\n",
              "      <th>GOOG</th>\n",
              "      <td>160.0</td>\n",
              "    </tr>\n",
              "    <tr>\n",
              "      <th>MSFT</th>\n",
              "      <td>232.0</td>\n",
              "    </tr>\n",
              "  </tbody>\n",
              "</table>\n",
              "</div>"
            ],
            "text/plain": [
              "         Sales\n",
              "Company       \n",
              "FB       296.5\n",
              "GOOG     160.0\n",
              "MSFT     232.0"
            ]
          },
          "metadata": {
            "tags": []
          },
          "execution_count": 187
        }
      ]
    },
    {
      "metadata": {
        "id": "t5g33RHejcqz",
        "colab_type": "code",
        "colab": {},
        "outputId": "539b863a-cf91-4356-eb92-d443d512a7e7"
      },
      "cell_type": "code",
      "source": [
        "byComp.std()"
      ],
      "execution_count": 0,
      "outputs": [
        {
          "output_type": "execute_result",
          "data": {
            "text/html": [
              "<div>\n",
              "<style scoped>\n",
              "    .dataframe tbody tr th:only-of-type {\n",
              "        vertical-align: middle;\n",
              "    }\n",
              "\n",
              "    .dataframe tbody tr th {\n",
              "        vertical-align: top;\n",
              "    }\n",
              "\n",
              "    .dataframe thead th {\n",
              "        text-align: right;\n",
              "    }\n",
              "</style>\n",
              "<table border=\"1\" class=\"dataframe\">\n",
              "  <thead>\n",
              "    <tr style=\"text-align: right;\">\n",
              "      <th></th>\n",
              "      <th>Sales</th>\n",
              "    </tr>\n",
              "    <tr>\n",
              "      <th>Company</th>\n",
              "      <th></th>\n",
              "    </tr>\n",
              "  </thead>\n",
              "  <tbody>\n",
              "    <tr>\n",
              "      <th>FB</th>\n",
              "      <td>75.660426</td>\n",
              "    </tr>\n",
              "    <tr>\n",
              "      <th>GOOG</th>\n",
              "      <td>56.568542</td>\n",
              "    </tr>\n",
              "    <tr>\n",
              "      <th>MSFT</th>\n",
              "      <td>152.735065</td>\n",
              "    </tr>\n",
              "  </tbody>\n",
              "</table>\n",
              "</div>"
            ],
            "text/plain": [
              "              Sales\n",
              "Company            \n",
              "FB        75.660426\n",
              "GOOG      56.568542\n",
              "MSFT     152.735065"
            ]
          },
          "metadata": {
            "tags": []
          },
          "execution_count": 189
        }
      ]
    },
    {
      "metadata": {
        "id": "J3qOzS2rjcq0",
        "colab_type": "code",
        "colab": {},
        "outputId": "0b4d49fc-3a92-4243-d795-c3916f49931f"
      },
      "cell_type": "code",
      "source": [
        "#Filtering after grouping\n",
        "byComp.sum().loc['FB']"
      ],
      "execution_count": 0,
      "outputs": [
        {
          "output_type": "execute_result",
          "data": {
            "text/plain": [
              "Sales    593\n",
              "Name: FB, dtype: int64"
            ]
          },
          "metadata": {
            "tags": []
          },
          "execution_count": 190
        }
      ]
    },
    {
      "metadata": {
        "id": "Pc0WqnmDjcq2",
        "colab_type": "code",
        "colab": {},
        "outputId": "cf9d2409-00b6-41ad-e281-84743bdb82cd"
      },
      "cell_type": "code",
      "source": [
        "#We can call all of above steps in 1 line\n",
        "df.groupby('Company').sum().loc['FB']"
      ],
      "execution_count": 0,
      "outputs": [
        {
          "output_type": "execute_result",
          "data": {
            "text/html": [
              "<div>\n",
              "<style scoped>\n",
              "    .dataframe tbody tr th:only-of-type {\n",
              "        vertical-align: middle;\n",
              "    }\n",
              "\n",
              "    .dataframe tbody tr th {\n",
              "        vertical-align: top;\n",
              "    }\n",
              "\n",
              "    .dataframe thead th {\n",
              "        text-align: right;\n",
              "    }\n",
              "</style>\n",
              "<table border=\"1\" class=\"dataframe\">\n",
              "  <thead>\n",
              "    <tr style=\"text-align: right;\">\n",
              "      <th></th>\n",
              "      <th>Person</th>\n",
              "      <th>Sales</th>\n",
              "    </tr>\n",
              "    <tr>\n",
              "      <th>Company</th>\n",
              "      <th></th>\n",
              "      <th></th>\n",
              "    </tr>\n",
              "  </thead>\n",
              "  <tbody>\n",
              "    <tr>\n",
              "      <th>FB</th>\n",
              "      <td>2</td>\n",
              "      <td>2</td>\n",
              "    </tr>\n",
              "    <tr>\n",
              "      <th>GOOG</th>\n",
              "      <td>2</td>\n",
              "      <td>2</td>\n",
              "    </tr>\n",
              "    <tr>\n",
              "      <th>MSFT</th>\n",
              "      <td>2</td>\n",
              "      <td>2</td>\n",
              "    </tr>\n",
              "  </tbody>\n",
              "</table>\n",
              "</div>"
            ],
            "text/plain": [
              "         Person  Sales\n",
              "Company               \n",
              "FB            2      2\n",
              "GOOG          2      2\n",
              "MSFT          2      2"
            ]
          },
          "metadata": {
            "tags": []
          },
          "execution_count": 192
        }
      ]
    },
    {
      "metadata": {
        "id": "XnrFEVkyjcq5",
        "colab_type": "code",
        "colab": {},
        "outputId": "7eec07f2-2f79-475a-9f29-85cd5fb69e86"
      },
      "cell_type": "code",
      "source": [
        "df.groupby('Company').count()"
      ],
      "execution_count": 0,
      "outputs": [
        {
          "output_type": "execute_result",
          "data": {
            "text/html": [
              "<div>\n",
              "<style scoped>\n",
              "    .dataframe tbody tr th:only-of-type {\n",
              "        vertical-align: middle;\n",
              "    }\n",
              "\n",
              "    .dataframe tbody tr th {\n",
              "        vertical-align: top;\n",
              "    }\n",
              "\n",
              "    .dataframe thead th {\n",
              "        text-align: right;\n",
              "    }\n",
              "</style>\n",
              "<table border=\"1\" class=\"dataframe\">\n",
              "  <thead>\n",
              "    <tr style=\"text-align: right;\">\n",
              "      <th></th>\n",
              "      <th>Person</th>\n",
              "      <th>Sales</th>\n",
              "    </tr>\n",
              "    <tr>\n",
              "      <th>Company</th>\n",
              "      <th></th>\n",
              "      <th></th>\n",
              "    </tr>\n",
              "  </thead>\n",
              "  <tbody>\n",
              "    <tr>\n",
              "      <th>FB</th>\n",
              "      <td>2</td>\n",
              "      <td>2</td>\n",
              "    </tr>\n",
              "    <tr>\n",
              "      <th>GOOG</th>\n",
              "      <td>2</td>\n",
              "      <td>2</td>\n",
              "    </tr>\n",
              "    <tr>\n",
              "      <th>MSFT</th>\n",
              "      <td>2</td>\n",
              "      <td>2</td>\n",
              "    </tr>\n",
              "  </tbody>\n",
              "</table>\n",
              "</div>"
            ],
            "text/plain": [
              "         Person  Sales\n",
              "Company               \n",
              "FB            2      2\n",
              "GOOG          2      2\n",
              "MSFT          2      2"
            ]
          },
          "metadata": {
            "tags": []
          },
          "execution_count": 193
        }
      ]
    },
    {
      "metadata": {
        "id": "WqkbFVKQjcq7",
        "colab_type": "code",
        "colab": {},
        "outputId": "cc5d8968-c4fa-4813-dad1-e159cddcbcf4"
      },
      "cell_type": "code",
      "source": [
        "df.groupby('Company').min()"
      ],
      "execution_count": 0,
      "outputs": [
        {
          "output_type": "execute_result",
          "data": {
            "text/html": [
              "<div>\n",
              "<style scoped>\n",
              "    .dataframe tbody tr th:only-of-type {\n",
              "        vertical-align: middle;\n",
              "    }\n",
              "\n",
              "    .dataframe tbody tr th {\n",
              "        vertical-align: top;\n",
              "    }\n",
              "\n",
              "    .dataframe thead th {\n",
              "        text-align: right;\n",
              "    }\n",
              "</style>\n",
              "<table border=\"1\" class=\"dataframe\">\n",
              "  <thead>\n",
              "    <tr style=\"text-align: right;\">\n",
              "      <th></th>\n",
              "      <th>Person</th>\n",
              "      <th>Sales</th>\n",
              "    </tr>\n",
              "    <tr>\n",
              "      <th>Company</th>\n",
              "      <th></th>\n",
              "      <th></th>\n",
              "    </tr>\n",
              "  </thead>\n",
              "  <tbody>\n",
              "    <tr>\n",
              "      <th>FB</th>\n",
              "      <td>Carl</td>\n",
              "      <td>243</td>\n",
              "    </tr>\n",
              "    <tr>\n",
              "      <th>GOOG</th>\n",
              "      <td>Charlie</td>\n",
              "      <td>120</td>\n",
              "    </tr>\n",
              "    <tr>\n",
              "      <th>MSFT</th>\n",
              "      <td>Amy</td>\n",
              "      <td>124</td>\n",
              "    </tr>\n",
              "  </tbody>\n",
              "</table>\n",
              "</div>"
            ],
            "text/plain": [
              "          Person  Sales\n",
              "Company                \n",
              "FB          Carl    243\n",
              "GOOG     Charlie    120\n",
              "MSFT         Amy    124"
            ]
          },
          "metadata": {
            "tags": []
          },
          "execution_count": 194
        }
      ]
    },
    {
      "metadata": {
        "scrolled": true,
        "id": "y4yau4gFjcq-",
        "colab_type": "code",
        "colab": {},
        "outputId": "b6667edd-f50c-41ba-a031-f970ed720189"
      },
      "cell_type": "code",
      "source": [
        "# We can use describe to get everything at once\n",
        "df.groupby('Company').describe()"
      ],
      "execution_count": 0,
      "outputs": [
        {
          "output_type": "execute_result",
          "data": {
            "text/html": [
              "<div>\n",
              "<style scoped>\n",
              "    .dataframe tbody tr th:only-of-type {\n",
              "        vertical-align: middle;\n",
              "    }\n",
              "\n",
              "    .dataframe tbody tr th {\n",
              "        vertical-align: top;\n",
              "    }\n",
              "\n",
              "    .dataframe thead tr th {\n",
              "        text-align: left;\n",
              "    }\n",
              "\n",
              "    .dataframe thead tr:last-of-type th {\n",
              "        text-align: right;\n",
              "    }\n",
              "</style>\n",
              "<table border=\"1\" class=\"dataframe\">\n",
              "  <thead>\n",
              "    <tr>\n",
              "      <th></th>\n",
              "      <th colspan=\"8\" halign=\"left\">Sales</th>\n",
              "    </tr>\n",
              "    <tr>\n",
              "      <th></th>\n",
              "      <th>count</th>\n",
              "      <th>mean</th>\n",
              "      <th>std</th>\n",
              "      <th>min</th>\n",
              "      <th>25%</th>\n",
              "      <th>50%</th>\n",
              "      <th>75%</th>\n",
              "      <th>max</th>\n",
              "    </tr>\n",
              "    <tr>\n",
              "      <th>Company</th>\n",
              "      <th></th>\n",
              "      <th></th>\n",
              "      <th></th>\n",
              "      <th></th>\n",
              "      <th></th>\n",
              "      <th></th>\n",
              "      <th></th>\n",
              "      <th></th>\n",
              "    </tr>\n",
              "  </thead>\n",
              "  <tbody>\n",
              "    <tr>\n",
              "      <th>FB</th>\n",
              "      <td>2.0</td>\n",
              "      <td>296.5</td>\n",
              "      <td>75.660426</td>\n",
              "      <td>243.0</td>\n",
              "      <td>269.75</td>\n",
              "      <td>296.5</td>\n",
              "      <td>323.25</td>\n",
              "      <td>350.0</td>\n",
              "    </tr>\n",
              "    <tr>\n",
              "      <th>GOOG</th>\n",
              "      <td>2.0</td>\n",
              "      <td>160.0</td>\n",
              "      <td>56.568542</td>\n",
              "      <td>120.0</td>\n",
              "      <td>140.00</td>\n",
              "      <td>160.0</td>\n",
              "      <td>180.00</td>\n",
              "      <td>200.0</td>\n",
              "    </tr>\n",
              "    <tr>\n",
              "      <th>MSFT</th>\n",
              "      <td>2.0</td>\n",
              "      <td>232.0</td>\n",
              "      <td>152.735065</td>\n",
              "      <td>124.0</td>\n",
              "      <td>178.00</td>\n",
              "      <td>232.0</td>\n",
              "      <td>286.00</td>\n",
              "      <td>340.0</td>\n",
              "    </tr>\n",
              "  </tbody>\n",
              "</table>\n",
              "</div>"
            ],
            "text/plain": [
              "        Sales                                                        \n",
              "        count   mean         std    min     25%    50%     75%    max\n",
              "Company                                                              \n",
              "FB        2.0  296.5   75.660426  243.0  269.75  296.5  323.25  350.0\n",
              "GOOG      2.0  160.0   56.568542  120.0  140.00  160.0  180.00  200.0\n",
              "MSFT      2.0  232.0  152.735065  124.0  178.00  232.0  286.00  340.0"
            ]
          },
          "metadata": {
            "tags": []
          },
          "execution_count": 196
        }
      ]
    },
    {
      "metadata": {
        "id": "tqpZD5f0jcrA",
        "colab_type": "raw"
      },
      "cell_type": "markdown",
      "source": [
        ""
      ]
    },
    {
      "metadata": {
        "id": "VeE8uWSnjcrA",
        "colab_type": "code",
        "colab": {},
        "outputId": "83b94a9c-38d8-4f3f-8c2f-796fdc8c8ae8"
      },
      "cell_type": "code",
      "source": [
        "#You can transpose the results using this\n",
        "df.groupby('Company').describe().transpose()['FB']"
      ],
      "execution_count": 0,
      "outputs": [
        {
          "output_type": "execute_result",
          "data": {
            "text/plain": [
              "Sales  count      2.000000\n",
              "       mean     296.500000\n",
              "       std       75.660426\n",
              "       min      243.000000\n",
              "       25%      269.750000\n",
              "       50%      296.500000\n",
              "       75%      323.250000\n",
              "       max      350.000000\n",
              "Name: FB, dtype: float64"
            ]
          },
          "metadata": {
            "tags": []
          },
          "execution_count": 199
        }
      ]
    },
    {
      "metadata": {
        "id": "Pzq76gMajcrC",
        "colab_type": "text"
      },
      "cell_type": "markdown",
      "source": [
        "## Merging, Joining and Concatenating"
      ]
    },
    {
      "metadata": {
        "id": "2X81mFLcjcrC",
        "colab_type": "code",
        "colab": {}
      },
      "cell_type": "code",
      "source": [
        "#Creating the dataset\n",
        "df1 = pd.DataFrame({'A': ['A0', 'A1', 'A2', 'A3'],\n",
        "                        'B': ['B0', 'B1', 'B2', 'B3'],\n",
        "                        'C': ['C0', 'C1', 'C2', 'C3'],\n",
        "                        'D': ['D0', 'D1', 'D2', 'D3']},\n",
        "                        index=[0, 1, 2, 3])\n",
        "df2 = pd.DataFrame({'A': ['A4', 'A5', 'A6', 'A7'],\n",
        "                        'B': ['B4', 'B5', 'B6', 'B7'],\n",
        "                        'C': ['C4', 'C5', 'C6', 'C7'],\n",
        "                        'D': ['D4', 'D5', 'D6', 'D7']},\n",
        "                         index=[4, 5, 6, 7]) \n",
        "df3 = pd.DataFrame({'A': ['A8', 'A9', 'A10', 'A11'],\n",
        "                        'B': ['B8', 'B9', 'B10', 'B11'],\n",
        "                        'C': ['C8', 'C9', 'C10', 'C11'],\n",
        "                        'D': ['D8', 'D9', 'D10', 'D11']},\n",
        "                        index=[8, 9, 10, 11])\n"
      ],
      "execution_count": 0,
      "outputs": []
    },
    {
      "metadata": {
        "id": "wngfjVNbjcrD",
        "colab_type": "code",
        "colab": {},
        "outputId": "94be11a9-5df6-485a-88f9-8574e63b6189"
      },
      "cell_type": "code",
      "source": [
        "df1"
      ],
      "execution_count": 0,
      "outputs": [
        {
          "output_type": "execute_result",
          "data": {
            "text/html": [
              "<div>\n",
              "<style scoped>\n",
              "    .dataframe tbody tr th:only-of-type {\n",
              "        vertical-align: middle;\n",
              "    }\n",
              "\n",
              "    .dataframe tbody tr th {\n",
              "        vertical-align: top;\n",
              "    }\n",
              "\n",
              "    .dataframe thead th {\n",
              "        text-align: right;\n",
              "    }\n",
              "</style>\n",
              "<table border=\"1\" class=\"dataframe\">\n",
              "  <thead>\n",
              "    <tr style=\"text-align: right;\">\n",
              "      <th></th>\n",
              "      <th>A</th>\n",
              "      <th>B</th>\n",
              "      <th>C</th>\n",
              "      <th>D</th>\n",
              "    </tr>\n",
              "  </thead>\n",
              "  <tbody>\n",
              "    <tr>\n",
              "      <th>0</th>\n",
              "      <td>A0</td>\n",
              "      <td>B0</td>\n",
              "      <td>C0</td>\n",
              "      <td>D0</td>\n",
              "    </tr>\n",
              "    <tr>\n",
              "      <th>1</th>\n",
              "      <td>A1</td>\n",
              "      <td>B1</td>\n",
              "      <td>C1</td>\n",
              "      <td>D1</td>\n",
              "    </tr>\n",
              "    <tr>\n",
              "      <th>2</th>\n",
              "      <td>A2</td>\n",
              "      <td>B2</td>\n",
              "      <td>C2</td>\n",
              "      <td>D2</td>\n",
              "    </tr>\n",
              "    <tr>\n",
              "      <th>3</th>\n",
              "      <td>A3</td>\n",
              "      <td>B3</td>\n",
              "      <td>C3</td>\n",
              "      <td>D3</td>\n",
              "    </tr>\n",
              "  </tbody>\n",
              "</table>\n",
              "</div>"
            ],
            "text/plain": [
              "    A   B   C   D\n",
              "0  A0  B0  C0  D0\n",
              "1  A1  B1  C1  D1\n",
              "2  A2  B2  C2  D2\n",
              "3  A3  B3  C3  D3"
            ]
          },
          "metadata": {
            "tags": []
          },
          "execution_count": 202
        }
      ]
    },
    {
      "metadata": {
        "id": "bNpG1jcvjcrE",
        "colab_type": "code",
        "colab": {},
        "outputId": "a2f5ab87-0593-47f2-f75a-c02c6902119e"
      },
      "cell_type": "code",
      "source": [
        "df2"
      ],
      "execution_count": 0,
      "outputs": [
        {
          "output_type": "execute_result",
          "data": {
            "text/html": [
              "<div>\n",
              "<style scoped>\n",
              "    .dataframe tbody tr th:only-of-type {\n",
              "        vertical-align: middle;\n",
              "    }\n",
              "\n",
              "    .dataframe tbody tr th {\n",
              "        vertical-align: top;\n",
              "    }\n",
              "\n",
              "    .dataframe thead th {\n",
              "        text-align: right;\n",
              "    }\n",
              "</style>\n",
              "<table border=\"1\" class=\"dataframe\">\n",
              "  <thead>\n",
              "    <tr style=\"text-align: right;\">\n",
              "      <th></th>\n",
              "      <th>A</th>\n",
              "      <th>B</th>\n",
              "      <th>C</th>\n",
              "      <th>D</th>\n",
              "    </tr>\n",
              "  </thead>\n",
              "  <tbody>\n",
              "    <tr>\n",
              "      <th>4</th>\n",
              "      <td>A4</td>\n",
              "      <td>B4</td>\n",
              "      <td>C4</td>\n",
              "      <td>D4</td>\n",
              "    </tr>\n",
              "    <tr>\n",
              "      <th>5</th>\n",
              "      <td>A5</td>\n",
              "      <td>B5</td>\n",
              "      <td>C5</td>\n",
              "      <td>D5</td>\n",
              "    </tr>\n",
              "    <tr>\n",
              "      <th>6</th>\n",
              "      <td>A6</td>\n",
              "      <td>B6</td>\n",
              "      <td>C6</td>\n",
              "      <td>D6</td>\n",
              "    </tr>\n",
              "    <tr>\n",
              "      <th>7</th>\n",
              "      <td>A7</td>\n",
              "      <td>B7</td>\n",
              "      <td>C7</td>\n",
              "      <td>D7</td>\n",
              "    </tr>\n",
              "  </tbody>\n",
              "</table>\n",
              "</div>"
            ],
            "text/plain": [
              "    A   B   C   D\n",
              "4  A4  B4  C4  D4\n",
              "5  A5  B5  C5  D5\n",
              "6  A6  B6  C6  D6\n",
              "7  A7  B7  C7  D7"
            ]
          },
          "metadata": {
            "tags": []
          },
          "execution_count": 203
        }
      ]
    },
    {
      "metadata": {
        "id": "QJHhAZp6jcrG",
        "colab_type": "code",
        "colab": {},
        "outputId": "995b9910-be75-4db1-d29b-79c4e96fc0b1"
      },
      "cell_type": "code",
      "source": [
        "df3"
      ],
      "execution_count": 0,
      "outputs": [
        {
          "output_type": "execute_result",
          "data": {
            "text/html": [
              "<div>\n",
              "<style scoped>\n",
              "    .dataframe tbody tr th:only-of-type {\n",
              "        vertical-align: middle;\n",
              "    }\n",
              "\n",
              "    .dataframe tbody tr th {\n",
              "        vertical-align: top;\n",
              "    }\n",
              "\n",
              "    .dataframe thead th {\n",
              "        text-align: right;\n",
              "    }\n",
              "</style>\n",
              "<table border=\"1\" class=\"dataframe\">\n",
              "  <thead>\n",
              "    <tr style=\"text-align: right;\">\n",
              "      <th></th>\n",
              "      <th>A</th>\n",
              "      <th>B</th>\n",
              "      <th>C</th>\n",
              "      <th>D</th>\n",
              "    </tr>\n",
              "  </thead>\n",
              "  <tbody>\n",
              "    <tr>\n",
              "      <th>8</th>\n",
              "      <td>A8</td>\n",
              "      <td>B8</td>\n",
              "      <td>C8</td>\n",
              "      <td>D8</td>\n",
              "    </tr>\n",
              "    <tr>\n",
              "      <th>9</th>\n",
              "      <td>A9</td>\n",
              "      <td>B9</td>\n",
              "      <td>C9</td>\n",
              "      <td>D9</td>\n",
              "    </tr>\n",
              "    <tr>\n",
              "      <th>10</th>\n",
              "      <td>A10</td>\n",
              "      <td>B10</td>\n",
              "      <td>C10</td>\n",
              "      <td>D10</td>\n",
              "    </tr>\n",
              "    <tr>\n",
              "      <th>11</th>\n",
              "      <td>A11</td>\n",
              "      <td>B11</td>\n",
              "      <td>C11</td>\n",
              "      <td>D11</td>\n",
              "    </tr>\n",
              "  </tbody>\n",
              "</table>\n",
              "</div>"
            ],
            "text/plain": [
              "      A    B    C    D\n",
              "8    A8   B8   C8   D8\n",
              "9    A9   B9   C9   D9\n",
              "10  A10  B10  C10  D10\n",
              "11  A11  B11  C11  D11"
            ]
          },
          "metadata": {
            "tags": []
          },
          "execution_count": 204
        }
      ]
    },
    {
      "metadata": {
        "id": "WfGzfyuNjcrI",
        "colab_type": "text"
      },
      "cell_type": "markdown",
      "source": [
        "## Concatenation"
      ]
    },
    {
      "metadata": {
        "id": "sYzc5NIVjcrJ",
        "colab_type": "text"
      },
      "cell_type": "markdown",
      "source": [
        "Prereq is that the axes should be same"
      ]
    },
    {
      "metadata": {
        "id": "AS0WFK67jcrJ",
        "colab_type": "code",
        "colab": {},
        "outputId": "ca100f12-a0e8-4ea6-93c2-9350ad87b445"
      },
      "cell_type": "code",
      "source": [
        "#Passing the dataframes into a list\n",
        "pd.concat([df1,df2,df3])"
      ],
      "execution_count": 0,
      "outputs": [
        {
          "output_type": "execute_result",
          "data": {
            "text/html": [
              "<div>\n",
              "<style scoped>\n",
              "    .dataframe tbody tr th:only-of-type {\n",
              "        vertical-align: middle;\n",
              "    }\n",
              "\n",
              "    .dataframe tbody tr th {\n",
              "        vertical-align: top;\n",
              "    }\n",
              "\n",
              "    .dataframe thead th {\n",
              "        text-align: right;\n",
              "    }\n",
              "</style>\n",
              "<table border=\"1\" class=\"dataframe\">\n",
              "  <thead>\n",
              "    <tr style=\"text-align: right;\">\n",
              "      <th></th>\n",
              "      <th>A</th>\n",
              "      <th>B</th>\n",
              "      <th>C</th>\n",
              "      <th>D</th>\n",
              "    </tr>\n",
              "  </thead>\n",
              "  <tbody>\n",
              "    <tr>\n",
              "      <th>0</th>\n",
              "      <td>A0</td>\n",
              "      <td>B0</td>\n",
              "      <td>C0</td>\n",
              "      <td>D0</td>\n",
              "    </tr>\n",
              "    <tr>\n",
              "      <th>1</th>\n",
              "      <td>A1</td>\n",
              "      <td>B1</td>\n",
              "      <td>C1</td>\n",
              "      <td>D1</td>\n",
              "    </tr>\n",
              "    <tr>\n",
              "      <th>2</th>\n",
              "      <td>A2</td>\n",
              "      <td>B2</td>\n",
              "      <td>C2</td>\n",
              "      <td>D2</td>\n",
              "    </tr>\n",
              "    <tr>\n",
              "      <th>3</th>\n",
              "      <td>A3</td>\n",
              "      <td>B3</td>\n",
              "      <td>C3</td>\n",
              "      <td>D3</td>\n",
              "    </tr>\n",
              "    <tr>\n",
              "      <th>4</th>\n",
              "      <td>A4</td>\n",
              "      <td>B4</td>\n",
              "      <td>C4</td>\n",
              "      <td>D4</td>\n",
              "    </tr>\n",
              "    <tr>\n",
              "      <th>5</th>\n",
              "      <td>A5</td>\n",
              "      <td>B5</td>\n",
              "      <td>C5</td>\n",
              "      <td>D5</td>\n",
              "    </tr>\n",
              "    <tr>\n",
              "      <th>6</th>\n",
              "      <td>A6</td>\n",
              "      <td>B6</td>\n",
              "      <td>C6</td>\n",
              "      <td>D6</td>\n",
              "    </tr>\n",
              "    <tr>\n",
              "      <th>7</th>\n",
              "      <td>A7</td>\n",
              "      <td>B7</td>\n",
              "      <td>C7</td>\n",
              "      <td>D7</td>\n",
              "    </tr>\n",
              "    <tr>\n",
              "      <th>8</th>\n",
              "      <td>A8</td>\n",
              "      <td>B8</td>\n",
              "      <td>C8</td>\n",
              "      <td>D8</td>\n",
              "    </tr>\n",
              "    <tr>\n",
              "      <th>9</th>\n",
              "      <td>A9</td>\n",
              "      <td>B9</td>\n",
              "      <td>C9</td>\n",
              "      <td>D9</td>\n",
              "    </tr>\n",
              "    <tr>\n",
              "      <th>10</th>\n",
              "      <td>A10</td>\n",
              "      <td>B10</td>\n",
              "      <td>C10</td>\n",
              "      <td>D10</td>\n",
              "    </tr>\n",
              "    <tr>\n",
              "      <th>11</th>\n",
              "      <td>A11</td>\n",
              "      <td>B11</td>\n",
              "      <td>C11</td>\n",
              "      <td>D11</td>\n",
              "    </tr>\n",
              "  </tbody>\n",
              "</table>\n",
              "</div>"
            ],
            "text/plain": [
              "      A    B    C    D\n",
              "0    A0   B0   C0   D0\n",
              "1    A1   B1   C1   D1\n",
              "2    A2   B2   C2   D2\n",
              "3    A3   B3   C3   D3\n",
              "4    A4   B4   C4   D4\n",
              "5    A5   B5   C5   D5\n",
              "6    A6   B6   C6   D6\n",
              "7    A7   B7   C7   D7\n",
              "8    A8   B8   C8   D8\n",
              "9    A9   B9   C9   D9\n",
              "10  A10  B10  C10  D10\n",
              "11  A11  B11  C11  D11"
            ]
          },
          "metadata": {
            "tags": []
          },
          "execution_count": 207
        }
      ]
    },
    {
      "metadata": {
        "id": "URP8Awa9jcrL",
        "colab_type": "code",
        "colab": {},
        "outputId": "6b013cc0-3946-46f0-a882-964c404a9a18"
      },
      "cell_type": "code",
      "source": [
        "#use axis =1 if you want to concat along rows\n",
        "pd.concat([df1,df2,df3], axis = 1)"
      ],
      "execution_count": 0,
      "outputs": [
        {
          "output_type": "execute_result",
          "data": {
            "text/html": [
              "<div>\n",
              "<style scoped>\n",
              "    .dataframe tbody tr th:only-of-type {\n",
              "        vertical-align: middle;\n",
              "    }\n",
              "\n",
              "    .dataframe tbody tr th {\n",
              "        vertical-align: top;\n",
              "    }\n",
              "\n",
              "    .dataframe thead th {\n",
              "        text-align: right;\n",
              "    }\n",
              "</style>\n",
              "<table border=\"1\" class=\"dataframe\">\n",
              "  <thead>\n",
              "    <tr style=\"text-align: right;\">\n",
              "      <th></th>\n",
              "      <th>A</th>\n",
              "      <th>B</th>\n",
              "      <th>C</th>\n",
              "      <th>D</th>\n",
              "      <th>A</th>\n",
              "      <th>B</th>\n",
              "      <th>C</th>\n",
              "      <th>D</th>\n",
              "      <th>A</th>\n",
              "      <th>B</th>\n",
              "      <th>C</th>\n",
              "      <th>D</th>\n",
              "    </tr>\n",
              "  </thead>\n",
              "  <tbody>\n",
              "    <tr>\n",
              "      <th>0</th>\n",
              "      <td>A0</td>\n",
              "      <td>B0</td>\n",
              "      <td>C0</td>\n",
              "      <td>D0</td>\n",
              "      <td>NaN</td>\n",
              "      <td>NaN</td>\n",
              "      <td>NaN</td>\n",
              "      <td>NaN</td>\n",
              "      <td>NaN</td>\n",
              "      <td>NaN</td>\n",
              "      <td>NaN</td>\n",
              "      <td>NaN</td>\n",
              "    </tr>\n",
              "    <tr>\n",
              "      <th>1</th>\n",
              "      <td>A1</td>\n",
              "      <td>B1</td>\n",
              "      <td>C1</td>\n",
              "      <td>D1</td>\n",
              "      <td>NaN</td>\n",
              "      <td>NaN</td>\n",
              "      <td>NaN</td>\n",
              "      <td>NaN</td>\n",
              "      <td>NaN</td>\n",
              "      <td>NaN</td>\n",
              "      <td>NaN</td>\n",
              "      <td>NaN</td>\n",
              "    </tr>\n",
              "    <tr>\n",
              "      <th>2</th>\n",
              "      <td>A2</td>\n",
              "      <td>B2</td>\n",
              "      <td>C2</td>\n",
              "      <td>D2</td>\n",
              "      <td>NaN</td>\n",
              "      <td>NaN</td>\n",
              "      <td>NaN</td>\n",
              "      <td>NaN</td>\n",
              "      <td>NaN</td>\n",
              "      <td>NaN</td>\n",
              "      <td>NaN</td>\n",
              "      <td>NaN</td>\n",
              "    </tr>\n",
              "    <tr>\n",
              "      <th>3</th>\n",
              "      <td>A3</td>\n",
              "      <td>B3</td>\n",
              "      <td>C3</td>\n",
              "      <td>D3</td>\n",
              "      <td>NaN</td>\n",
              "      <td>NaN</td>\n",
              "      <td>NaN</td>\n",
              "      <td>NaN</td>\n",
              "      <td>NaN</td>\n",
              "      <td>NaN</td>\n",
              "      <td>NaN</td>\n",
              "      <td>NaN</td>\n",
              "    </tr>\n",
              "    <tr>\n",
              "      <th>4</th>\n",
              "      <td>NaN</td>\n",
              "      <td>NaN</td>\n",
              "      <td>NaN</td>\n",
              "      <td>NaN</td>\n",
              "      <td>A4</td>\n",
              "      <td>B4</td>\n",
              "      <td>C4</td>\n",
              "      <td>D4</td>\n",
              "      <td>NaN</td>\n",
              "      <td>NaN</td>\n",
              "      <td>NaN</td>\n",
              "      <td>NaN</td>\n",
              "    </tr>\n",
              "    <tr>\n",
              "      <th>5</th>\n",
              "      <td>NaN</td>\n",
              "      <td>NaN</td>\n",
              "      <td>NaN</td>\n",
              "      <td>NaN</td>\n",
              "      <td>A5</td>\n",
              "      <td>B5</td>\n",
              "      <td>C5</td>\n",
              "      <td>D5</td>\n",
              "      <td>NaN</td>\n",
              "      <td>NaN</td>\n",
              "      <td>NaN</td>\n",
              "      <td>NaN</td>\n",
              "    </tr>\n",
              "    <tr>\n",
              "      <th>6</th>\n",
              "      <td>NaN</td>\n",
              "      <td>NaN</td>\n",
              "      <td>NaN</td>\n",
              "      <td>NaN</td>\n",
              "      <td>A6</td>\n",
              "      <td>B6</td>\n",
              "      <td>C6</td>\n",
              "      <td>D6</td>\n",
              "      <td>NaN</td>\n",
              "      <td>NaN</td>\n",
              "      <td>NaN</td>\n",
              "      <td>NaN</td>\n",
              "    </tr>\n",
              "    <tr>\n",
              "      <th>7</th>\n",
              "      <td>NaN</td>\n",
              "      <td>NaN</td>\n",
              "      <td>NaN</td>\n",
              "      <td>NaN</td>\n",
              "      <td>A7</td>\n",
              "      <td>B7</td>\n",
              "      <td>C7</td>\n",
              "      <td>D7</td>\n",
              "      <td>NaN</td>\n",
              "      <td>NaN</td>\n",
              "      <td>NaN</td>\n",
              "      <td>NaN</td>\n",
              "    </tr>\n",
              "    <tr>\n",
              "      <th>8</th>\n",
              "      <td>NaN</td>\n",
              "      <td>NaN</td>\n",
              "      <td>NaN</td>\n",
              "      <td>NaN</td>\n",
              "      <td>NaN</td>\n",
              "      <td>NaN</td>\n",
              "      <td>NaN</td>\n",
              "      <td>NaN</td>\n",
              "      <td>A8</td>\n",
              "      <td>B8</td>\n",
              "      <td>C8</td>\n",
              "      <td>D8</td>\n",
              "    </tr>\n",
              "    <tr>\n",
              "      <th>9</th>\n",
              "      <td>NaN</td>\n",
              "      <td>NaN</td>\n",
              "      <td>NaN</td>\n",
              "      <td>NaN</td>\n",
              "      <td>NaN</td>\n",
              "      <td>NaN</td>\n",
              "      <td>NaN</td>\n",
              "      <td>NaN</td>\n",
              "      <td>A9</td>\n",
              "      <td>B9</td>\n",
              "      <td>C9</td>\n",
              "      <td>D9</td>\n",
              "    </tr>\n",
              "    <tr>\n",
              "      <th>10</th>\n",
              "      <td>NaN</td>\n",
              "      <td>NaN</td>\n",
              "      <td>NaN</td>\n",
              "      <td>NaN</td>\n",
              "      <td>NaN</td>\n",
              "      <td>NaN</td>\n",
              "      <td>NaN</td>\n",
              "      <td>NaN</td>\n",
              "      <td>A10</td>\n",
              "      <td>B10</td>\n",
              "      <td>C10</td>\n",
              "      <td>D10</td>\n",
              "    </tr>\n",
              "    <tr>\n",
              "      <th>11</th>\n",
              "      <td>NaN</td>\n",
              "      <td>NaN</td>\n",
              "      <td>NaN</td>\n",
              "      <td>NaN</td>\n",
              "      <td>NaN</td>\n",
              "      <td>NaN</td>\n",
              "      <td>NaN</td>\n",
              "      <td>NaN</td>\n",
              "      <td>A11</td>\n",
              "      <td>B11</td>\n",
              "      <td>C11</td>\n",
              "      <td>D11</td>\n",
              "    </tr>\n",
              "  </tbody>\n",
              "</table>\n",
              "</div>"
            ],
            "text/plain": [
              "      A    B    C    D    A    B    C    D    A    B    C    D\n",
              "0    A0   B0   C0   D0  NaN  NaN  NaN  NaN  NaN  NaN  NaN  NaN\n",
              "1    A1   B1   C1   D1  NaN  NaN  NaN  NaN  NaN  NaN  NaN  NaN\n",
              "2    A2   B2   C2   D2  NaN  NaN  NaN  NaN  NaN  NaN  NaN  NaN\n",
              "3    A3   B3   C3   D3  NaN  NaN  NaN  NaN  NaN  NaN  NaN  NaN\n",
              "4   NaN  NaN  NaN  NaN   A4   B4   C4   D4  NaN  NaN  NaN  NaN\n",
              "5   NaN  NaN  NaN  NaN   A5   B5   C5   D5  NaN  NaN  NaN  NaN\n",
              "6   NaN  NaN  NaN  NaN   A6   B6   C6   D6  NaN  NaN  NaN  NaN\n",
              "7   NaN  NaN  NaN  NaN   A7   B7   C7   D7  NaN  NaN  NaN  NaN\n",
              "8   NaN  NaN  NaN  NaN  NaN  NaN  NaN  NaN   A8   B8   C8   D8\n",
              "9   NaN  NaN  NaN  NaN  NaN  NaN  NaN  NaN   A9   B9   C9   D9\n",
              "10  NaN  NaN  NaN  NaN  NaN  NaN  NaN  NaN  A10  B10  C10  D10\n",
              "11  NaN  NaN  NaN  NaN  NaN  NaN  NaN  NaN  A11  B11  C11  D11"
            ]
          },
          "metadata": {
            "tags": []
          },
          "execution_count": 208
        }
      ]
    },
    {
      "metadata": {
        "id": "cLAESVYmjcrN",
        "colab_type": "text"
      },
      "cell_type": "markdown",
      "source": [
        "## Merge"
      ]
    },
    {
      "metadata": {
        "id": "1MF7qiBpjcrN",
        "colab_type": "code",
        "colab": {}
      },
      "cell_type": "code",
      "source": [
        "#Merging using Keys (Like inner join SQL)\n",
        "left = pd.DataFrame({'key': ['K0', 'K1', 'K2', 'K3'],\n",
        "                     'A': ['A0', 'A1', 'A2', 'A3'],\n",
        "                     'B': ['B0', 'B1', 'B2', 'B3']})\n",
        "   \n",
        "right = pd.DataFrame({'key': ['K0', 'K1', 'K2', 'K3'],\n",
        "                          'C': ['C0', 'C1', 'C2', 'C3'],\n",
        "                          'D': ['D0', 'D1', 'D2', 'D3']})    "
      ],
      "execution_count": 0,
      "outputs": []
    },
    {
      "metadata": {
        "id": "Fmu_8lBFjcrO",
        "colab_type": "code",
        "colab": {},
        "outputId": "4443aa82-0637-4987-ad07-0e7fb7a3c3e3"
      },
      "cell_type": "code",
      "source": [
        "pd.merge(left,right,how ='inner',on='key')"
      ],
      "execution_count": 0,
      "outputs": [
        {
          "output_type": "execute_result",
          "data": {
            "text/html": [
              "<div>\n",
              "<style scoped>\n",
              "    .dataframe tbody tr th:only-of-type {\n",
              "        vertical-align: middle;\n",
              "    }\n",
              "\n",
              "    .dataframe tbody tr th {\n",
              "        vertical-align: top;\n",
              "    }\n",
              "\n",
              "    .dataframe thead th {\n",
              "        text-align: right;\n",
              "    }\n",
              "</style>\n",
              "<table border=\"1\" class=\"dataframe\">\n",
              "  <thead>\n",
              "    <tr style=\"text-align: right;\">\n",
              "      <th></th>\n",
              "      <th>key</th>\n",
              "      <th>A</th>\n",
              "      <th>B</th>\n",
              "      <th>C</th>\n",
              "      <th>D</th>\n",
              "    </tr>\n",
              "  </thead>\n",
              "  <tbody>\n",
              "    <tr>\n",
              "      <th>0</th>\n",
              "      <td>K0</td>\n",
              "      <td>A0</td>\n",
              "      <td>B0</td>\n",
              "      <td>C0</td>\n",
              "      <td>D0</td>\n",
              "    </tr>\n",
              "    <tr>\n",
              "      <th>1</th>\n",
              "      <td>K1</td>\n",
              "      <td>A1</td>\n",
              "      <td>B1</td>\n",
              "      <td>C1</td>\n",
              "      <td>D1</td>\n",
              "    </tr>\n",
              "    <tr>\n",
              "      <th>2</th>\n",
              "      <td>K2</td>\n",
              "      <td>A2</td>\n",
              "      <td>B2</td>\n",
              "      <td>C2</td>\n",
              "      <td>D2</td>\n",
              "    </tr>\n",
              "    <tr>\n",
              "      <th>3</th>\n",
              "      <td>K3</td>\n",
              "      <td>A3</td>\n",
              "      <td>B3</td>\n",
              "      <td>C3</td>\n",
              "      <td>D3</td>\n",
              "    </tr>\n",
              "  </tbody>\n",
              "</table>\n",
              "</div>"
            ],
            "text/plain": [
              "  key   A   B   C   D\n",
              "0  K0  A0  B0  C0  D0\n",
              "1  K1  A1  B1  C1  D1\n",
              "2  K2  A2  B2  C2  D2\n",
              "3  K3  A3  B3  C3  D3"
            ]
          },
          "metadata": {
            "tags": []
          },
          "execution_count": 210
        }
      ]
    },
    {
      "metadata": {
        "id": "vBHMszAAjcrS",
        "colab_type": "text"
      },
      "cell_type": "markdown",
      "source": [
        "In this way, you can create left, right, outer joins"
      ]
    },
    {
      "metadata": {
        "id": "81lyLPjMjcrS",
        "colab_type": "text"
      },
      "cell_type": "markdown",
      "source": [
        "## Joining"
      ]
    },
    {
      "metadata": {
        "id": "qi1KrWSzjcrT",
        "colab_type": "text"
      },
      "cell_type": "markdown",
      "source": [
        "Way of joining 2 different dataframes into a single dataframe. Same as merge except that the keys to merge are on index instead of a separate column"
      ]
    },
    {
      "metadata": {
        "id": "U-Vh5Q0NjcrT",
        "colab_type": "code",
        "colab": {}
      },
      "cell_type": "code",
      "source": [
        "left = pd.DataFrame({'A': ['A0', 'A1', 'A2'],\n",
        "                     'B': ['B0', 'B1', 'B2']},\n",
        "                      index=['K0', 'K1', 'K2']) \n",
        "\n",
        "right = pd.DataFrame({'C': ['C0', 'C2', 'C3'],\n",
        "                    'D': ['D0', 'D2', 'D3']},\n",
        "                      index=['K0', 'K2', 'K3'])"
      ],
      "execution_count": 0,
      "outputs": []
    },
    {
      "metadata": {
        "id": "LFsK7mI8jcrV",
        "colab_type": "code",
        "colab": {},
        "outputId": "52849736-12d8-4f42-f1b5-c59d3bca0cc0"
      },
      "cell_type": "code",
      "source": [
        "#Automatically uses inner join\n",
        "left.join(right)"
      ],
      "execution_count": 0,
      "outputs": [
        {
          "output_type": "execute_result",
          "data": {
            "text/html": [
              "<div>\n",
              "<style scoped>\n",
              "    .dataframe tbody tr th:only-of-type {\n",
              "        vertical-align: middle;\n",
              "    }\n",
              "\n",
              "    .dataframe tbody tr th {\n",
              "        vertical-align: top;\n",
              "    }\n",
              "\n",
              "    .dataframe thead th {\n",
              "        text-align: right;\n",
              "    }\n",
              "</style>\n",
              "<table border=\"1\" class=\"dataframe\">\n",
              "  <thead>\n",
              "    <tr style=\"text-align: right;\">\n",
              "      <th></th>\n",
              "      <th>A</th>\n",
              "      <th>B</th>\n",
              "      <th>C</th>\n",
              "      <th>D</th>\n",
              "    </tr>\n",
              "  </thead>\n",
              "  <tbody>\n",
              "    <tr>\n",
              "      <th>K0</th>\n",
              "      <td>A0</td>\n",
              "      <td>B0</td>\n",
              "      <td>C0</td>\n",
              "      <td>D0</td>\n",
              "    </tr>\n",
              "    <tr>\n",
              "      <th>K1</th>\n",
              "      <td>A1</td>\n",
              "      <td>B1</td>\n",
              "      <td>NaN</td>\n",
              "      <td>NaN</td>\n",
              "    </tr>\n",
              "    <tr>\n",
              "      <th>K2</th>\n",
              "      <td>A2</td>\n",
              "      <td>B2</td>\n",
              "      <td>C2</td>\n",
              "      <td>D2</td>\n",
              "    </tr>\n",
              "  </tbody>\n",
              "</table>\n",
              "</div>"
            ],
            "text/plain": [
              "     A   B    C    D\n",
              "K0  A0  B0   C0   D0\n",
              "K1  A1  B1  NaN  NaN\n",
              "K2  A2  B2   C2   D2"
            ]
          },
          "metadata": {
            "tags": []
          },
          "execution_count": 215
        }
      ]
    },
    {
      "metadata": {
        "id": "eQeb4ki-jcrY",
        "colab_type": "text"
      },
      "cell_type": "markdown",
      "source": [
        "# Operations"
      ]
    },
    {
      "metadata": {
        "id": "Z15dLKFCjcra",
        "colab_type": "code",
        "colab": {},
        "outputId": "49fe2147-a154-4d56-da3b-bd3ac07d37ed"
      },
      "cell_type": "code",
      "source": [
        "import pandas as pd\n",
        "df = pd.DataFrame({'col1':[1,2,3,4],'col2':[444,555,666,444],'col3':['abc','def','ghi','xyz']})\n",
        "df.head()"
      ],
      "execution_count": 0,
      "outputs": [
        {
          "output_type": "execute_result",
          "data": {
            "text/html": [
              "<div>\n",
              "<style scoped>\n",
              "    .dataframe tbody tr th:only-of-type {\n",
              "        vertical-align: middle;\n",
              "    }\n",
              "\n",
              "    .dataframe tbody tr th {\n",
              "        vertical-align: top;\n",
              "    }\n",
              "\n",
              "    .dataframe thead th {\n",
              "        text-align: right;\n",
              "    }\n",
              "</style>\n",
              "<table border=\"1\" class=\"dataframe\">\n",
              "  <thead>\n",
              "    <tr style=\"text-align: right;\">\n",
              "      <th></th>\n",
              "      <th>col1</th>\n",
              "      <th>col2</th>\n",
              "      <th>col3</th>\n",
              "    </tr>\n",
              "  </thead>\n",
              "  <tbody>\n",
              "    <tr>\n",
              "      <th>0</th>\n",
              "      <td>1</td>\n",
              "      <td>444</td>\n",
              "      <td>abc</td>\n",
              "    </tr>\n",
              "    <tr>\n",
              "      <th>1</th>\n",
              "      <td>2</td>\n",
              "      <td>555</td>\n",
              "      <td>def</td>\n",
              "    </tr>\n",
              "    <tr>\n",
              "      <th>2</th>\n",
              "      <td>3</td>\n",
              "      <td>666</td>\n",
              "      <td>ghi</td>\n",
              "    </tr>\n",
              "    <tr>\n",
              "      <th>3</th>\n",
              "      <td>4</td>\n",
              "      <td>444</td>\n",
              "      <td>xyz</td>\n",
              "    </tr>\n",
              "  </tbody>\n",
              "</table>\n",
              "</div>"
            ],
            "text/plain": [
              "   col1  col2 col3\n",
              "0     1   444  abc\n",
              "1     2   555  def\n",
              "2     3   666  ghi\n",
              "3     4   444  xyz"
            ]
          },
          "metadata": {
            "tags": []
          },
          "execution_count": 218
        }
      ]
    },
    {
      "metadata": {
        "id": "682OkTYxjcrd",
        "colab_type": "code",
        "colab": {},
        "outputId": "d33b6ed2-7dfa-4643-b15b-e41ca4469734"
      },
      "cell_type": "code",
      "source": [
        "#Finding Unique values in the dataframe\n",
        "df['col2'].unique()"
      ],
      "execution_count": 0,
      "outputs": [
        {
          "output_type": "execute_result",
          "data": {
            "text/plain": [
              "array([444, 555, 666], dtype=int64)"
            ]
          },
          "metadata": {
            "tags": []
          },
          "execution_count": 219
        }
      ]
    },
    {
      "metadata": {
        "id": "mQT2Imvmjcrf",
        "colab_type": "code",
        "colab": {},
        "outputId": "89df764b-1714-4f71-a576-22137f3e0f52"
      },
      "cell_type": "code",
      "source": [
        "# To Check the number of unique values instead either use len(array....) or..\n",
        "df['col2'].nunique()\n"
      ],
      "execution_count": 0,
      "outputs": [
        {
          "output_type": "execute_result",
          "data": {
            "text/plain": [
              "3"
            ]
          },
          "metadata": {
            "tags": []
          },
          "execution_count": 220
        }
      ]
    },
    {
      "metadata": {
        "id": "lMQ8c0RKjcri",
        "colab_type": "code",
        "colab": {},
        "outputId": "0888dec3-87fd-4c9f-d957-401091233ff4"
      },
      "cell_type": "code",
      "source": [
        "#value Counts\n",
        "df['col2'].value_counts()"
      ],
      "execution_count": 0,
      "outputs": [
        {
          "output_type": "execute_result",
          "data": {
            "text/plain": [
              "444    2\n",
              "555    1\n",
              "666    1\n",
              "Name: col2, dtype: int64"
            ]
          },
          "metadata": {
            "tags": []
          },
          "execution_count": 221
        }
      ]
    },
    {
      "metadata": {
        "id": "1DDlhKeKjcrk",
        "colab_type": "text"
      },
      "cell_type": "markdown",
      "source": [
        "### Apply Method"
      ]
    },
    {
      "metadata": {
        "id": "VYDJB5majcrk",
        "colab_type": "code",
        "colab": {}
      },
      "cell_type": "code",
      "source": [
        "# Assume a simple function\n",
        "def times2(x):\n",
        "    return x*2"
      ],
      "execution_count": 0,
      "outputs": []
    },
    {
      "metadata": {
        "id": "ST9LOqeHjcrl",
        "colab_type": "code",
        "colab": {},
        "outputId": "df2c623b-1b4c-4232-f55d-259a7fd88889"
      },
      "cell_type": "code",
      "source": [
        "#If we want to sum the elements, we can just use .sum method. However, what if we want to use our function on each element? \n",
        "#Apply method broadcasts the function to each element\n",
        "df['col1'].apply(times2)"
      ],
      "execution_count": 0,
      "outputs": [
        {
          "output_type": "execute_result",
          "data": {
            "text/plain": [
              "0    2\n",
              "1    4\n",
              "2    6\n",
              "3    8\n",
              "Name: col1, dtype: int64"
            ]
          },
          "metadata": {
            "tags": []
          },
          "execution_count": 223
        }
      ]
    },
    {
      "metadata": {
        "id": "vT1ks8v-jcrp",
        "colab_type": "code",
        "colab": {},
        "outputId": "1ffb0202-53f4-4347-b48a-f7e9d5d391a4"
      },
      "cell_type": "code",
      "source": [
        "#Apply is especially powerful when used with lambda expressions as we don't need to create a function if we are using the function only once. Ex. creating lambda exp. out of times2:\n",
        "df['col1'].apply(lambda x:x*2)"
      ],
      "execution_count": 0,
      "outputs": [
        {
          "output_type": "execute_result",
          "data": {
            "text/plain": [
              "0    2\n",
              "1    4\n",
              "2    6\n",
              "3    8\n",
              "Name: col1, dtype: int64"
            ]
          },
          "metadata": {
            "tags": []
          },
          "execution_count": 224
        }
      ]
    },
    {
      "metadata": {
        "id": "nOt9khiwjcrs",
        "colab_type": "code",
        "colab": {},
        "outputId": "119e6d3d-8d8e-4444-dd1c-7385b72eb774"
      },
      "cell_type": "code",
      "source": [
        "#to drop a column\n",
        "df.drop('col1', axis=1)"
      ],
      "execution_count": 0,
      "outputs": [
        {
          "output_type": "execute_result",
          "data": {
            "text/html": [
              "<div>\n",
              "<style scoped>\n",
              "    .dataframe tbody tr th:only-of-type {\n",
              "        vertical-align: middle;\n",
              "    }\n",
              "\n",
              "    .dataframe tbody tr th {\n",
              "        vertical-align: top;\n",
              "    }\n",
              "\n",
              "    .dataframe thead th {\n",
              "        text-align: right;\n",
              "    }\n",
              "</style>\n",
              "<table border=\"1\" class=\"dataframe\">\n",
              "  <thead>\n",
              "    <tr style=\"text-align: right;\">\n",
              "      <th></th>\n",
              "      <th>col2</th>\n",
              "      <th>col3</th>\n",
              "    </tr>\n",
              "  </thead>\n",
              "  <tbody>\n",
              "    <tr>\n",
              "      <th>0</th>\n",
              "      <td>444</td>\n",
              "      <td>abc</td>\n",
              "    </tr>\n",
              "    <tr>\n",
              "      <th>1</th>\n",
              "      <td>555</td>\n",
              "      <td>def</td>\n",
              "    </tr>\n",
              "    <tr>\n",
              "      <th>2</th>\n",
              "      <td>666</td>\n",
              "      <td>ghi</td>\n",
              "    </tr>\n",
              "    <tr>\n",
              "      <th>3</th>\n",
              "      <td>444</td>\n",
              "      <td>xyz</td>\n",
              "    </tr>\n",
              "  </tbody>\n",
              "</table>\n",
              "</div>"
            ],
            "text/plain": [
              "   col2 col3\n",
              "0   444  abc\n",
              "1   555  def\n",
              "2   666  ghi\n",
              "3   444  xyz"
            ]
          },
          "metadata": {
            "tags": []
          },
          "execution_count": 225
        }
      ]
    },
    {
      "metadata": {
        "id": "yLCPTisEjcru",
        "colab_type": "code",
        "colab": {},
        "outputId": "d6eb38c3-3ff3-41b2-9857-978a466bf80d"
      },
      "cell_type": "code",
      "source": [
        "#to get index names of dataframe\n",
        "df.columns"
      ],
      "execution_count": 0,
      "outputs": [
        {
          "output_type": "execute_result",
          "data": {
            "text/plain": [
              "Index(['col1', 'col2', 'col3'], dtype='object')"
            ]
          },
          "metadata": {
            "tags": []
          },
          "execution_count": 226
        }
      ]
    },
    {
      "metadata": {
        "id": "QchktbBqjcry",
        "colab_type": "code",
        "colab": {},
        "outputId": "a80b86b9-7062-494a-cec5-9833c132fc7d"
      },
      "cell_type": "code",
      "source": [
        "#you can also get index\n",
        "df.index"
      ],
      "execution_count": 0,
      "outputs": [
        {
          "output_type": "execute_result",
          "data": {
            "text/plain": [
              "RangeIndex(start=0, stop=4, step=1)"
            ]
          },
          "metadata": {
            "tags": []
          },
          "execution_count": 227
        }
      ]
    },
    {
      "metadata": {
        "id": "ees-k9aDjcr1",
        "colab_type": "text"
      },
      "cell_type": "markdown",
      "source": [
        "## Ordering Dataframe"
      ]
    },
    {
      "metadata": {
        "id": "x8YvkCZLjcr1",
        "colab_type": "code",
        "colab": {},
        "outputId": "4df07494-a744-40cc-d1d2-294b3c6fd0c7"
      },
      "cell_type": "code",
      "source": [
        "df.sort_values('col2')"
      ],
      "execution_count": 0,
      "outputs": [
        {
          "output_type": "execute_result",
          "data": {
            "text/html": [
              "<div>\n",
              "<style scoped>\n",
              "    .dataframe tbody tr th:only-of-type {\n",
              "        vertical-align: middle;\n",
              "    }\n",
              "\n",
              "    .dataframe tbody tr th {\n",
              "        vertical-align: top;\n",
              "    }\n",
              "\n",
              "    .dataframe thead th {\n",
              "        text-align: right;\n",
              "    }\n",
              "</style>\n",
              "<table border=\"1\" class=\"dataframe\">\n",
              "  <thead>\n",
              "    <tr style=\"text-align: right;\">\n",
              "      <th></th>\n",
              "      <th>col1</th>\n",
              "      <th>col2</th>\n",
              "      <th>col3</th>\n",
              "    </tr>\n",
              "  </thead>\n",
              "  <tbody>\n",
              "    <tr>\n",
              "      <th>0</th>\n",
              "      <td>1</td>\n",
              "      <td>444</td>\n",
              "      <td>abc</td>\n",
              "    </tr>\n",
              "    <tr>\n",
              "      <th>3</th>\n",
              "      <td>4</td>\n",
              "      <td>444</td>\n",
              "      <td>xyz</td>\n",
              "    </tr>\n",
              "    <tr>\n",
              "      <th>1</th>\n",
              "      <td>2</td>\n",
              "      <td>555</td>\n",
              "      <td>def</td>\n",
              "    </tr>\n",
              "    <tr>\n",
              "      <th>2</th>\n",
              "      <td>3</td>\n",
              "      <td>666</td>\n",
              "      <td>ghi</td>\n",
              "    </tr>\n",
              "  </tbody>\n",
              "</table>\n",
              "</div>"
            ],
            "text/plain": [
              "   col1  col2 col3\n",
              "0     1   444  abc\n",
              "3     4   444  xyz\n",
              "1     2   555  def\n",
              "2     3   666  ghi"
            ]
          },
          "metadata": {
            "tags": []
          },
          "execution_count": 230
        }
      ]
    },
    {
      "metadata": {
        "id": "9kuwbEpNjcr4",
        "colab_type": "text"
      },
      "cell_type": "markdown",
      "source": [
        "## Finding Null values"
      ]
    },
    {
      "metadata": {
        "id": "bDXnck5Ljcr5",
        "colab_type": "code",
        "colab": {},
        "outputId": "84854ebe-74d0-497d-d70c-cc7986e04377"
      },
      "cell_type": "code",
      "source": [
        "df.isnull()"
      ],
      "execution_count": 0,
      "outputs": [
        {
          "output_type": "execute_result",
          "data": {
            "text/html": [
              "<div>\n",
              "<style scoped>\n",
              "    .dataframe tbody tr th:only-of-type {\n",
              "        vertical-align: middle;\n",
              "    }\n",
              "\n",
              "    .dataframe tbody tr th {\n",
              "        vertical-align: top;\n",
              "    }\n",
              "\n",
              "    .dataframe thead th {\n",
              "        text-align: right;\n",
              "    }\n",
              "</style>\n",
              "<table border=\"1\" class=\"dataframe\">\n",
              "  <thead>\n",
              "    <tr style=\"text-align: right;\">\n",
              "      <th></th>\n",
              "      <th>col1</th>\n",
              "      <th>col2</th>\n",
              "      <th>col3</th>\n",
              "    </tr>\n",
              "  </thead>\n",
              "  <tbody>\n",
              "    <tr>\n",
              "      <th>0</th>\n",
              "      <td>False</td>\n",
              "      <td>False</td>\n",
              "      <td>False</td>\n",
              "    </tr>\n",
              "    <tr>\n",
              "      <th>1</th>\n",
              "      <td>False</td>\n",
              "      <td>False</td>\n",
              "      <td>False</td>\n",
              "    </tr>\n",
              "    <tr>\n",
              "      <th>2</th>\n",
              "      <td>False</td>\n",
              "      <td>False</td>\n",
              "      <td>False</td>\n",
              "    </tr>\n",
              "    <tr>\n",
              "      <th>3</th>\n",
              "      <td>False</td>\n",
              "      <td>False</td>\n",
              "      <td>False</td>\n",
              "    </tr>\n",
              "  </tbody>\n",
              "</table>\n",
              "</div>"
            ],
            "text/plain": [
              "    col1   col2   col3\n",
              "0  False  False  False\n",
              "1  False  False  False\n",
              "2  False  False  False\n",
              "3  False  False  False"
            ]
          },
          "metadata": {
            "tags": []
          },
          "execution_count": 231
        }
      ]
    },
    {
      "metadata": {
        "id": "cne9JWNBjcr6",
        "colab_type": "text"
      },
      "cell_type": "markdown",
      "source": [
        "## Pivot Table"
      ]
    },
    {
      "metadata": {
        "id": "NbMv_hlRjcr7",
        "colab_type": "code",
        "colab": {},
        "outputId": "f3554b81-4792-44ea-c7e9-a0a5d4136ec6"
      },
      "cell_type": "code",
      "source": [
        "data = {'A':['foo','foo','foo','bar','bar','bar'],\n",
        "     'B':['one','one','two','two','one','one'],\n",
        "       'C':['x','y','x','y','x','y'],\n",
        "       'D':[1,3,2,5,4,1]}\n",
        "\n",
        "df = pd.DataFrame(data)\n",
        "df"
      ],
      "execution_count": 0,
      "outputs": [
        {
          "output_type": "execute_result",
          "data": {
            "text/html": [
              "<div>\n",
              "<style scoped>\n",
              "    .dataframe tbody tr th:only-of-type {\n",
              "        vertical-align: middle;\n",
              "    }\n",
              "\n",
              "    .dataframe tbody tr th {\n",
              "        vertical-align: top;\n",
              "    }\n",
              "\n",
              "    .dataframe thead th {\n",
              "        text-align: right;\n",
              "    }\n",
              "</style>\n",
              "<table border=\"1\" class=\"dataframe\">\n",
              "  <thead>\n",
              "    <tr style=\"text-align: right;\">\n",
              "      <th></th>\n",
              "      <th>A</th>\n",
              "      <th>B</th>\n",
              "      <th>C</th>\n",
              "      <th>D</th>\n",
              "    </tr>\n",
              "  </thead>\n",
              "  <tbody>\n",
              "    <tr>\n",
              "      <th>0</th>\n",
              "      <td>foo</td>\n",
              "      <td>one</td>\n",
              "      <td>x</td>\n",
              "      <td>1</td>\n",
              "    </tr>\n",
              "    <tr>\n",
              "      <th>1</th>\n",
              "      <td>foo</td>\n",
              "      <td>one</td>\n",
              "      <td>y</td>\n",
              "      <td>3</td>\n",
              "    </tr>\n",
              "    <tr>\n",
              "      <th>2</th>\n",
              "      <td>foo</td>\n",
              "      <td>two</td>\n",
              "      <td>x</td>\n",
              "      <td>2</td>\n",
              "    </tr>\n",
              "    <tr>\n",
              "      <th>3</th>\n",
              "      <td>bar</td>\n",
              "      <td>two</td>\n",
              "      <td>y</td>\n",
              "      <td>5</td>\n",
              "    </tr>\n",
              "    <tr>\n",
              "      <th>4</th>\n",
              "      <td>bar</td>\n",
              "      <td>one</td>\n",
              "      <td>x</td>\n",
              "      <td>4</td>\n",
              "    </tr>\n",
              "    <tr>\n",
              "      <th>5</th>\n",
              "      <td>bar</td>\n",
              "      <td>one</td>\n",
              "      <td>y</td>\n",
              "      <td>1</td>\n",
              "    </tr>\n",
              "  </tbody>\n",
              "</table>\n",
              "</div>"
            ],
            "text/plain": [
              "     A    B  C  D\n",
              "0  foo  one  x  1\n",
              "1  foo  one  y  3\n",
              "2  foo  two  x  2\n",
              "3  bar  two  y  5\n",
              "4  bar  one  x  4\n",
              "5  bar  one  y  1"
            ]
          },
          "metadata": {
            "tags": []
          },
          "execution_count": 233
        }
      ]
    },
    {
      "metadata": {
        "id": "ZaioiNdpjcr9",
        "colab_type": "code",
        "colab": {},
        "outputId": "15e6036a-275e-410c-93db-b20830fb8f80"
      },
      "cell_type": "code",
      "source": [
        "df.pivot_table(values = 'D', index = ['A', 'B'], columns = 'C')"
      ],
      "execution_count": 0,
      "outputs": [
        {
          "output_type": "execute_result",
          "data": {
            "text/html": [
              "<div>\n",
              "<style scoped>\n",
              "    .dataframe tbody tr th:only-of-type {\n",
              "        vertical-align: middle;\n",
              "    }\n",
              "\n",
              "    .dataframe tbody tr th {\n",
              "        vertical-align: top;\n",
              "    }\n",
              "\n",
              "    .dataframe thead th {\n",
              "        text-align: right;\n",
              "    }\n",
              "</style>\n",
              "<table border=\"1\" class=\"dataframe\">\n",
              "  <thead>\n",
              "    <tr style=\"text-align: right;\">\n",
              "      <th></th>\n",
              "      <th>C</th>\n",
              "      <th>x</th>\n",
              "      <th>y</th>\n",
              "    </tr>\n",
              "    <tr>\n",
              "      <th>A</th>\n",
              "      <th>B</th>\n",
              "      <th></th>\n",
              "      <th></th>\n",
              "    </tr>\n",
              "  </thead>\n",
              "  <tbody>\n",
              "    <tr>\n",
              "      <th rowspan=\"2\" valign=\"top\">bar</th>\n",
              "      <th>one</th>\n",
              "      <td>4.0</td>\n",
              "      <td>1.0</td>\n",
              "    </tr>\n",
              "    <tr>\n",
              "      <th>two</th>\n",
              "      <td>NaN</td>\n",
              "      <td>5.0</td>\n",
              "    </tr>\n",
              "    <tr>\n",
              "      <th rowspan=\"2\" valign=\"top\">foo</th>\n",
              "      <th>one</th>\n",
              "      <td>1.0</td>\n",
              "      <td>3.0</td>\n",
              "    </tr>\n",
              "    <tr>\n",
              "      <th>two</th>\n",
              "      <td>2.0</td>\n",
              "      <td>NaN</td>\n",
              "    </tr>\n",
              "  </tbody>\n",
              "</table>\n",
              "</div>"
            ],
            "text/plain": [
              "C          x    y\n",
              "A   B            \n",
              "bar one  4.0  1.0\n",
              "    two  NaN  5.0\n",
              "foo one  1.0  3.0\n",
              "    two  2.0  NaN"
            ]
          },
          "metadata": {
            "tags": []
          },
          "execution_count": 235
        }
      ]
    },
    {
      "metadata": {
        "id": "pbliwIbDjcsB",
        "colab_type": "text"
      },
      "cell_type": "markdown",
      "source": [
        "**Learn About this**"
      ]
    },
    {
      "metadata": {
        "id": "I9CSvUE2jcsC",
        "colab_type": "text"
      },
      "cell_type": "markdown",
      "source": [
        "# Data Input and Output"
      ]
    },
    {
      "metadata": {
        "id": "rooka1CQjcsC",
        "colab_type": "text"
      },
      "cell_type": "markdown",
      "source": [
        "Various sources can be used like CSV, Excel, HTML, SQL etc. \n",
        "For SQL sqlalchemy library is to be installed\n",
        "For HTML, BeautifulSoup4, html5lib. lxml are to be installed."
      ]
    },
    {
      "metadata": {
        "id": "xiAFC9LijcsD",
        "colab_type": "text"
      },
      "cell_type": "markdown",
      "source": [
        "## Reading from CSV"
      ]
    },
    {
      "metadata": {
        "id": "HZKZAyRkjcsD",
        "colab_type": "text"
      },
      "cell_type": "markdown",
      "source": [
        "The CSV/excel files need to be in same location. You can check using pwd"
      ]
    },
    {
      "metadata": {
        "id": "UkNTon5ljcsE",
        "colab_type": "code",
        "colab": {},
        "outputId": "ea8c229a-abb2-4b0e-8067-c0fe0793d689"
      },
      "cell_type": "code",
      "source": [
        "pwd"
      ],
      "execution_count": 0,
      "outputs": [
        {
          "output_type": "execute_result",
          "data": {
            "text/plain": [
              "'C:\\\\Users\\\\ManojKumarBilla\\\\Google Drive\\\\Data Science\\\\Python DS Udeny'"
            ]
          },
          "metadata": {
            "tags": []
          },
          "execution_count": 236
        }
      ]
    },
    {
      "metadata": {
        "id": "xMbJoxTzjcsH",
        "colab_type": "code",
        "colab": {},
        "outputId": "ab5546bf-f946-4247-e1a9-4db131942379"
      },
      "cell_type": "code",
      "source": [
        "#Reading CSV\n",
        "pd.read_csv('6monthsDomestic.csv')"
      ],
      "execution_count": 0,
      "outputs": [
        {
          "output_type": "execute_result",
          "data": {
            "text/html": [
              "<div>\n",
              "<style scoped>\n",
              "    .dataframe tbody tr th:only-of-type {\n",
              "        vertical-align: middle;\n",
              "    }\n",
              "\n",
              "    .dataframe tbody tr th {\n",
              "        vertical-align: top;\n",
              "    }\n",
              "\n",
              "    .dataframe thead th {\n",
              "        text-align: right;\n",
              "    }\n",
              "</style>\n",
              "<table border=\"1\" class=\"dataframe\">\n",
              "  <thead>\n",
              "    <tr style=\"text-align: right;\">\n",
              "      <th></th>\n",
              "      <th>Domestic Shipments Name</th>\n",
              "      <th>LANE FROM</th>\n",
              "      <th>LANE TO</th>\n",
              "      <th>FREIGHT</th>\n",
              "      <th>DEST STATE</th>\n",
              "      <th>DISTANCE</th>\n",
              "      <th>RATE_PER_MILE</th>\n",
              "      <th>SHIPMENT</th>\n",
              "      <th>SOURCE STATE</th>\n",
              "      <th>TRANSPORT_MODE</th>\n",
              "    </tr>\n",
              "  </thead>\n",
              "  <tbody>\n",
              "    <tr>\n",
              "      <th>0</th>\n",
              "      <td>a0W1W000008Mv2c</td>\n",
              "      <td>SMYRNA, NY</td>\n",
              "      <td>LOGANSPORT, IN</td>\n",
              "      <td>1750.0</td>\n",
              "      <td>IN</td>\n",
              "      <td>676.0</td>\n",
              "      <td>2.59</td>\n",
              "      <td>444080.0</td>\n",
              "      <td>NY</td>\n",
              "      <td>TL</td>\n",
              "    </tr>\n",
              "    <tr>\n",
              "      <th>1</th>\n",
              "      <td>a0W1W000008Mv2d</td>\n",
              "      <td>SMYRNA, NY</td>\n",
              "      <td>SWEDESBORO, NJ</td>\n",
              "      <td>700.0</td>\n",
              "      <td>NJ</td>\n",
              "      <td>254.0</td>\n",
              "      <td>2.76</td>\n",
              "      <td>443813.0</td>\n",
              "      <td>NY</td>\n",
              "      <td>TL</td>\n",
              "    </tr>\n",
              "    <tr>\n",
              "      <th>2</th>\n",
              "      <td>a0W1W000008Mv2e</td>\n",
              "      <td>TITUSVILLE, PA</td>\n",
              "      <td>ST-EUSTACHE, QC</td>\n",
              "      <td>1700.0</td>\n",
              "      <td>QC</td>\n",
              "      <td>519.0</td>\n",
              "      <td>3.28</td>\n",
              "      <td>443848.0</td>\n",
              "      <td>PA</td>\n",
              "      <td>TL</td>\n",
              "    </tr>\n",
              "    <tr>\n",
              "      <th>3</th>\n",
              "      <td>a0W1W000008Mv2f</td>\n",
              "      <td>TITUSVILLE, PA</td>\n",
              "      <td>TROY, PA</td>\n",
              "      <td>750.0</td>\n",
              "      <td>PA</td>\n",
              "      <td>240.0</td>\n",
              "      <td>3.13</td>\n",
              "      <td>442823.0</td>\n",
              "      <td>PA</td>\n",
              "      <td>TL</td>\n",
              "    </tr>\n",
              "    <tr>\n",
              "      <th>4</th>\n",
              "      <td>a0W1W000008Mv2g</td>\n",
              "      <td>ALLEGANY, NY</td>\n",
              "      <td>LIVERMORE, CA</td>\n",
              "      <td>2710.0</td>\n",
              "      <td>CA</td>\n",
              "      <td>2656.0</td>\n",
              "      <td>1.02</td>\n",
              "      <td>443101.0</td>\n",
              "      <td>NY</td>\n",
              "      <td>INTRMDL</td>\n",
              "    </tr>\n",
              "    <tr>\n",
              "      <th>5</th>\n",
              "      <td>a0W1W000008Mv2h</td>\n",
              "      <td>ALLEGANY, NY</td>\n",
              "      <td>LOGANSPORT, IN</td>\n",
              "      <td>1400.0</td>\n",
              "      <td>IN</td>\n",
              "      <td>482.0</td>\n",
              "      <td>2.90</td>\n",
              "      <td>443915.0</td>\n",
              "      <td>NY</td>\n",
              "      <td>TL</td>\n",
              "    </tr>\n",
              "    <tr>\n",
              "      <th>6</th>\n",
              "      <td>a0W1W000008Mv2i</td>\n",
              "      <td>ALLEGANY, NY</td>\n",
              "      <td>LOGANSPORT, IN</td>\n",
              "      <td>1450.0</td>\n",
              "      <td>IN</td>\n",
              "      <td>482.0</td>\n",
              "      <td>3.01</td>\n",
              "      <td>444425.0</td>\n",
              "      <td>NY</td>\n",
              "      <td>TL</td>\n",
              "    </tr>\n",
              "    <tr>\n",
              "      <th>7</th>\n",
              "      <td>a0W1W000008Mv2j</td>\n",
              "      <td>BOONVILLE, NY</td>\n",
              "      <td>BALLY, PA</td>\n",
              "      <td>935.0</td>\n",
              "      <td>PA</td>\n",
              "      <td>314.0</td>\n",
              "      <td>2.98</td>\n",
              "      <td>444090.0</td>\n",
              "      <td>NY</td>\n",
              "      <td>TL</td>\n",
              "    </tr>\n",
              "    <tr>\n",
              "      <th>8</th>\n",
              "      <td>a0W1W000008Mv2k</td>\n",
              "      <td>BOONVILLE, NY</td>\n",
              "      <td>BRIDGEPORT, CT</td>\n",
              "      <td>800.0</td>\n",
              "      <td>CT</td>\n",
              "      <td>287.0</td>\n",
              "      <td>2.79</td>\n",
              "      <td>444395.0</td>\n",
              "      <td>NY</td>\n",
              "      <td>TL</td>\n",
              "    </tr>\n",
              "    <tr>\n",
              "      <th>9</th>\n",
              "      <td>a0W1W000008Mv2l</td>\n",
              "      <td>BOONVILLE, NY</td>\n",
              "      <td>CHEEKTOWAGA, NY</td>\n",
              "      <td>600.0</td>\n",
              "      <td>NY</td>\n",
              "      <td>229.0</td>\n",
              "      <td>2.62</td>\n",
              "      <td>444249.0</td>\n",
              "      <td>NY</td>\n",
              "      <td>TL</td>\n",
              "    </tr>\n",
              "    <tr>\n",
              "      <th>10</th>\n",
              "      <td>a0W1W000008Mv2m</td>\n",
              "      <td>BOONVILLE, NY</td>\n",
              "      <td>SMYRNA, NY</td>\n",
              "      <td>475.0</td>\n",
              "      <td>NY</td>\n",
              "      <td>80.0</td>\n",
              "      <td>5.94</td>\n",
              "      <td>444435.0</td>\n",
              "      <td>NY</td>\n",
              "      <td>TL</td>\n",
              "    </tr>\n",
              "    <tr>\n",
              "      <th>11</th>\n",
              "      <td>a0W1W000008Mv2n</td>\n",
              "      <td>BOONVILLE, NY</td>\n",
              "      <td>SMYRNA, NY</td>\n",
              "      <td>475.0</td>\n",
              "      <td>NY</td>\n",
              "      <td>80.0</td>\n",
              "      <td>5.94</td>\n",
              "      <td>444436.0</td>\n",
              "      <td>NY</td>\n",
              "      <td>TL</td>\n",
              "    </tr>\n",
              "    <tr>\n",
              "      <th>12</th>\n",
              "      <td>a0W1W000008Mv2o</td>\n",
              "      <td>BOONVILLE, NY</td>\n",
              "      <td>SMYRNA, NY</td>\n",
              "      <td>475.0</td>\n",
              "      <td>NY</td>\n",
              "      <td>80.0</td>\n",
              "      <td>5.94</td>\n",
              "      <td>444504.0</td>\n",
              "      <td>NY</td>\n",
              "      <td>TL</td>\n",
              "    </tr>\n",
              "    <tr>\n",
              "      <th>13</th>\n",
              "      <td>a0W1W000008Mv2p</td>\n",
              "      <td>CANDOR, NY</td>\n",
              "      <td>TEWKSBURY, MA</td>\n",
              "      <td>900.0</td>\n",
              "      <td>MA</td>\n",
              "      <td>374.0</td>\n",
              "      <td>2.41</td>\n",
              "      <td>444027.0</td>\n",
              "      <td>NY</td>\n",
              "      <td>TL</td>\n",
              "    </tr>\n",
              "    <tr>\n",
              "      <th>14</th>\n",
              "      <td>a0W1W000008Mv2q</td>\n",
              "      <td>CAYUTA, NY</td>\n",
              "      <td>CLEARFIELD, PA</td>\n",
              "      <td>700.0</td>\n",
              "      <td>PA</td>\n",
              "      <td>197.0</td>\n",
              "      <td>3.55</td>\n",
              "      <td>444001.0</td>\n",
              "      <td>NY</td>\n",
              "      <td>TL</td>\n",
              "    </tr>\n",
              "    <tr>\n",
              "      <th>15</th>\n",
              "      <td>a0W1W000008MuyS</td>\n",
              "      <td>BOONVILLE, NY</td>\n",
              "      <td>SMYRNA, NY</td>\n",
              "      <td>475.0</td>\n",
              "      <td>NY</td>\n",
              "      <td>80.0</td>\n",
              "      <td>5.94</td>\n",
              "      <td>442943.0</td>\n",
              "      <td>NY</td>\n",
              "      <td>TL</td>\n",
              "    </tr>\n",
              "    <tr>\n",
              "      <th>16</th>\n",
              "      <td>a0W1W000008MuyT</td>\n",
              "      <td>BOONVILLE, NY</td>\n",
              "      <td>SMYRNA, NY</td>\n",
              "      <td>475.0</td>\n",
              "      <td>NY</td>\n",
              "      <td>80.0</td>\n",
              "      <td>5.94</td>\n",
              "      <td>442944.0</td>\n",
              "      <td>NY</td>\n",
              "      <td>TL</td>\n",
              "    </tr>\n",
              "    <tr>\n",
              "      <th>17</th>\n",
              "      <td>a0W1W000008MuyU</td>\n",
              "      <td>BOONVILLE, NY</td>\n",
              "      <td>SMYRNA, NY</td>\n",
              "      <td>475.0</td>\n",
              "      <td>NY</td>\n",
              "      <td>80.0</td>\n",
              "      <td>5.94</td>\n",
              "      <td>442948.0</td>\n",
              "      <td>NY</td>\n",
              "      <td>TL</td>\n",
              "    </tr>\n",
              "    <tr>\n",
              "      <th>18</th>\n",
              "      <td>a0W1W000008MuyV</td>\n",
              "      <td>BOONVILLE, NY</td>\n",
              "      <td>SMYRNA, NY</td>\n",
              "      <td>475.0</td>\n",
              "      <td>NY</td>\n",
              "      <td>80.0</td>\n",
              "      <td>5.94</td>\n",
              "      <td>442950.0</td>\n",
              "      <td>NY</td>\n",
              "      <td>TL</td>\n",
              "    </tr>\n",
              "    <tr>\n",
              "      <th>19</th>\n",
              "      <td>a0W1W000008MuyW</td>\n",
              "      <td>BOONVILLE, NY</td>\n",
              "      <td>SMYRNA, NY</td>\n",
              "      <td>475.0</td>\n",
              "      <td>NY</td>\n",
              "      <td>80.0</td>\n",
              "      <td>5.94</td>\n",
              "      <td>442951.0</td>\n",
              "      <td>NY</td>\n",
              "      <td>TL</td>\n",
              "    </tr>\n",
              "    <tr>\n",
              "      <th>20</th>\n",
              "      <td>a0W1W000008MuyX</td>\n",
              "      <td>BOONVILLE, NY</td>\n",
              "      <td>SMYRNA, NY</td>\n",
              "      <td>475.0</td>\n",
              "      <td>NY</td>\n",
              "      <td>80.0</td>\n",
              "      <td>5.94</td>\n",
              "      <td>443218.0</td>\n",
              "      <td>NY</td>\n",
              "      <td>TL</td>\n",
              "    </tr>\n",
              "    <tr>\n",
              "      <th>21</th>\n",
              "      <td>a0W1W000008MuyY</td>\n",
              "      <td>CANTON, NC</td>\n",
              "      <td>ELLIJAY, GA</td>\n",
              "      <td>650.0</td>\n",
              "      <td>GA</td>\n",
              "      <td>146.0</td>\n",
              "      <td>4.45</td>\n",
              "      <td>442967.0</td>\n",
              "      <td>NC</td>\n",
              "      <td>TL</td>\n",
              "    </tr>\n",
              "    <tr>\n",
              "      <th>22</th>\n",
              "      <td>a0W1W000008MuyZ</td>\n",
              "      <td>COVE CITY, NC</td>\n",
              "      <td>BRAINERD, MN</td>\n",
              "      <td>3500.0</td>\n",
              "      <td>MN</td>\n",
              "      <td>1455.0</td>\n",
              "      <td>2.41</td>\n",
              "      <td>442126.0</td>\n",
              "      <td>NC</td>\n",
              "      <td>TL</td>\n",
              "    </tr>\n",
              "    <tr>\n",
              "      <th>23</th>\n",
              "      <td>a0W1W000008Muya</td>\n",
              "      <td>COVE CITY, NC</td>\n",
              "      <td>RICE, MN</td>\n",
              "      <td>3400.0</td>\n",
              "      <td>MN</td>\n",
              "      <td>1406.0</td>\n",
              "      <td>2.42</td>\n",
              "      <td>441304.0</td>\n",
              "      <td>NC</td>\n",
              "      <td>TL</td>\n",
              "    </tr>\n",
              "    <tr>\n",
              "      <th>24</th>\n",
              "      <td>a0W1W000008Muyb</td>\n",
              "      <td>DONALDS, SC</td>\n",
              "      <td>SUWANEE, GA</td>\n",
              "      <td>700.0</td>\n",
              "      <td>GA</td>\n",
              "      <td>123.0</td>\n",
              "      <td>5.69</td>\n",
              "      <td>442362.0</td>\n",
              "      <td>SC</td>\n",
              "      <td>TL</td>\n",
              "    </tr>\n",
              "    <tr>\n",
              "      <th>25</th>\n",
              "      <td>a0W1W000008Muyc</td>\n",
              "      <td>DONALDS, SC</td>\n",
              "      <td>ZEELAND, MI</td>\n",
              "      <td>2450.0</td>\n",
              "      <td>MI</td>\n",
              "      <td>792.0</td>\n",
              "      <td>3.09</td>\n",
              "      <td>441717.0</td>\n",
              "      <td>SC</td>\n",
              "      <td>TL</td>\n",
              "    </tr>\n",
              "    <tr>\n",
              "      <th>26</th>\n",
              "      <td>a0W1W000008Muyd</td>\n",
              "      <td>HUNTERSVILLE, NC</td>\n",
              "      <td>SAYRE, PA</td>\n",
              "      <td>1750.0</td>\n",
              "      <td>PA</td>\n",
              "      <td>613.0</td>\n",
              "      <td>2.85</td>\n",
              "      <td>442465.0</td>\n",
              "      <td>NC</td>\n",
              "      <td>TL</td>\n",
              "    </tr>\n",
              "    <tr>\n",
              "      <th>27</th>\n",
              "      <td>a0W1W000008Muye</td>\n",
              "      <td>HURLEY, WI</td>\n",
              "      <td>LA PORTE, IN</td>\n",
              "      <td>1130.0</td>\n",
              "      <td>IN</td>\n",
              "      <td>475.0</td>\n",
              "      <td>2.38</td>\n",
              "      <td>441366.0</td>\n",
              "      <td>WI</td>\n",
              "      <td>TL</td>\n",
              "    </tr>\n",
              "    <tr>\n",
              "      <th>28</th>\n",
              "      <td>a0W1W000008Muyf</td>\n",
              "      <td>LEITCHFIELD, KY</td>\n",
              "      <td>ST. AUGUSTINE, FL</td>\n",
              "      <td>2300.0</td>\n",
              "      <td>FL</td>\n",
              "      <td>767.0</td>\n",
              "      <td>3.00</td>\n",
              "      <td>442076.0</td>\n",
              "      <td>KY</td>\n",
              "      <td>TL</td>\n",
              "    </tr>\n",
              "    <tr>\n",
              "      <th>29</th>\n",
              "      <td>a0W1W000008Muyg</td>\n",
              "      <td>MARIETTA, OH</td>\n",
              "      <td>BEVERLY, WV</td>\n",
              "      <td>850.0</td>\n",
              "      <td>WV</td>\n",
              "      <td>150.0</td>\n",
              "      <td>5.67</td>\n",
              "      <td>442282.0</td>\n",
              "      <td>OH</td>\n",
              "      <td>TL</td>\n",
              "    </tr>\n",
              "    <tr>\n",
              "      <th>...</th>\n",
              "      <td>...</td>\n",
              "      <td>...</td>\n",
              "      <td>...</td>\n",
              "      <td>...</td>\n",
              "      <td>...</td>\n",
              "      <td>...</td>\n",
              "      <td>...</td>\n",
              "      <td>...</td>\n",
              "      <td>...</td>\n",
              "      <td>...</td>\n",
              "    </tr>\n",
              "    <tr>\n",
              "      <th>1900</th>\n",
              "      <td>a0W1W000008MuoW</td>\n",
              "      <td>ALLENSVILLE, PA</td>\n",
              "      <td>TITUSVILLE, PA</td>\n",
              "      <td>600.0</td>\n",
              "      <td>PA</td>\n",
              "      <td>170.0</td>\n",
              "      <td>3.53</td>\n",
              "      <td>438583.0</td>\n",
              "      <td>PA</td>\n",
              "      <td>TL</td>\n",
              "    </tr>\n",
              "    <tr>\n",
              "      <th>1901</th>\n",
              "      <td>a0W1W000008MuoX</td>\n",
              "      <td>BARTOW, WV</td>\n",
              "      <td>LONG BEACH, CA</td>\n",
              "      <td>2587.5</td>\n",
              "      <td>CA</td>\n",
              "      <td>2522.0</td>\n",
              "      <td>1.03</td>\n",
              "      <td>438519.0</td>\n",
              "      <td>WV</td>\n",
              "      <td>INTRMDL</td>\n",
              "    </tr>\n",
              "    <tr>\n",
              "      <th>1902</th>\n",
              "      <td>a0W1W000008MuoY</td>\n",
              "      <td>BOONVILLE, NY</td>\n",
              "      <td>BRIDGEPORT, CT</td>\n",
              "      <td>800.0</td>\n",
              "      <td>CT</td>\n",
              "      <td>287.0</td>\n",
              "      <td>2.79</td>\n",
              "      <td>438535.0</td>\n",
              "      <td>NY</td>\n",
              "      <td>TL</td>\n",
              "    </tr>\n",
              "    <tr>\n",
              "      <th>1903</th>\n",
              "      <td>a0W1W000008MuoZ</td>\n",
              "      <td>BOONVILLE, NY</td>\n",
              "      <td>SMYRNA, NY</td>\n",
              "      <td>475.0</td>\n",
              "      <td>NY</td>\n",
              "      <td>80.0</td>\n",
              "      <td>5.94</td>\n",
              "      <td>439018.0</td>\n",
              "      <td>NY</td>\n",
              "      <td>TL</td>\n",
              "    </tr>\n",
              "    <tr>\n",
              "      <th>1904</th>\n",
              "      <td>a0W1W000008Muoa</td>\n",
              "      <td>BOONVILLE, NY</td>\n",
              "      <td>SMYRNA, NY</td>\n",
              "      <td>475.0</td>\n",
              "      <td>NY</td>\n",
              "      <td>80.0</td>\n",
              "      <td>5.94</td>\n",
              "      <td>439019.0</td>\n",
              "      <td>NY</td>\n",
              "      <td>TL</td>\n",
              "    </tr>\n",
              "    <tr>\n",
              "      <th>1905</th>\n",
              "      <td>a0W1W000008Muob</td>\n",
              "      <td>BOONVILLE, NY</td>\n",
              "      <td>SMYRNA, NY</td>\n",
              "      <td>475.0</td>\n",
              "      <td>NY</td>\n",
              "      <td>80.0</td>\n",
              "      <td>5.94</td>\n",
              "      <td>439021.0</td>\n",
              "      <td>NY</td>\n",
              "      <td>TL</td>\n",
              "    </tr>\n",
              "    <tr>\n",
              "      <th>1906</th>\n",
              "      <td>a0W1W000008Muoc</td>\n",
              "      <td>BOONVILLE, NY</td>\n",
              "      <td>SMYRNA, NY</td>\n",
              "      <td>475.0</td>\n",
              "      <td>NY</td>\n",
              "      <td>80.0</td>\n",
              "      <td>5.94</td>\n",
              "      <td>439022.0</td>\n",
              "      <td>NY</td>\n",
              "      <td>TL</td>\n",
              "    </tr>\n",
              "    <tr>\n",
              "      <th>1907</th>\n",
              "      <td>a0W1W000008Muod</td>\n",
              "      <td>CANDOR, NY</td>\n",
              "      <td>ACTON, MA</td>\n",
              "      <td>950.0</td>\n",
              "      <td>MA</td>\n",
              "      <td>362.0</td>\n",
              "      <td>2.62</td>\n",
              "      <td>438200.0</td>\n",
              "      <td>NY</td>\n",
              "      <td>TL</td>\n",
              "    </tr>\n",
              "    <tr>\n",
              "      <th>1908</th>\n",
              "      <td>a0W1W000008Muoe</td>\n",
              "      <td>CANDOR, NY</td>\n",
              "      <td>MIFFLINBURG, PA</td>\n",
              "      <td>500.0</td>\n",
              "      <td>PA</td>\n",
              "      <td>130.0</td>\n",
              "      <td>3.85</td>\n",
              "      <td>438739.0</td>\n",
              "      <td>NY</td>\n",
              "      <td>TL</td>\n",
              "    </tr>\n",
              "    <tr>\n",
              "      <th>1909</th>\n",
              "      <td>a0W1W000008Muof</td>\n",
              "      <td>CANDOR, NY</td>\n",
              "      <td>MIFFLINBURG, PA</td>\n",
              "      <td>500.0</td>\n",
              "      <td>PA</td>\n",
              "      <td>130.0</td>\n",
              "      <td>3.85</td>\n",
              "      <td>438819.0</td>\n",
              "      <td>NY</td>\n",
              "      <td>TL</td>\n",
              "    </tr>\n",
              "    <tr>\n",
              "      <th>1910</th>\n",
              "      <td>a0W1W000008Muog</td>\n",
              "      <td>CAYUTA, NY</td>\n",
              "      <td>AUBURN, AL</td>\n",
              "      <td>1900.0</td>\n",
              "      <td>AL</td>\n",
              "      <td>1016.0</td>\n",
              "      <td>1.87</td>\n",
              "      <td>438799.0</td>\n",
              "      <td>NY</td>\n",
              "      <td>TL</td>\n",
              "    </tr>\n",
              "    <tr>\n",
              "      <th>1911</th>\n",
              "      <td>a0W1W000008Muom</td>\n",
              "      <td>LEITCHFIELD, KY</td>\n",
              "      <td>FORT WORTH, TX</td>\n",
              "      <td>2000.0</td>\n",
              "      <td>TX</td>\n",
              "      <td>805.0</td>\n",
              "      <td>2.48</td>\n",
              "      <td>438715.0</td>\n",
              "      <td>KY</td>\n",
              "      <td>TL</td>\n",
              "    </tr>\n",
              "    <tr>\n",
              "      <th>1912</th>\n",
              "      <td>a0W1W000008Muon</td>\n",
              "      <td>LEITCHFIELD, KY</td>\n",
              "      <td>SCOTT CITY, MO</td>\n",
              "      <td>900.0</td>\n",
              "      <td>MO</td>\n",
              "      <td>263.0</td>\n",
              "      <td>3.42</td>\n",
              "      <td>437529.0</td>\n",
              "      <td>KY</td>\n",
              "      <td>TL</td>\n",
              "    </tr>\n",
              "    <tr>\n",
              "      <th>1913</th>\n",
              "      <td>a0W1W000008Muoo</td>\n",
              "      <td>LEWISTOWN, PA</td>\n",
              "      <td>SMYRNA, NY</td>\n",
              "      <td>700.0</td>\n",
              "      <td>NY</td>\n",
              "      <td>250.0</td>\n",
              "      <td>2.80</td>\n",
              "      <td>438429.0</td>\n",
              "      <td>PA</td>\n",
              "      <td>TL</td>\n",
              "    </tr>\n",
              "    <tr>\n",
              "      <th>1914</th>\n",
              "      <td>a0W1W000008Muop</td>\n",
              "      <td>MARIETTA, OH</td>\n",
              "      <td>VONORE, TN</td>\n",
              "      <td>1600.0</td>\n",
              "      <td>TN</td>\n",
              "      <td>436.0</td>\n",
              "      <td>3.67</td>\n",
              "      <td>438761.0</td>\n",
              "      <td>OH</td>\n",
              "      <td>TL</td>\n",
              "    </tr>\n",
              "    <tr>\n",
              "      <th>1915</th>\n",
              "      <td>a0W1W000008Muoq</td>\n",
              "      <td>MARIETTA, OH</td>\n",
              "      <td>VONORE, TN</td>\n",
              "      <td>1700.0</td>\n",
              "      <td>TN</td>\n",
              "      <td>436.0</td>\n",
              "      <td>3.90</td>\n",
              "      <td>438736.0</td>\n",
              "      <td>OH</td>\n",
              "      <td>TL</td>\n",
              "    </tr>\n",
              "    <tr>\n",
              "      <th>1916</th>\n",
              "      <td>a0W1W000008Muor</td>\n",
              "      <td>MARIETTA, OH</td>\n",
              "      <td>WAYNESBORO, VA</td>\n",
              "      <td>900.0</td>\n",
              "      <td>VA</td>\n",
              "      <td>317.0</td>\n",
              "      <td>2.84</td>\n",
              "      <td>438407.0</td>\n",
              "      <td>OH</td>\n",
              "      <td>TL</td>\n",
              "    </tr>\n",
              "    <tr>\n",
              "      <th>1917</th>\n",
              "      <td>a0W1W000008Mup7</td>\n",
              "      <td>BOONVILLE, NY</td>\n",
              "      <td>SMYRNA, NY</td>\n",
              "      <td>475.0</td>\n",
              "      <td>NY</td>\n",
              "      <td>80.0</td>\n",
              "      <td>5.94</td>\n",
              "      <td>439166.0</td>\n",
              "      <td>NY</td>\n",
              "      <td>TL</td>\n",
              "    </tr>\n",
              "    <tr>\n",
              "      <th>1918</th>\n",
              "      <td>a0W1W000008Mup8</td>\n",
              "      <td>BRATTLEBORO, VT</td>\n",
              "      <td>SMYRNA, NY</td>\n",
              "      <td>750.0</td>\n",
              "      <td>NY</td>\n",
              "      <td>201.0</td>\n",
              "      <td>3.73</td>\n",
              "      <td>438805.0</td>\n",
              "      <td>VT</td>\n",
              "      <td>TL</td>\n",
              "    </tr>\n",
              "    <tr>\n",
              "      <th>1919</th>\n",
              "      <td>a0W1W000008Mup9</td>\n",
              "      <td>BRATTLEBORO, VT</td>\n",
              "      <td>SMYRNA, NY</td>\n",
              "      <td>1100.0</td>\n",
              "      <td>NY</td>\n",
              "      <td>201.0</td>\n",
              "      <td>5.47</td>\n",
              "      <td>438373.0</td>\n",
              "      <td>VT</td>\n",
              "      <td>LTL</td>\n",
              "    </tr>\n",
              "    <tr>\n",
              "      <th>1920</th>\n",
              "      <td>a0W1W000008Mup6</td>\n",
              "      <td>BOONVILLE, NY</td>\n",
              "      <td>SMYRNA, NY</td>\n",
              "      <td>475.0</td>\n",
              "      <td>NY</td>\n",
              "      <td>80.0</td>\n",
              "      <td>5.94</td>\n",
              "      <td>439060.0</td>\n",
              "      <td>NY</td>\n",
              "      <td>TL</td>\n",
              "    </tr>\n",
              "    <tr>\n",
              "      <th>1921</th>\n",
              "      <td>a0W1W000008MupA</td>\n",
              "      <td>CANDOR, NY</td>\n",
              "      <td>NEWBURYPORT, MA</td>\n",
              "      <td>1000.0</td>\n",
              "      <td>MA</td>\n",
              "      <td>403.0</td>\n",
              "      <td>2.48</td>\n",
              "      <td>437712.0</td>\n",
              "      <td>NY</td>\n",
              "      <td>TL</td>\n",
              "    </tr>\n",
              "    <tr>\n",
              "      <th>1922</th>\n",
              "      <td>a0W1W000008MupB</td>\n",
              "      <td>CANDOR, NY</td>\n",
              "      <td>SUGARCREEK, OH</td>\n",
              "      <td>850.0</td>\n",
              "      <td>OH</td>\n",
              "      <td>405.0</td>\n",
              "      <td>2.10</td>\n",
              "      <td>438815.0</td>\n",
              "      <td>NY</td>\n",
              "      <td>TL</td>\n",
              "    </tr>\n",
              "    <tr>\n",
              "      <th>1923</th>\n",
              "      <td>NaN</td>\n",
              "      <td>NaN</td>\n",
              "      <td>NaN</td>\n",
              "      <td>NaN</td>\n",
              "      <td>NaN</td>\n",
              "      <td>NaN</td>\n",
              "      <td>NaN</td>\n",
              "      <td>NaN</td>\n",
              "      <td>NaN</td>\n",
              "      <td>NaN</td>\n",
              "    </tr>\n",
              "    <tr>\n",
              "      <th>1924</th>\n",
              "      <td>NaN</td>\n",
              "      <td>NaN</td>\n",
              "      <td>NaN</td>\n",
              "      <td>NaN</td>\n",
              "      <td>NaN</td>\n",
              "      <td>NaN</td>\n",
              "      <td>NaN</td>\n",
              "      <td>NaN</td>\n",
              "      <td>NaN</td>\n",
              "      <td>NaN</td>\n",
              "    </tr>\n",
              "    <tr>\n",
              "      <th>1925</th>\n",
              "      <td>Domestic Shipments(2/14/2018--&gt;8/14/2018</td>\n",
              "      <td>NaN</td>\n",
              "      <td>NaN</td>\n",
              "      <td>NaN</td>\n",
              "      <td>NaN</td>\n",
              "      <td>NaN</td>\n",
              "      <td>NaN</td>\n",
              "      <td>NaN</td>\n",
              "      <td>NaN</td>\n",
              "      <td>NaN</td>\n",
              "    </tr>\n",
              "    <tr>\n",
              "      <th>1926</th>\n",
              "      <td>Copyright (c) 2000-2018 salesforce.com, inc. A...</td>\n",
              "      <td>NaN</td>\n",
              "      <td>NaN</td>\n",
              "      <td>NaN</td>\n",
              "      <td>NaN</td>\n",
              "      <td>NaN</td>\n",
              "      <td>NaN</td>\n",
              "      <td>NaN</td>\n",
              "      <td>NaN</td>\n",
              "      <td>NaN</td>\n",
              "    </tr>\n",
              "    <tr>\n",
              "      <th>1927</th>\n",
              "      <td>Confidential Information - Do Not Distribute</td>\n",
              "      <td>NaN</td>\n",
              "      <td>NaN</td>\n",
              "      <td>NaN</td>\n",
              "      <td>NaN</td>\n",
              "      <td>NaN</td>\n",
              "      <td>NaN</td>\n",
              "      <td>NaN</td>\n",
              "      <td>NaN</td>\n",
              "      <td>NaN</td>\n",
              "    </tr>\n",
              "    <tr>\n",
              "      <th>1928</th>\n",
              "      <td>Generated By:  Micah Bledsoe  8/14/2018 8:31 AM</td>\n",
              "      <td>NaN</td>\n",
              "      <td>NaN</td>\n",
              "      <td>NaN</td>\n",
              "      <td>NaN</td>\n",
              "      <td>NaN</td>\n",
              "      <td>NaN</td>\n",
              "      <td>NaN</td>\n",
              "      <td>NaN</td>\n",
              "      <td>NaN</td>\n",
              "    </tr>\n",
              "    <tr>\n",
              "      <th>1929</th>\n",
              "      <td>Baillie Lumber</td>\n",
              "      <td>NaN</td>\n",
              "      <td>NaN</td>\n",
              "      <td>NaN</td>\n",
              "      <td>NaN</td>\n",
              "      <td>NaN</td>\n",
              "      <td>NaN</td>\n",
              "      <td>NaN</td>\n",
              "      <td>NaN</td>\n",
              "      <td>NaN</td>\n",
              "    </tr>\n",
              "  </tbody>\n",
              "</table>\n",
              "<p>1930 rows × 10 columns</p>\n",
              "</div>"
            ],
            "text/plain": [
              "                                Domestic Shipments Name         LANE FROM  \\\n",
              "0                                       a0W1W000008Mv2c        SMYRNA, NY   \n",
              "1                                       a0W1W000008Mv2d        SMYRNA, NY   \n",
              "2                                       a0W1W000008Mv2e    TITUSVILLE, PA   \n",
              "3                                       a0W1W000008Mv2f    TITUSVILLE, PA   \n",
              "4                                       a0W1W000008Mv2g      ALLEGANY, NY   \n",
              "5                                       a0W1W000008Mv2h      ALLEGANY, NY   \n",
              "6                                       a0W1W000008Mv2i      ALLEGANY, NY   \n",
              "7                                       a0W1W000008Mv2j     BOONVILLE, NY   \n",
              "8                                       a0W1W000008Mv2k     BOONVILLE, NY   \n",
              "9                                       a0W1W000008Mv2l     BOONVILLE, NY   \n",
              "10                                      a0W1W000008Mv2m     BOONVILLE, NY   \n",
              "11                                      a0W1W000008Mv2n     BOONVILLE, NY   \n",
              "12                                      a0W1W000008Mv2o     BOONVILLE, NY   \n",
              "13                                      a0W1W000008Mv2p        CANDOR, NY   \n",
              "14                                      a0W1W000008Mv2q        CAYUTA, NY   \n",
              "15                                      a0W1W000008MuyS     BOONVILLE, NY   \n",
              "16                                      a0W1W000008MuyT     BOONVILLE, NY   \n",
              "17                                      a0W1W000008MuyU     BOONVILLE, NY   \n",
              "18                                      a0W1W000008MuyV     BOONVILLE, NY   \n",
              "19                                      a0W1W000008MuyW     BOONVILLE, NY   \n",
              "20                                      a0W1W000008MuyX     BOONVILLE, NY   \n",
              "21                                      a0W1W000008MuyY        CANTON, NC   \n",
              "22                                      a0W1W000008MuyZ     COVE CITY, NC   \n",
              "23                                      a0W1W000008Muya     COVE CITY, NC   \n",
              "24                                      a0W1W000008Muyb       DONALDS, SC   \n",
              "25                                      a0W1W000008Muyc       DONALDS, SC   \n",
              "26                                      a0W1W000008Muyd  HUNTERSVILLE, NC   \n",
              "27                                      a0W1W000008Muye        HURLEY, WI   \n",
              "28                                      a0W1W000008Muyf   LEITCHFIELD, KY   \n",
              "29                                      a0W1W000008Muyg      MARIETTA, OH   \n",
              "...                                                 ...               ...   \n",
              "1900                                    a0W1W000008MuoW   ALLENSVILLE, PA   \n",
              "1901                                    a0W1W000008MuoX        BARTOW, WV   \n",
              "1902                                    a0W1W000008MuoY     BOONVILLE, NY   \n",
              "1903                                    a0W1W000008MuoZ     BOONVILLE, NY   \n",
              "1904                                    a0W1W000008Muoa     BOONVILLE, NY   \n",
              "1905                                    a0W1W000008Muob     BOONVILLE, NY   \n",
              "1906                                    a0W1W000008Muoc     BOONVILLE, NY   \n",
              "1907                                    a0W1W000008Muod        CANDOR, NY   \n",
              "1908                                    a0W1W000008Muoe        CANDOR, NY   \n",
              "1909                                    a0W1W000008Muof        CANDOR, NY   \n",
              "1910                                    a0W1W000008Muog        CAYUTA, NY   \n",
              "1911                                    a0W1W000008Muom   LEITCHFIELD, KY   \n",
              "1912                                    a0W1W000008Muon   LEITCHFIELD, KY   \n",
              "1913                                    a0W1W000008Muoo     LEWISTOWN, PA   \n",
              "1914                                    a0W1W000008Muop      MARIETTA, OH   \n",
              "1915                                    a0W1W000008Muoq      MARIETTA, OH   \n",
              "1916                                    a0W1W000008Muor      MARIETTA, OH   \n",
              "1917                                    a0W1W000008Mup7     BOONVILLE, NY   \n",
              "1918                                    a0W1W000008Mup8   BRATTLEBORO, VT   \n",
              "1919                                    a0W1W000008Mup9   BRATTLEBORO, VT   \n",
              "1920                                    a0W1W000008Mup6     BOONVILLE, NY   \n",
              "1921                                    a0W1W000008MupA        CANDOR, NY   \n",
              "1922                                    a0W1W000008MupB        CANDOR, NY   \n",
              "1923                                                NaN               NaN   \n",
              "1924                                                NaN               NaN   \n",
              "1925           Domestic Shipments(2/14/2018-->8/14/2018               NaN   \n",
              "1926  Copyright (c) 2000-2018 salesforce.com, inc. A...               NaN   \n",
              "1927       Confidential Information - Do Not Distribute               NaN   \n",
              "1928    Generated By:  Micah Bledsoe  8/14/2018 8:31 AM               NaN   \n",
              "1929                                     Baillie Lumber               NaN   \n",
              "\n",
              "                LANE TO  FREIGHT DEST STATE  DISTANCE  RATE_PER_MILE  \\\n",
              "0        LOGANSPORT, IN   1750.0         IN     676.0           2.59   \n",
              "1        SWEDESBORO, NJ    700.0         NJ     254.0           2.76   \n",
              "2       ST-EUSTACHE, QC   1700.0         QC     519.0           3.28   \n",
              "3              TROY, PA    750.0         PA     240.0           3.13   \n",
              "4         LIVERMORE, CA   2710.0         CA    2656.0           1.02   \n",
              "5        LOGANSPORT, IN   1400.0         IN     482.0           2.90   \n",
              "6        LOGANSPORT, IN   1450.0         IN     482.0           3.01   \n",
              "7             BALLY, PA    935.0         PA     314.0           2.98   \n",
              "8        BRIDGEPORT, CT    800.0         CT     287.0           2.79   \n",
              "9       CHEEKTOWAGA, NY    600.0         NY     229.0           2.62   \n",
              "10           SMYRNA, NY    475.0         NY      80.0           5.94   \n",
              "11           SMYRNA, NY    475.0         NY      80.0           5.94   \n",
              "12           SMYRNA, NY    475.0         NY      80.0           5.94   \n",
              "13        TEWKSBURY, MA    900.0         MA     374.0           2.41   \n",
              "14       CLEARFIELD, PA    700.0         PA     197.0           3.55   \n",
              "15           SMYRNA, NY    475.0         NY      80.0           5.94   \n",
              "16           SMYRNA, NY    475.0         NY      80.0           5.94   \n",
              "17           SMYRNA, NY    475.0         NY      80.0           5.94   \n",
              "18           SMYRNA, NY    475.0         NY      80.0           5.94   \n",
              "19           SMYRNA, NY    475.0         NY      80.0           5.94   \n",
              "20           SMYRNA, NY    475.0         NY      80.0           5.94   \n",
              "21          ELLIJAY, GA    650.0         GA     146.0           4.45   \n",
              "22         BRAINERD, MN   3500.0         MN    1455.0           2.41   \n",
              "23             RICE, MN   3400.0         MN    1406.0           2.42   \n",
              "24          SUWANEE, GA    700.0         GA     123.0           5.69   \n",
              "25          ZEELAND, MI   2450.0         MI     792.0           3.09   \n",
              "26            SAYRE, PA   1750.0         PA     613.0           2.85   \n",
              "27         LA PORTE, IN   1130.0         IN     475.0           2.38   \n",
              "28    ST. AUGUSTINE, FL   2300.0         FL     767.0           3.00   \n",
              "29          BEVERLY, WV    850.0         WV     150.0           5.67   \n",
              "...                 ...      ...        ...       ...            ...   \n",
              "1900     TITUSVILLE, PA    600.0         PA     170.0           3.53   \n",
              "1901     LONG BEACH, CA   2587.5         CA    2522.0           1.03   \n",
              "1902     BRIDGEPORT, CT    800.0         CT     287.0           2.79   \n",
              "1903         SMYRNA, NY    475.0         NY      80.0           5.94   \n",
              "1904         SMYRNA, NY    475.0         NY      80.0           5.94   \n",
              "1905         SMYRNA, NY    475.0         NY      80.0           5.94   \n",
              "1906         SMYRNA, NY    475.0         NY      80.0           5.94   \n",
              "1907          ACTON, MA    950.0         MA     362.0           2.62   \n",
              "1908    MIFFLINBURG, PA    500.0         PA     130.0           3.85   \n",
              "1909    MIFFLINBURG, PA    500.0         PA     130.0           3.85   \n",
              "1910         AUBURN, AL   1900.0         AL    1016.0           1.87   \n",
              "1911     FORT WORTH, TX   2000.0         TX     805.0           2.48   \n",
              "1912     SCOTT CITY, MO    900.0         MO     263.0           3.42   \n",
              "1913         SMYRNA, NY    700.0         NY     250.0           2.80   \n",
              "1914         VONORE, TN   1600.0         TN     436.0           3.67   \n",
              "1915         VONORE, TN   1700.0         TN     436.0           3.90   \n",
              "1916     WAYNESBORO, VA    900.0         VA     317.0           2.84   \n",
              "1917         SMYRNA, NY    475.0         NY      80.0           5.94   \n",
              "1918         SMYRNA, NY    750.0         NY     201.0           3.73   \n",
              "1919         SMYRNA, NY   1100.0         NY     201.0           5.47   \n",
              "1920         SMYRNA, NY    475.0         NY      80.0           5.94   \n",
              "1921    NEWBURYPORT, MA   1000.0         MA     403.0           2.48   \n",
              "1922     SUGARCREEK, OH    850.0         OH     405.0           2.10   \n",
              "1923                NaN      NaN        NaN       NaN            NaN   \n",
              "1924                NaN      NaN        NaN       NaN            NaN   \n",
              "1925                NaN      NaN        NaN       NaN            NaN   \n",
              "1926                NaN      NaN        NaN       NaN            NaN   \n",
              "1927                NaN      NaN        NaN       NaN            NaN   \n",
              "1928                NaN      NaN        NaN       NaN            NaN   \n",
              "1929                NaN      NaN        NaN       NaN            NaN   \n",
              "\n",
              "      SHIPMENT SOURCE STATE TRANSPORT_MODE  \n",
              "0     444080.0           NY             TL  \n",
              "1     443813.0           NY             TL  \n",
              "2     443848.0           PA             TL  \n",
              "3     442823.0           PA             TL  \n",
              "4     443101.0           NY        INTRMDL  \n",
              "5     443915.0           NY             TL  \n",
              "6     444425.0           NY             TL  \n",
              "7     444090.0           NY             TL  \n",
              "8     444395.0           NY             TL  \n",
              "9     444249.0           NY             TL  \n",
              "10    444435.0           NY             TL  \n",
              "11    444436.0           NY             TL  \n",
              "12    444504.0           NY             TL  \n",
              "13    444027.0           NY             TL  \n",
              "14    444001.0           NY             TL  \n",
              "15    442943.0           NY             TL  \n",
              "16    442944.0           NY             TL  \n",
              "17    442948.0           NY             TL  \n",
              "18    442950.0           NY             TL  \n",
              "19    442951.0           NY             TL  \n",
              "20    443218.0           NY             TL  \n",
              "21    442967.0           NC             TL  \n",
              "22    442126.0           NC             TL  \n",
              "23    441304.0           NC             TL  \n",
              "24    442362.0           SC             TL  \n",
              "25    441717.0           SC             TL  \n",
              "26    442465.0           NC             TL  \n",
              "27    441366.0           WI             TL  \n",
              "28    442076.0           KY             TL  \n",
              "29    442282.0           OH             TL  \n",
              "...        ...          ...            ...  \n",
              "1900  438583.0           PA             TL  \n",
              "1901  438519.0           WV        INTRMDL  \n",
              "1902  438535.0           NY             TL  \n",
              "1903  439018.0           NY             TL  \n",
              "1904  439019.0           NY             TL  \n",
              "1905  439021.0           NY             TL  \n",
              "1906  439022.0           NY             TL  \n",
              "1907  438200.0           NY             TL  \n",
              "1908  438739.0           NY             TL  \n",
              "1909  438819.0           NY             TL  \n",
              "1910  438799.0           NY             TL  \n",
              "1911  438715.0           KY             TL  \n",
              "1912  437529.0           KY             TL  \n",
              "1913  438429.0           PA             TL  \n",
              "1914  438761.0           OH             TL  \n",
              "1915  438736.0           OH             TL  \n",
              "1916  438407.0           OH             TL  \n",
              "1917  439166.0           NY             TL  \n",
              "1918  438805.0           VT             TL  \n",
              "1919  438373.0           VT            LTL  \n",
              "1920  439060.0           NY             TL  \n",
              "1921  437712.0           NY             TL  \n",
              "1922  438815.0           NY             TL  \n",
              "1923       NaN          NaN            NaN  \n",
              "1924       NaN          NaN            NaN  \n",
              "1925       NaN          NaN            NaN  \n",
              "1926       NaN          NaN            NaN  \n",
              "1927       NaN          NaN            NaN  \n",
              "1928       NaN          NaN            NaN  \n",
              "1929       NaN          NaN            NaN  \n",
              "\n",
              "[1930 rows x 10 columns]"
            ]
          },
          "metadata": {
            "tags": []
          },
          "execution_count": 237
        }
      ]
    },
    {
      "metadata": {
        "id": "jy-TRlg9jcsJ",
        "colab_type": "code",
        "colab": {}
      },
      "cell_type": "code",
      "source": [
        "df = pd.read_csv('6monthsDomestic.csv')"
      ],
      "execution_count": 0,
      "outputs": []
    },
    {
      "metadata": {
        "id": "XN2iAtxijcsK",
        "colab_type": "code",
        "colab": {}
      },
      "cell_type": "code",
      "source": [
        "df.to_csv('My_output', index = False)"
      ],
      "execution_count": 0,
      "outputs": []
    },
    {
      "metadata": {
        "id": "nk-SQyjtjcsM",
        "colab_type": "code",
        "colab": {},
        "outputId": "4f0fb335-8662-435e-a3f1-e63a611a9dd0"
      },
      "cell_type": "code",
      "source": [
        "pd.read_csv('My_output')"
      ],
      "execution_count": 0,
      "outputs": [
        {
          "output_type": "execute_result",
          "data": {
            "text/html": [
              "<div>\n",
              "<style scoped>\n",
              "    .dataframe tbody tr th:only-of-type {\n",
              "        vertical-align: middle;\n",
              "    }\n",
              "\n",
              "    .dataframe tbody tr th {\n",
              "        vertical-align: top;\n",
              "    }\n",
              "\n",
              "    .dataframe thead th {\n",
              "        text-align: right;\n",
              "    }\n",
              "</style>\n",
              "<table border=\"1\" class=\"dataframe\">\n",
              "  <thead>\n",
              "    <tr style=\"text-align: right;\">\n",
              "      <th></th>\n",
              "      <th>Domestic Shipments Name</th>\n",
              "      <th>LANE FROM</th>\n",
              "      <th>LANE TO</th>\n",
              "      <th>FREIGHT</th>\n",
              "      <th>DEST STATE</th>\n",
              "      <th>DISTANCE</th>\n",
              "      <th>RATE_PER_MILE</th>\n",
              "      <th>SHIPMENT</th>\n",
              "      <th>SOURCE STATE</th>\n",
              "      <th>TRANSPORT_MODE</th>\n",
              "    </tr>\n",
              "  </thead>\n",
              "  <tbody>\n",
              "    <tr>\n",
              "      <th>0</th>\n",
              "      <td>a0W1W000008Mv2c</td>\n",
              "      <td>SMYRNA, NY</td>\n",
              "      <td>LOGANSPORT, IN</td>\n",
              "      <td>1750.0</td>\n",
              "      <td>IN</td>\n",
              "      <td>676.0</td>\n",
              "      <td>2.59</td>\n",
              "      <td>444080.0</td>\n",
              "      <td>NY</td>\n",
              "      <td>TL</td>\n",
              "    </tr>\n",
              "    <tr>\n",
              "      <th>1</th>\n",
              "      <td>a0W1W000008Mv2d</td>\n",
              "      <td>SMYRNA, NY</td>\n",
              "      <td>SWEDESBORO, NJ</td>\n",
              "      <td>700.0</td>\n",
              "      <td>NJ</td>\n",
              "      <td>254.0</td>\n",
              "      <td>2.76</td>\n",
              "      <td>443813.0</td>\n",
              "      <td>NY</td>\n",
              "      <td>TL</td>\n",
              "    </tr>\n",
              "    <tr>\n",
              "      <th>2</th>\n",
              "      <td>a0W1W000008Mv2e</td>\n",
              "      <td>TITUSVILLE, PA</td>\n",
              "      <td>ST-EUSTACHE, QC</td>\n",
              "      <td>1700.0</td>\n",
              "      <td>QC</td>\n",
              "      <td>519.0</td>\n",
              "      <td>3.28</td>\n",
              "      <td>443848.0</td>\n",
              "      <td>PA</td>\n",
              "      <td>TL</td>\n",
              "    </tr>\n",
              "    <tr>\n",
              "      <th>3</th>\n",
              "      <td>a0W1W000008Mv2f</td>\n",
              "      <td>TITUSVILLE, PA</td>\n",
              "      <td>TROY, PA</td>\n",
              "      <td>750.0</td>\n",
              "      <td>PA</td>\n",
              "      <td>240.0</td>\n",
              "      <td>3.13</td>\n",
              "      <td>442823.0</td>\n",
              "      <td>PA</td>\n",
              "      <td>TL</td>\n",
              "    </tr>\n",
              "    <tr>\n",
              "      <th>4</th>\n",
              "      <td>a0W1W000008Mv2g</td>\n",
              "      <td>ALLEGANY, NY</td>\n",
              "      <td>LIVERMORE, CA</td>\n",
              "      <td>2710.0</td>\n",
              "      <td>CA</td>\n",
              "      <td>2656.0</td>\n",
              "      <td>1.02</td>\n",
              "      <td>443101.0</td>\n",
              "      <td>NY</td>\n",
              "      <td>INTRMDL</td>\n",
              "    </tr>\n",
              "    <tr>\n",
              "      <th>5</th>\n",
              "      <td>a0W1W000008Mv2h</td>\n",
              "      <td>ALLEGANY, NY</td>\n",
              "      <td>LOGANSPORT, IN</td>\n",
              "      <td>1400.0</td>\n",
              "      <td>IN</td>\n",
              "      <td>482.0</td>\n",
              "      <td>2.90</td>\n",
              "      <td>443915.0</td>\n",
              "      <td>NY</td>\n",
              "      <td>TL</td>\n",
              "    </tr>\n",
              "    <tr>\n",
              "      <th>6</th>\n",
              "      <td>a0W1W000008Mv2i</td>\n",
              "      <td>ALLEGANY, NY</td>\n",
              "      <td>LOGANSPORT, IN</td>\n",
              "      <td>1450.0</td>\n",
              "      <td>IN</td>\n",
              "      <td>482.0</td>\n",
              "      <td>3.01</td>\n",
              "      <td>444425.0</td>\n",
              "      <td>NY</td>\n",
              "      <td>TL</td>\n",
              "    </tr>\n",
              "    <tr>\n",
              "      <th>7</th>\n",
              "      <td>a0W1W000008Mv2j</td>\n",
              "      <td>BOONVILLE, NY</td>\n",
              "      <td>BALLY, PA</td>\n",
              "      <td>935.0</td>\n",
              "      <td>PA</td>\n",
              "      <td>314.0</td>\n",
              "      <td>2.98</td>\n",
              "      <td>444090.0</td>\n",
              "      <td>NY</td>\n",
              "      <td>TL</td>\n",
              "    </tr>\n",
              "    <tr>\n",
              "      <th>8</th>\n",
              "      <td>a0W1W000008Mv2k</td>\n",
              "      <td>BOONVILLE, NY</td>\n",
              "      <td>BRIDGEPORT, CT</td>\n",
              "      <td>800.0</td>\n",
              "      <td>CT</td>\n",
              "      <td>287.0</td>\n",
              "      <td>2.79</td>\n",
              "      <td>444395.0</td>\n",
              "      <td>NY</td>\n",
              "      <td>TL</td>\n",
              "    </tr>\n",
              "    <tr>\n",
              "      <th>9</th>\n",
              "      <td>a0W1W000008Mv2l</td>\n",
              "      <td>BOONVILLE, NY</td>\n",
              "      <td>CHEEKTOWAGA, NY</td>\n",
              "      <td>600.0</td>\n",
              "      <td>NY</td>\n",
              "      <td>229.0</td>\n",
              "      <td>2.62</td>\n",
              "      <td>444249.0</td>\n",
              "      <td>NY</td>\n",
              "      <td>TL</td>\n",
              "    </tr>\n",
              "    <tr>\n",
              "      <th>10</th>\n",
              "      <td>a0W1W000008Mv2m</td>\n",
              "      <td>BOONVILLE, NY</td>\n",
              "      <td>SMYRNA, NY</td>\n",
              "      <td>475.0</td>\n",
              "      <td>NY</td>\n",
              "      <td>80.0</td>\n",
              "      <td>5.94</td>\n",
              "      <td>444435.0</td>\n",
              "      <td>NY</td>\n",
              "      <td>TL</td>\n",
              "    </tr>\n",
              "    <tr>\n",
              "      <th>11</th>\n",
              "      <td>a0W1W000008Mv2n</td>\n",
              "      <td>BOONVILLE, NY</td>\n",
              "      <td>SMYRNA, NY</td>\n",
              "      <td>475.0</td>\n",
              "      <td>NY</td>\n",
              "      <td>80.0</td>\n",
              "      <td>5.94</td>\n",
              "      <td>444436.0</td>\n",
              "      <td>NY</td>\n",
              "      <td>TL</td>\n",
              "    </tr>\n",
              "    <tr>\n",
              "      <th>12</th>\n",
              "      <td>a0W1W000008Mv2o</td>\n",
              "      <td>BOONVILLE, NY</td>\n",
              "      <td>SMYRNA, NY</td>\n",
              "      <td>475.0</td>\n",
              "      <td>NY</td>\n",
              "      <td>80.0</td>\n",
              "      <td>5.94</td>\n",
              "      <td>444504.0</td>\n",
              "      <td>NY</td>\n",
              "      <td>TL</td>\n",
              "    </tr>\n",
              "    <tr>\n",
              "      <th>13</th>\n",
              "      <td>a0W1W000008Mv2p</td>\n",
              "      <td>CANDOR, NY</td>\n",
              "      <td>TEWKSBURY, MA</td>\n",
              "      <td>900.0</td>\n",
              "      <td>MA</td>\n",
              "      <td>374.0</td>\n",
              "      <td>2.41</td>\n",
              "      <td>444027.0</td>\n",
              "      <td>NY</td>\n",
              "      <td>TL</td>\n",
              "    </tr>\n",
              "    <tr>\n",
              "      <th>14</th>\n",
              "      <td>a0W1W000008Mv2q</td>\n",
              "      <td>CAYUTA, NY</td>\n",
              "      <td>CLEARFIELD, PA</td>\n",
              "      <td>700.0</td>\n",
              "      <td>PA</td>\n",
              "      <td>197.0</td>\n",
              "      <td>3.55</td>\n",
              "      <td>444001.0</td>\n",
              "      <td>NY</td>\n",
              "      <td>TL</td>\n",
              "    </tr>\n",
              "    <tr>\n",
              "      <th>15</th>\n",
              "      <td>a0W1W000008MuyS</td>\n",
              "      <td>BOONVILLE, NY</td>\n",
              "      <td>SMYRNA, NY</td>\n",
              "      <td>475.0</td>\n",
              "      <td>NY</td>\n",
              "      <td>80.0</td>\n",
              "      <td>5.94</td>\n",
              "      <td>442943.0</td>\n",
              "      <td>NY</td>\n",
              "      <td>TL</td>\n",
              "    </tr>\n",
              "    <tr>\n",
              "      <th>16</th>\n",
              "      <td>a0W1W000008MuyT</td>\n",
              "      <td>BOONVILLE, NY</td>\n",
              "      <td>SMYRNA, NY</td>\n",
              "      <td>475.0</td>\n",
              "      <td>NY</td>\n",
              "      <td>80.0</td>\n",
              "      <td>5.94</td>\n",
              "      <td>442944.0</td>\n",
              "      <td>NY</td>\n",
              "      <td>TL</td>\n",
              "    </tr>\n",
              "    <tr>\n",
              "      <th>17</th>\n",
              "      <td>a0W1W000008MuyU</td>\n",
              "      <td>BOONVILLE, NY</td>\n",
              "      <td>SMYRNA, NY</td>\n",
              "      <td>475.0</td>\n",
              "      <td>NY</td>\n",
              "      <td>80.0</td>\n",
              "      <td>5.94</td>\n",
              "      <td>442948.0</td>\n",
              "      <td>NY</td>\n",
              "      <td>TL</td>\n",
              "    </tr>\n",
              "    <tr>\n",
              "      <th>18</th>\n",
              "      <td>a0W1W000008MuyV</td>\n",
              "      <td>BOONVILLE, NY</td>\n",
              "      <td>SMYRNA, NY</td>\n",
              "      <td>475.0</td>\n",
              "      <td>NY</td>\n",
              "      <td>80.0</td>\n",
              "      <td>5.94</td>\n",
              "      <td>442950.0</td>\n",
              "      <td>NY</td>\n",
              "      <td>TL</td>\n",
              "    </tr>\n",
              "    <tr>\n",
              "      <th>19</th>\n",
              "      <td>a0W1W000008MuyW</td>\n",
              "      <td>BOONVILLE, NY</td>\n",
              "      <td>SMYRNA, NY</td>\n",
              "      <td>475.0</td>\n",
              "      <td>NY</td>\n",
              "      <td>80.0</td>\n",
              "      <td>5.94</td>\n",
              "      <td>442951.0</td>\n",
              "      <td>NY</td>\n",
              "      <td>TL</td>\n",
              "    </tr>\n",
              "    <tr>\n",
              "      <th>20</th>\n",
              "      <td>a0W1W000008MuyX</td>\n",
              "      <td>BOONVILLE, NY</td>\n",
              "      <td>SMYRNA, NY</td>\n",
              "      <td>475.0</td>\n",
              "      <td>NY</td>\n",
              "      <td>80.0</td>\n",
              "      <td>5.94</td>\n",
              "      <td>443218.0</td>\n",
              "      <td>NY</td>\n",
              "      <td>TL</td>\n",
              "    </tr>\n",
              "    <tr>\n",
              "      <th>21</th>\n",
              "      <td>a0W1W000008MuyY</td>\n",
              "      <td>CANTON, NC</td>\n",
              "      <td>ELLIJAY, GA</td>\n",
              "      <td>650.0</td>\n",
              "      <td>GA</td>\n",
              "      <td>146.0</td>\n",
              "      <td>4.45</td>\n",
              "      <td>442967.0</td>\n",
              "      <td>NC</td>\n",
              "      <td>TL</td>\n",
              "    </tr>\n",
              "    <tr>\n",
              "      <th>22</th>\n",
              "      <td>a0W1W000008MuyZ</td>\n",
              "      <td>COVE CITY, NC</td>\n",
              "      <td>BRAINERD, MN</td>\n",
              "      <td>3500.0</td>\n",
              "      <td>MN</td>\n",
              "      <td>1455.0</td>\n",
              "      <td>2.41</td>\n",
              "      <td>442126.0</td>\n",
              "      <td>NC</td>\n",
              "      <td>TL</td>\n",
              "    </tr>\n",
              "    <tr>\n",
              "      <th>23</th>\n",
              "      <td>a0W1W000008Muya</td>\n",
              "      <td>COVE CITY, NC</td>\n",
              "      <td>RICE, MN</td>\n",
              "      <td>3400.0</td>\n",
              "      <td>MN</td>\n",
              "      <td>1406.0</td>\n",
              "      <td>2.42</td>\n",
              "      <td>441304.0</td>\n",
              "      <td>NC</td>\n",
              "      <td>TL</td>\n",
              "    </tr>\n",
              "    <tr>\n",
              "      <th>24</th>\n",
              "      <td>a0W1W000008Muyb</td>\n",
              "      <td>DONALDS, SC</td>\n",
              "      <td>SUWANEE, GA</td>\n",
              "      <td>700.0</td>\n",
              "      <td>GA</td>\n",
              "      <td>123.0</td>\n",
              "      <td>5.69</td>\n",
              "      <td>442362.0</td>\n",
              "      <td>SC</td>\n",
              "      <td>TL</td>\n",
              "    </tr>\n",
              "    <tr>\n",
              "      <th>25</th>\n",
              "      <td>a0W1W000008Muyc</td>\n",
              "      <td>DONALDS, SC</td>\n",
              "      <td>ZEELAND, MI</td>\n",
              "      <td>2450.0</td>\n",
              "      <td>MI</td>\n",
              "      <td>792.0</td>\n",
              "      <td>3.09</td>\n",
              "      <td>441717.0</td>\n",
              "      <td>SC</td>\n",
              "      <td>TL</td>\n",
              "    </tr>\n",
              "    <tr>\n",
              "      <th>26</th>\n",
              "      <td>a0W1W000008Muyd</td>\n",
              "      <td>HUNTERSVILLE, NC</td>\n",
              "      <td>SAYRE, PA</td>\n",
              "      <td>1750.0</td>\n",
              "      <td>PA</td>\n",
              "      <td>613.0</td>\n",
              "      <td>2.85</td>\n",
              "      <td>442465.0</td>\n",
              "      <td>NC</td>\n",
              "      <td>TL</td>\n",
              "    </tr>\n",
              "    <tr>\n",
              "      <th>27</th>\n",
              "      <td>a0W1W000008Muye</td>\n",
              "      <td>HURLEY, WI</td>\n",
              "      <td>LA PORTE, IN</td>\n",
              "      <td>1130.0</td>\n",
              "      <td>IN</td>\n",
              "      <td>475.0</td>\n",
              "      <td>2.38</td>\n",
              "      <td>441366.0</td>\n",
              "      <td>WI</td>\n",
              "      <td>TL</td>\n",
              "    </tr>\n",
              "    <tr>\n",
              "      <th>28</th>\n",
              "      <td>a0W1W000008Muyf</td>\n",
              "      <td>LEITCHFIELD, KY</td>\n",
              "      <td>ST. AUGUSTINE, FL</td>\n",
              "      <td>2300.0</td>\n",
              "      <td>FL</td>\n",
              "      <td>767.0</td>\n",
              "      <td>3.00</td>\n",
              "      <td>442076.0</td>\n",
              "      <td>KY</td>\n",
              "      <td>TL</td>\n",
              "    </tr>\n",
              "    <tr>\n",
              "      <th>29</th>\n",
              "      <td>a0W1W000008Muyg</td>\n",
              "      <td>MARIETTA, OH</td>\n",
              "      <td>BEVERLY, WV</td>\n",
              "      <td>850.0</td>\n",
              "      <td>WV</td>\n",
              "      <td>150.0</td>\n",
              "      <td>5.67</td>\n",
              "      <td>442282.0</td>\n",
              "      <td>OH</td>\n",
              "      <td>TL</td>\n",
              "    </tr>\n",
              "    <tr>\n",
              "      <th>...</th>\n",
              "      <td>...</td>\n",
              "      <td>...</td>\n",
              "      <td>...</td>\n",
              "      <td>...</td>\n",
              "      <td>...</td>\n",
              "      <td>...</td>\n",
              "      <td>...</td>\n",
              "      <td>...</td>\n",
              "      <td>...</td>\n",
              "      <td>...</td>\n",
              "    </tr>\n",
              "    <tr>\n",
              "      <th>1900</th>\n",
              "      <td>a0W1W000008MuoW</td>\n",
              "      <td>ALLENSVILLE, PA</td>\n",
              "      <td>TITUSVILLE, PA</td>\n",
              "      <td>600.0</td>\n",
              "      <td>PA</td>\n",
              "      <td>170.0</td>\n",
              "      <td>3.53</td>\n",
              "      <td>438583.0</td>\n",
              "      <td>PA</td>\n",
              "      <td>TL</td>\n",
              "    </tr>\n",
              "    <tr>\n",
              "      <th>1901</th>\n",
              "      <td>a0W1W000008MuoX</td>\n",
              "      <td>BARTOW, WV</td>\n",
              "      <td>LONG BEACH, CA</td>\n",
              "      <td>2587.5</td>\n",
              "      <td>CA</td>\n",
              "      <td>2522.0</td>\n",
              "      <td>1.03</td>\n",
              "      <td>438519.0</td>\n",
              "      <td>WV</td>\n",
              "      <td>INTRMDL</td>\n",
              "    </tr>\n",
              "    <tr>\n",
              "      <th>1902</th>\n",
              "      <td>a0W1W000008MuoY</td>\n",
              "      <td>BOONVILLE, NY</td>\n",
              "      <td>BRIDGEPORT, CT</td>\n",
              "      <td>800.0</td>\n",
              "      <td>CT</td>\n",
              "      <td>287.0</td>\n",
              "      <td>2.79</td>\n",
              "      <td>438535.0</td>\n",
              "      <td>NY</td>\n",
              "      <td>TL</td>\n",
              "    </tr>\n",
              "    <tr>\n",
              "      <th>1903</th>\n",
              "      <td>a0W1W000008MuoZ</td>\n",
              "      <td>BOONVILLE, NY</td>\n",
              "      <td>SMYRNA, NY</td>\n",
              "      <td>475.0</td>\n",
              "      <td>NY</td>\n",
              "      <td>80.0</td>\n",
              "      <td>5.94</td>\n",
              "      <td>439018.0</td>\n",
              "      <td>NY</td>\n",
              "      <td>TL</td>\n",
              "    </tr>\n",
              "    <tr>\n",
              "      <th>1904</th>\n",
              "      <td>a0W1W000008Muoa</td>\n",
              "      <td>BOONVILLE, NY</td>\n",
              "      <td>SMYRNA, NY</td>\n",
              "      <td>475.0</td>\n",
              "      <td>NY</td>\n",
              "      <td>80.0</td>\n",
              "      <td>5.94</td>\n",
              "      <td>439019.0</td>\n",
              "      <td>NY</td>\n",
              "      <td>TL</td>\n",
              "    </tr>\n",
              "    <tr>\n",
              "      <th>1905</th>\n",
              "      <td>a0W1W000008Muob</td>\n",
              "      <td>BOONVILLE, NY</td>\n",
              "      <td>SMYRNA, NY</td>\n",
              "      <td>475.0</td>\n",
              "      <td>NY</td>\n",
              "      <td>80.0</td>\n",
              "      <td>5.94</td>\n",
              "      <td>439021.0</td>\n",
              "      <td>NY</td>\n",
              "      <td>TL</td>\n",
              "    </tr>\n",
              "    <tr>\n",
              "      <th>1906</th>\n",
              "      <td>a0W1W000008Muoc</td>\n",
              "      <td>BOONVILLE, NY</td>\n",
              "      <td>SMYRNA, NY</td>\n",
              "      <td>475.0</td>\n",
              "      <td>NY</td>\n",
              "      <td>80.0</td>\n",
              "      <td>5.94</td>\n",
              "      <td>439022.0</td>\n",
              "      <td>NY</td>\n",
              "      <td>TL</td>\n",
              "    </tr>\n",
              "    <tr>\n",
              "      <th>1907</th>\n",
              "      <td>a0W1W000008Muod</td>\n",
              "      <td>CANDOR, NY</td>\n",
              "      <td>ACTON, MA</td>\n",
              "      <td>950.0</td>\n",
              "      <td>MA</td>\n",
              "      <td>362.0</td>\n",
              "      <td>2.62</td>\n",
              "      <td>438200.0</td>\n",
              "      <td>NY</td>\n",
              "      <td>TL</td>\n",
              "    </tr>\n",
              "    <tr>\n",
              "      <th>1908</th>\n",
              "      <td>a0W1W000008Muoe</td>\n",
              "      <td>CANDOR, NY</td>\n",
              "      <td>MIFFLINBURG, PA</td>\n",
              "      <td>500.0</td>\n",
              "      <td>PA</td>\n",
              "      <td>130.0</td>\n",
              "      <td>3.85</td>\n",
              "      <td>438739.0</td>\n",
              "      <td>NY</td>\n",
              "      <td>TL</td>\n",
              "    </tr>\n",
              "    <tr>\n",
              "      <th>1909</th>\n",
              "      <td>a0W1W000008Muof</td>\n",
              "      <td>CANDOR, NY</td>\n",
              "      <td>MIFFLINBURG, PA</td>\n",
              "      <td>500.0</td>\n",
              "      <td>PA</td>\n",
              "      <td>130.0</td>\n",
              "      <td>3.85</td>\n",
              "      <td>438819.0</td>\n",
              "      <td>NY</td>\n",
              "      <td>TL</td>\n",
              "    </tr>\n",
              "    <tr>\n",
              "      <th>1910</th>\n",
              "      <td>a0W1W000008Muog</td>\n",
              "      <td>CAYUTA, NY</td>\n",
              "      <td>AUBURN, AL</td>\n",
              "      <td>1900.0</td>\n",
              "      <td>AL</td>\n",
              "      <td>1016.0</td>\n",
              "      <td>1.87</td>\n",
              "      <td>438799.0</td>\n",
              "      <td>NY</td>\n",
              "      <td>TL</td>\n",
              "    </tr>\n",
              "    <tr>\n",
              "      <th>1911</th>\n",
              "      <td>a0W1W000008Muom</td>\n",
              "      <td>LEITCHFIELD, KY</td>\n",
              "      <td>FORT WORTH, TX</td>\n",
              "      <td>2000.0</td>\n",
              "      <td>TX</td>\n",
              "      <td>805.0</td>\n",
              "      <td>2.48</td>\n",
              "      <td>438715.0</td>\n",
              "      <td>KY</td>\n",
              "      <td>TL</td>\n",
              "    </tr>\n",
              "    <tr>\n",
              "      <th>1912</th>\n",
              "      <td>a0W1W000008Muon</td>\n",
              "      <td>LEITCHFIELD, KY</td>\n",
              "      <td>SCOTT CITY, MO</td>\n",
              "      <td>900.0</td>\n",
              "      <td>MO</td>\n",
              "      <td>263.0</td>\n",
              "      <td>3.42</td>\n",
              "      <td>437529.0</td>\n",
              "      <td>KY</td>\n",
              "      <td>TL</td>\n",
              "    </tr>\n",
              "    <tr>\n",
              "      <th>1913</th>\n",
              "      <td>a0W1W000008Muoo</td>\n",
              "      <td>LEWISTOWN, PA</td>\n",
              "      <td>SMYRNA, NY</td>\n",
              "      <td>700.0</td>\n",
              "      <td>NY</td>\n",
              "      <td>250.0</td>\n",
              "      <td>2.80</td>\n",
              "      <td>438429.0</td>\n",
              "      <td>PA</td>\n",
              "      <td>TL</td>\n",
              "    </tr>\n",
              "    <tr>\n",
              "      <th>1914</th>\n",
              "      <td>a0W1W000008Muop</td>\n",
              "      <td>MARIETTA, OH</td>\n",
              "      <td>VONORE, TN</td>\n",
              "      <td>1600.0</td>\n",
              "      <td>TN</td>\n",
              "      <td>436.0</td>\n",
              "      <td>3.67</td>\n",
              "      <td>438761.0</td>\n",
              "      <td>OH</td>\n",
              "      <td>TL</td>\n",
              "    </tr>\n",
              "    <tr>\n",
              "      <th>1915</th>\n",
              "      <td>a0W1W000008Muoq</td>\n",
              "      <td>MARIETTA, OH</td>\n",
              "      <td>VONORE, TN</td>\n",
              "      <td>1700.0</td>\n",
              "      <td>TN</td>\n",
              "      <td>436.0</td>\n",
              "      <td>3.90</td>\n",
              "      <td>438736.0</td>\n",
              "      <td>OH</td>\n",
              "      <td>TL</td>\n",
              "    </tr>\n",
              "    <tr>\n",
              "      <th>1916</th>\n",
              "      <td>a0W1W000008Muor</td>\n",
              "      <td>MARIETTA, OH</td>\n",
              "      <td>WAYNESBORO, VA</td>\n",
              "      <td>900.0</td>\n",
              "      <td>VA</td>\n",
              "      <td>317.0</td>\n",
              "      <td>2.84</td>\n",
              "      <td>438407.0</td>\n",
              "      <td>OH</td>\n",
              "      <td>TL</td>\n",
              "    </tr>\n",
              "    <tr>\n",
              "      <th>1917</th>\n",
              "      <td>a0W1W000008Mup7</td>\n",
              "      <td>BOONVILLE, NY</td>\n",
              "      <td>SMYRNA, NY</td>\n",
              "      <td>475.0</td>\n",
              "      <td>NY</td>\n",
              "      <td>80.0</td>\n",
              "      <td>5.94</td>\n",
              "      <td>439166.0</td>\n",
              "      <td>NY</td>\n",
              "      <td>TL</td>\n",
              "    </tr>\n",
              "    <tr>\n",
              "      <th>1918</th>\n",
              "      <td>a0W1W000008Mup8</td>\n",
              "      <td>BRATTLEBORO, VT</td>\n",
              "      <td>SMYRNA, NY</td>\n",
              "      <td>750.0</td>\n",
              "      <td>NY</td>\n",
              "      <td>201.0</td>\n",
              "      <td>3.73</td>\n",
              "      <td>438805.0</td>\n",
              "      <td>VT</td>\n",
              "      <td>TL</td>\n",
              "    </tr>\n",
              "    <tr>\n",
              "      <th>1919</th>\n",
              "      <td>a0W1W000008Mup9</td>\n",
              "      <td>BRATTLEBORO, VT</td>\n",
              "      <td>SMYRNA, NY</td>\n",
              "      <td>1100.0</td>\n",
              "      <td>NY</td>\n",
              "      <td>201.0</td>\n",
              "      <td>5.47</td>\n",
              "      <td>438373.0</td>\n",
              "      <td>VT</td>\n",
              "      <td>LTL</td>\n",
              "    </tr>\n",
              "    <tr>\n",
              "      <th>1920</th>\n",
              "      <td>a0W1W000008Mup6</td>\n",
              "      <td>BOONVILLE, NY</td>\n",
              "      <td>SMYRNA, NY</td>\n",
              "      <td>475.0</td>\n",
              "      <td>NY</td>\n",
              "      <td>80.0</td>\n",
              "      <td>5.94</td>\n",
              "      <td>439060.0</td>\n",
              "      <td>NY</td>\n",
              "      <td>TL</td>\n",
              "    </tr>\n",
              "    <tr>\n",
              "      <th>1921</th>\n",
              "      <td>a0W1W000008MupA</td>\n",
              "      <td>CANDOR, NY</td>\n",
              "      <td>NEWBURYPORT, MA</td>\n",
              "      <td>1000.0</td>\n",
              "      <td>MA</td>\n",
              "      <td>403.0</td>\n",
              "      <td>2.48</td>\n",
              "      <td>437712.0</td>\n",
              "      <td>NY</td>\n",
              "      <td>TL</td>\n",
              "    </tr>\n",
              "    <tr>\n",
              "      <th>1922</th>\n",
              "      <td>a0W1W000008MupB</td>\n",
              "      <td>CANDOR, NY</td>\n",
              "      <td>SUGARCREEK, OH</td>\n",
              "      <td>850.0</td>\n",
              "      <td>OH</td>\n",
              "      <td>405.0</td>\n",
              "      <td>2.10</td>\n",
              "      <td>438815.0</td>\n",
              "      <td>NY</td>\n",
              "      <td>TL</td>\n",
              "    </tr>\n",
              "    <tr>\n",
              "      <th>1923</th>\n",
              "      <td>NaN</td>\n",
              "      <td>NaN</td>\n",
              "      <td>NaN</td>\n",
              "      <td>NaN</td>\n",
              "      <td>NaN</td>\n",
              "      <td>NaN</td>\n",
              "      <td>NaN</td>\n",
              "      <td>NaN</td>\n",
              "      <td>NaN</td>\n",
              "      <td>NaN</td>\n",
              "    </tr>\n",
              "    <tr>\n",
              "      <th>1924</th>\n",
              "      <td>NaN</td>\n",
              "      <td>NaN</td>\n",
              "      <td>NaN</td>\n",
              "      <td>NaN</td>\n",
              "      <td>NaN</td>\n",
              "      <td>NaN</td>\n",
              "      <td>NaN</td>\n",
              "      <td>NaN</td>\n",
              "      <td>NaN</td>\n",
              "      <td>NaN</td>\n",
              "    </tr>\n",
              "    <tr>\n",
              "      <th>1925</th>\n",
              "      <td>Domestic Shipments(2/14/2018--&gt;8/14/2018</td>\n",
              "      <td>NaN</td>\n",
              "      <td>NaN</td>\n",
              "      <td>NaN</td>\n",
              "      <td>NaN</td>\n",
              "      <td>NaN</td>\n",
              "      <td>NaN</td>\n",
              "      <td>NaN</td>\n",
              "      <td>NaN</td>\n",
              "      <td>NaN</td>\n",
              "    </tr>\n",
              "    <tr>\n",
              "      <th>1926</th>\n",
              "      <td>Copyright (c) 2000-2018 salesforce.com, inc. A...</td>\n",
              "      <td>NaN</td>\n",
              "      <td>NaN</td>\n",
              "      <td>NaN</td>\n",
              "      <td>NaN</td>\n",
              "      <td>NaN</td>\n",
              "      <td>NaN</td>\n",
              "      <td>NaN</td>\n",
              "      <td>NaN</td>\n",
              "      <td>NaN</td>\n",
              "    </tr>\n",
              "    <tr>\n",
              "      <th>1927</th>\n",
              "      <td>Confidential Information - Do Not Distribute</td>\n",
              "      <td>NaN</td>\n",
              "      <td>NaN</td>\n",
              "      <td>NaN</td>\n",
              "      <td>NaN</td>\n",
              "      <td>NaN</td>\n",
              "      <td>NaN</td>\n",
              "      <td>NaN</td>\n",
              "      <td>NaN</td>\n",
              "      <td>NaN</td>\n",
              "    </tr>\n",
              "    <tr>\n",
              "      <th>1928</th>\n",
              "      <td>Generated By:  Micah Bledsoe  8/14/2018 8:31 AM</td>\n",
              "      <td>NaN</td>\n",
              "      <td>NaN</td>\n",
              "      <td>NaN</td>\n",
              "      <td>NaN</td>\n",
              "      <td>NaN</td>\n",
              "      <td>NaN</td>\n",
              "      <td>NaN</td>\n",
              "      <td>NaN</td>\n",
              "      <td>NaN</td>\n",
              "    </tr>\n",
              "    <tr>\n",
              "      <th>1929</th>\n",
              "      <td>Baillie Lumber</td>\n",
              "      <td>NaN</td>\n",
              "      <td>NaN</td>\n",
              "      <td>NaN</td>\n",
              "      <td>NaN</td>\n",
              "      <td>NaN</td>\n",
              "      <td>NaN</td>\n",
              "      <td>NaN</td>\n",
              "      <td>NaN</td>\n",
              "      <td>NaN</td>\n",
              "    </tr>\n",
              "  </tbody>\n",
              "</table>\n",
              "<p>1930 rows × 10 columns</p>\n",
              "</div>"
            ],
            "text/plain": [
              "                                Domestic Shipments Name         LANE FROM  \\\n",
              "0                                       a0W1W000008Mv2c        SMYRNA, NY   \n",
              "1                                       a0W1W000008Mv2d        SMYRNA, NY   \n",
              "2                                       a0W1W000008Mv2e    TITUSVILLE, PA   \n",
              "3                                       a0W1W000008Mv2f    TITUSVILLE, PA   \n",
              "4                                       a0W1W000008Mv2g      ALLEGANY, NY   \n",
              "5                                       a0W1W000008Mv2h      ALLEGANY, NY   \n",
              "6                                       a0W1W000008Mv2i      ALLEGANY, NY   \n",
              "7                                       a0W1W000008Mv2j     BOONVILLE, NY   \n",
              "8                                       a0W1W000008Mv2k     BOONVILLE, NY   \n",
              "9                                       a0W1W000008Mv2l     BOONVILLE, NY   \n",
              "10                                      a0W1W000008Mv2m     BOONVILLE, NY   \n",
              "11                                      a0W1W000008Mv2n     BOONVILLE, NY   \n",
              "12                                      a0W1W000008Mv2o     BOONVILLE, NY   \n",
              "13                                      a0W1W000008Mv2p        CANDOR, NY   \n",
              "14                                      a0W1W000008Mv2q        CAYUTA, NY   \n",
              "15                                      a0W1W000008MuyS     BOONVILLE, NY   \n",
              "16                                      a0W1W000008MuyT     BOONVILLE, NY   \n",
              "17                                      a0W1W000008MuyU     BOONVILLE, NY   \n",
              "18                                      a0W1W000008MuyV     BOONVILLE, NY   \n",
              "19                                      a0W1W000008MuyW     BOONVILLE, NY   \n",
              "20                                      a0W1W000008MuyX     BOONVILLE, NY   \n",
              "21                                      a0W1W000008MuyY        CANTON, NC   \n",
              "22                                      a0W1W000008MuyZ     COVE CITY, NC   \n",
              "23                                      a0W1W000008Muya     COVE CITY, NC   \n",
              "24                                      a0W1W000008Muyb       DONALDS, SC   \n",
              "25                                      a0W1W000008Muyc       DONALDS, SC   \n",
              "26                                      a0W1W000008Muyd  HUNTERSVILLE, NC   \n",
              "27                                      a0W1W000008Muye        HURLEY, WI   \n",
              "28                                      a0W1W000008Muyf   LEITCHFIELD, KY   \n",
              "29                                      a0W1W000008Muyg      MARIETTA, OH   \n",
              "...                                                 ...               ...   \n",
              "1900                                    a0W1W000008MuoW   ALLENSVILLE, PA   \n",
              "1901                                    a0W1W000008MuoX        BARTOW, WV   \n",
              "1902                                    a0W1W000008MuoY     BOONVILLE, NY   \n",
              "1903                                    a0W1W000008MuoZ     BOONVILLE, NY   \n",
              "1904                                    a0W1W000008Muoa     BOONVILLE, NY   \n",
              "1905                                    a0W1W000008Muob     BOONVILLE, NY   \n",
              "1906                                    a0W1W000008Muoc     BOONVILLE, NY   \n",
              "1907                                    a0W1W000008Muod        CANDOR, NY   \n",
              "1908                                    a0W1W000008Muoe        CANDOR, NY   \n",
              "1909                                    a0W1W000008Muof        CANDOR, NY   \n",
              "1910                                    a0W1W000008Muog        CAYUTA, NY   \n",
              "1911                                    a0W1W000008Muom   LEITCHFIELD, KY   \n",
              "1912                                    a0W1W000008Muon   LEITCHFIELD, KY   \n",
              "1913                                    a0W1W000008Muoo     LEWISTOWN, PA   \n",
              "1914                                    a0W1W000008Muop      MARIETTA, OH   \n",
              "1915                                    a0W1W000008Muoq      MARIETTA, OH   \n",
              "1916                                    a0W1W000008Muor      MARIETTA, OH   \n",
              "1917                                    a0W1W000008Mup7     BOONVILLE, NY   \n",
              "1918                                    a0W1W000008Mup8   BRATTLEBORO, VT   \n",
              "1919                                    a0W1W000008Mup9   BRATTLEBORO, VT   \n",
              "1920                                    a0W1W000008Mup6     BOONVILLE, NY   \n",
              "1921                                    a0W1W000008MupA        CANDOR, NY   \n",
              "1922                                    a0W1W000008MupB        CANDOR, NY   \n",
              "1923                                                NaN               NaN   \n",
              "1924                                                NaN               NaN   \n",
              "1925           Domestic Shipments(2/14/2018-->8/14/2018               NaN   \n",
              "1926  Copyright (c) 2000-2018 salesforce.com, inc. A...               NaN   \n",
              "1927       Confidential Information - Do Not Distribute               NaN   \n",
              "1928    Generated By:  Micah Bledsoe  8/14/2018 8:31 AM               NaN   \n",
              "1929                                     Baillie Lumber               NaN   \n",
              "\n",
              "                LANE TO  FREIGHT DEST STATE  DISTANCE  RATE_PER_MILE  \\\n",
              "0        LOGANSPORT, IN   1750.0         IN     676.0           2.59   \n",
              "1        SWEDESBORO, NJ    700.0         NJ     254.0           2.76   \n",
              "2       ST-EUSTACHE, QC   1700.0         QC     519.0           3.28   \n",
              "3              TROY, PA    750.0         PA     240.0           3.13   \n",
              "4         LIVERMORE, CA   2710.0         CA    2656.0           1.02   \n",
              "5        LOGANSPORT, IN   1400.0         IN     482.0           2.90   \n",
              "6        LOGANSPORT, IN   1450.0         IN     482.0           3.01   \n",
              "7             BALLY, PA    935.0         PA     314.0           2.98   \n",
              "8        BRIDGEPORT, CT    800.0         CT     287.0           2.79   \n",
              "9       CHEEKTOWAGA, NY    600.0         NY     229.0           2.62   \n",
              "10           SMYRNA, NY    475.0         NY      80.0           5.94   \n",
              "11           SMYRNA, NY    475.0         NY      80.0           5.94   \n",
              "12           SMYRNA, NY    475.0         NY      80.0           5.94   \n",
              "13        TEWKSBURY, MA    900.0         MA     374.0           2.41   \n",
              "14       CLEARFIELD, PA    700.0         PA     197.0           3.55   \n",
              "15           SMYRNA, NY    475.0         NY      80.0           5.94   \n",
              "16           SMYRNA, NY    475.0         NY      80.0           5.94   \n",
              "17           SMYRNA, NY    475.0         NY      80.0           5.94   \n",
              "18           SMYRNA, NY    475.0         NY      80.0           5.94   \n",
              "19           SMYRNA, NY    475.0         NY      80.0           5.94   \n",
              "20           SMYRNA, NY    475.0         NY      80.0           5.94   \n",
              "21          ELLIJAY, GA    650.0         GA     146.0           4.45   \n",
              "22         BRAINERD, MN   3500.0         MN    1455.0           2.41   \n",
              "23             RICE, MN   3400.0         MN    1406.0           2.42   \n",
              "24          SUWANEE, GA    700.0         GA     123.0           5.69   \n",
              "25          ZEELAND, MI   2450.0         MI     792.0           3.09   \n",
              "26            SAYRE, PA   1750.0         PA     613.0           2.85   \n",
              "27         LA PORTE, IN   1130.0         IN     475.0           2.38   \n",
              "28    ST. AUGUSTINE, FL   2300.0         FL     767.0           3.00   \n",
              "29          BEVERLY, WV    850.0         WV     150.0           5.67   \n",
              "...                 ...      ...        ...       ...            ...   \n",
              "1900     TITUSVILLE, PA    600.0         PA     170.0           3.53   \n",
              "1901     LONG BEACH, CA   2587.5         CA    2522.0           1.03   \n",
              "1902     BRIDGEPORT, CT    800.0         CT     287.0           2.79   \n",
              "1903         SMYRNA, NY    475.0         NY      80.0           5.94   \n",
              "1904         SMYRNA, NY    475.0         NY      80.0           5.94   \n",
              "1905         SMYRNA, NY    475.0         NY      80.0           5.94   \n",
              "1906         SMYRNA, NY    475.0         NY      80.0           5.94   \n",
              "1907          ACTON, MA    950.0         MA     362.0           2.62   \n",
              "1908    MIFFLINBURG, PA    500.0         PA     130.0           3.85   \n",
              "1909    MIFFLINBURG, PA    500.0         PA     130.0           3.85   \n",
              "1910         AUBURN, AL   1900.0         AL    1016.0           1.87   \n",
              "1911     FORT WORTH, TX   2000.0         TX     805.0           2.48   \n",
              "1912     SCOTT CITY, MO    900.0         MO     263.0           3.42   \n",
              "1913         SMYRNA, NY    700.0         NY     250.0           2.80   \n",
              "1914         VONORE, TN   1600.0         TN     436.0           3.67   \n",
              "1915         VONORE, TN   1700.0         TN     436.0           3.90   \n",
              "1916     WAYNESBORO, VA    900.0         VA     317.0           2.84   \n",
              "1917         SMYRNA, NY    475.0         NY      80.0           5.94   \n",
              "1918         SMYRNA, NY    750.0         NY     201.0           3.73   \n",
              "1919         SMYRNA, NY   1100.0         NY     201.0           5.47   \n",
              "1920         SMYRNA, NY    475.0         NY      80.0           5.94   \n",
              "1921    NEWBURYPORT, MA   1000.0         MA     403.0           2.48   \n",
              "1922     SUGARCREEK, OH    850.0         OH     405.0           2.10   \n",
              "1923                NaN      NaN        NaN       NaN            NaN   \n",
              "1924                NaN      NaN        NaN       NaN            NaN   \n",
              "1925                NaN      NaN        NaN       NaN            NaN   \n",
              "1926                NaN      NaN        NaN       NaN            NaN   \n",
              "1927                NaN      NaN        NaN       NaN            NaN   \n",
              "1928                NaN      NaN        NaN       NaN            NaN   \n",
              "1929                NaN      NaN        NaN       NaN            NaN   \n",
              "\n",
              "      SHIPMENT SOURCE STATE TRANSPORT_MODE  \n",
              "0     444080.0           NY             TL  \n",
              "1     443813.0           NY             TL  \n",
              "2     443848.0           PA             TL  \n",
              "3     442823.0           PA             TL  \n",
              "4     443101.0           NY        INTRMDL  \n",
              "5     443915.0           NY             TL  \n",
              "6     444425.0           NY             TL  \n",
              "7     444090.0           NY             TL  \n",
              "8     444395.0           NY             TL  \n",
              "9     444249.0           NY             TL  \n",
              "10    444435.0           NY             TL  \n",
              "11    444436.0           NY             TL  \n",
              "12    444504.0           NY             TL  \n",
              "13    444027.0           NY             TL  \n",
              "14    444001.0           NY             TL  \n",
              "15    442943.0           NY             TL  \n",
              "16    442944.0           NY             TL  \n",
              "17    442948.0           NY             TL  \n",
              "18    442950.0           NY             TL  \n",
              "19    442951.0           NY             TL  \n",
              "20    443218.0           NY             TL  \n",
              "21    442967.0           NC             TL  \n",
              "22    442126.0           NC             TL  \n",
              "23    441304.0           NC             TL  \n",
              "24    442362.0           SC             TL  \n",
              "25    441717.0           SC             TL  \n",
              "26    442465.0           NC             TL  \n",
              "27    441366.0           WI             TL  \n",
              "28    442076.0           KY             TL  \n",
              "29    442282.0           OH             TL  \n",
              "...        ...          ...            ...  \n",
              "1900  438583.0           PA             TL  \n",
              "1901  438519.0           WV        INTRMDL  \n",
              "1902  438535.0           NY             TL  \n",
              "1903  439018.0           NY             TL  \n",
              "1904  439019.0           NY             TL  \n",
              "1905  439021.0           NY             TL  \n",
              "1906  439022.0           NY             TL  \n",
              "1907  438200.0           NY             TL  \n",
              "1908  438739.0           NY             TL  \n",
              "1909  438819.0           NY             TL  \n",
              "1910  438799.0           NY             TL  \n",
              "1911  438715.0           KY             TL  \n",
              "1912  437529.0           KY             TL  \n",
              "1913  438429.0           PA             TL  \n",
              "1914  438761.0           OH             TL  \n",
              "1915  438736.0           OH             TL  \n",
              "1916  438407.0           OH             TL  \n",
              "1917  439166.0           NY             TL  \n",
              "1918  438805.0           VT             TL  \n",
              "1919  438373.0           VT            LTL  \n",
              "1920  439060.0           NY             TL  \n",
              "1921  437712.0           NY             TL  \n",
              "1922  438815.0           NY             TL  \n",
              "1923       NaN          NaN            NaN  \n",
              "1924       NaN          NaN            NaN  \n",
              "1925       NaN          NaN            NaN  \n",
              "1926       NaN          NaN            NaN  \n",
              "1927       NaN          NaN            NaN  \n",
              "1928       NaN          NaN            NaN  \n",
              "1929       NaN          NaN            NaN  \n",
              "\n",
              "[1930 rows x 10 columns]"
            ]
          },
          "metadata": {
            "tags": []
          },
          "execution_count": 246
        }
      ]
    },
    {
      "metadata": {
        "id": "8oKA7PxzjcsN",
        "colab_type": "text"
      },
      "cell_type": "markdown",
      "source": [
        "## Reading From Excel\n",
        "\n"
      ]
    },
    {
      "metadata": {
        "id": "h3S9vR-VjcsO",
        "colab_type": "text"
      },
      "cell_type": "markdown",
      "source": [
        "There might be errors when the Excel file being read has macros/formulae.\n",
        "May need to install xlrd library if not installed."
      ]
    },
    {
      "metadata": {
        "id": "OrHDDSH6jcsO",
        "colab_type": "code",
        "colab": {},
        "outputId": "a883347f-35ec-47fe-d881-d68f4b2abee7"
      },
      "cell_type": "code",
      "source": [
        "pd.read_excel('Excel_sample.xslx',sheetname = 'Sheet1')\n",
        "\n",
        "#Writing to Excel\n",
        "df.to_excel('Excel_sample2.xslx',sheet_name='newSheet')"
      ],
      "execution_count": 0,
      "outputs": [
        {
          "output_type": "error",
          "ename": "FileNotFoundError",
          "evalue": "[Errno 2] No such file or directory: 'Excel_sample.xslx'",
          "traceback": [
            "\u001b[1;31m---------------------------------------------------------------------------\u001b[0m",
            "\u001b[1;31mFileNotFoundError\u001b[0m                         Traceback (most recent call last)",
            "\u001b[1;32m<ipython-input-249-7d2d299e6497>\u001b[0m in \u001b[0;36m<module>\u001b[1;34m()\u001b[0m\n\u001b[1;32m----> 1\u001b[1;33m \u001b[0mpd\u001b[0m\u001b[1;33m.\u001b[0m\u001b[0mread_excel\u001b[0m\u001b[1;33m(\u001b[0m\u001b[1;34m'Excel_sample.xslx'\u001b[0m\u001b[1;33m,\u001b[0m\u001b[0msheetname\u001b[0m \u001b[1;33m=\u001b[0m \u001b[1;34m'Sheet1'\u001b[0m\u001b[1;33m)\u001b[0m\u001b[1;33m\u001b[0m\u001b[0m\n\u001b[0m\u001b[0;32m      2\u001b[0m \u001b[1;33m\u001b[0m\u001b[0m\n\u001b[0;32m      3\u001b[0m \u001b[1;31m#Writing to Excel\u001b[0m\u001b[1;33m\u001b[0m\u001b[1;33m\u001b[0m\u001b[0m\n\u001b[0;32m      4\u001b[0m \u001b[0mdf\u001b[0m\u001b[1;33m.\u001b[0m\u001b[0mto_excel\u001b[0m\u001b[1;33m(\u001b[0m\u001b[1;34m'Excel_sample2.xslx'\u001b[0m\u001b[1;33m,\u001b[0m\u001b[0msheet_name\u001b[0m\u001b[1;33m=\u001b[0m\u001b[1;34m'newSheet'\u001b[0m\u001b[1;33m)\u001b[0m\u001b[1;33m\u001b[0m\u001b[0m\n",
            "\u001b[1;32m~\\Anaconda3\\lib\\site-packages\\pandas\\util\\_decorators.py\u001b[0m in \u001b[0;36mwrapper\u001b[1;34m(*args, **kwargs)\u001b[0m\n\u001b[0;32m    176\u001b[0m                 \u001b[1;32melse\u001b[0m\u001b[1;33m:\u001b[0m\u001b[1;33m\u001b[0m\u001b[0m\n\u001b[0;32m    177\u001b[0m                     \u001b[0mkwargs\u001b[0m\u001b[1;33m[\u001b[0m\u001b[0mnew_arg_name\u001b[0m\u001b[1;33m]\u001b[0m \u001b[1;33m=\u001b[0m \u001b[0mnew_arg_value\u001b[0m\u001b[1;33m\u001b[0m\u001b[0m\n\u001b[1;32m--> 178\u001b[1;33m             \u001b[1;32mreturn\u001b[0m \u001b[0mfunc\u001b[0m\u001b[1;33m(\u001b[0m\u001b[1;33m*\u001b[0m\u001b[0margs\u001b[0m\u001b[1;33m,\u001b[0m \u001b[1;33m**\u001b[0m\u001b[0mkwargs\u001b[0m\u001b[1;33m)\u001b[0m\u001b[1;33m\u001b[0m\u001b[0m\n\u001b[0m\u001b[0;32m    179\u001b[0m         \u001b[1;32mreturn\u001b[0m \u001b[0mwrapper\u001b[0m\u001b[1;33m\u001b[0m\u001b[0m\n\u001b[0;32m    180\u001b[0m     \u001b[1;32mreturn\u001b[0m \u001b[0m_deprecate_kwarg\u001b[0m\u001b[1;33m\u001b[0m\u001b[0m\n",
            "\u001b[1;32m~\\Anaconda3\\lib\\site-packages\\pandas\\util\\_decorators.py\u001b[0m in \u001b[0;36mwrapper\u001b[1;34m(*args, **kwargs)\u001b[0m\n\u001b[0;32m    176\u001b[0m                 \u001b[1;32melse\u001b[0m\u001b[1;33m:\u001b[0m\u001b[1;33m\u001b[0m\u001b[0m\n\u001b[0;32m    177\u001b[0m                     \u001b[0mkwargs\u001b[0m\u001b[1;33m[\u001b[0m\u001b[0mnew_arg_name\u001b[0m\u001b[1;33m]\u001b[0m \u001b[1;33m=\u001b[0m \u001b[0mnew_arg_value\u001b[0m\u001b[1;33m\u001b[0m\u001b[0m\n\u001b[1;32m--> 178\u001b[1;33m             \u001b[1;32mreturn\u001b[0m \u001b[0mfunc\u001b[0m\u001b[1;33m(\u001b[0m\u001b[1;33m*\u001b[0m\u001b[0margs\u001b[0m\u001b[1;33m,\u001b[0m \u001b[1;33m**\u001b[0m\u001b[0mkwargs\u001b[0m\u001b[1;33m)\u001b[0m\u001b[1;33m\u001b[0m\u001b[0m\n\u001b[0m\u001b[0;32m    179\u001b[0m         \u001b[1;32mreturn\u001b[0m \u001b[0mwrapper\u001b[0m\u001b[1;33m\u001b[0m\u001b[0m\n\u001b[0;32m    180\u001b[0m     \u001b[1;32mreturn\u001b[0m \u001b[0m_deprecate_kwarg\u001b[0m\u001b[1;33m\u001b[0m\u001b[0m\n",
            "\u001b[1;32m~\\Anaconda3\\lib\\site-packages\\pandas\\io\\excel.py\u001b[0m in \u001b[0;36mread_excel\u001b[1;34m(io, sheet_name, header, names, index_col, usecols, squeeze, dtype, engine, converters, true_values, false_values, skiprows, nrows, na_values, parse_dates, date_parser, thousands, comment, skipfooter, convert_float, **kwds)\u001b[0m\n\u001b[0;32m    305\u001b[0m \u001b[1;33m\u001b[0m\u001b[0m\n\u001b[0;32m    306\u001b[0m     \u001b[1;32mif\u001b[0m \u001b[1;32mnot\u001b[0m \u001b[0misinstance\u001b[0m\u001b[1;33m(\u001b[0m\u001b[0mio\u001b[0m\u001b[1;33m,\u001b[0m \u001b[0mExcelFile\u001b[0m\u001b[1;33m)\u001b[0m\u001b[1;33m:\u001b[0m\u001b[1;33m\u001b[0m\u001b[0m\n\u001b[1;32m--> 307\u001b[1;33m         \u001b[0mio\u001b[0m \u001b[1;33m=\u001b[0m \u001b[0mExcelFile\u001b[0m\u001b[1;33m(\u001b[0m\u001b[0mio\u001b[0m\u001b[1;33m,\u001b[0m \u001b[0mengine\u001b[0m\u001b[1;33m=\u001b[0m\u001b[0mengine\u001b[0m\u001b[1;33m)\u001b[0m\u001b[1;33m\u001b[0m\u001b[0m\n\u001b[0m\u001b[0;32m    308\u001b[0m \u001b[1;33m\u001b[0m\u001b[0m\n\u001b[0;32m    309\u001b[0m     return io.parse(\n",
            "\u001b[1;32m~\\Anaconda3\\lib\\site-packages\\pandas\\io\\excel.py\u001b[0m in \u001b[0;36m__init__\u001b[1;34m(self, io, **kwds)\u001b[0m\n\u001b[0;32m    392\u001b[0m             \u001b[0mself\u001b[0m\u001b[1;33m.\u001b[0m\u001b[0mbook\u001b[0m \u001b[1;33m=\u001b[0m \u001b[0mxlrd\u001b[0m\u001b[1;33m.\u001b[0m\u001b[0mopen_workbook\u001b[0m\u001b[1;33m(\u001b[0m\u001b[0mfile_contents\u001b[0m\u001b[1;33m=\u001b[0m\u001b[0mdata\u001b[0m\u001b[1;33m)\u001b[0m\u001b[1;33m\u001b[0m\u001b[0m\n\u001b[0;32m    393\u001b[0m         \u001b[1;32melif\u001b[0m \u001b[0misinstance\u001b[0m\u001b[1;33m(\u001b[0m\u001b[0mself\u001b[0m\u001b[1;33m.\u001b[0m\u001b[0m_io\u001b[0m\u001b[1;33m,\u001b[0m \u001b[0mcompat\u001b[0m\u001b[1;33m.\u001b[0m\u001b[0mstring_types\u001b[0m\u001b[1;33m)\u001b[0m\u001b[1;33m:\u001b[0m\u001b[1;33m\u001b[0m\u001b[0m\n\u001b[1;32m--> 394\u001b[1;33m             \u001b[0mself\u001b[0m\u001b[1;33m.\u001b[0m\u001b[0mbook\u001b[0m \u001b[1;33m=\u001b[0m \u001b[0mxlrd\u001b[0m\u001b[1;33m.\u001b[0m\u001b[0mopen_workbook\u001b[0m\u001b[1;33m(\u001b[0m\u001b[0mself\u001b[0m\u001b[1;33m.\u001b[0m\u001b[0m_io\u001b[0m\u001b[1;33m)\u001b[0m\u001b[1;33m\u001b[0m\u001b[0m\n\u001b[0m\u001b[0;32m    395\u001b[0m         \u001b[1;32melse\u001b[0m\u001b[1;33m:\u001b[0m\u001b[1;33m\u001b[0m\u001b[0m\n\u001b[0;32m    396\u001b[0m             raise ValueError('Must explicitly set engine if not passing in'\n",
            "\u001b[1;32m~\\Anaconda3\\lib\\site-packages\\xlrd\\__init__.py\u001b[0m in \u001b[0;36mopen_workbook\u001b[1;34m(filename, logfile, verbosity, use_mmap, file_contents, encoding_override, formatting_info, on_demand, ragged_rows)\u001b[0m\n\u001b[0;32m    114\u001b[0m         \u001b[0mpeek\u001b[0m \u001b[1;33m=\u001b[0m \u001b[0mfile_contents\u001b[0m\u001b[1;33m[\u001b[0m\u001b[1;33m:\u001b[0m\u001b[0mpeeksz\u001b[0m\u001b[1;33m]\u001b[0m\u001b[1;33m\u001b[0m\u001b[0m\n\u001b[0;32m    115\u001b[0m     \u001b[1;32melse\u001b[0m\u001b[1;33m:\u001b[0m\u001b[1;33m\u001b[0m\u001b[0m\n\u001b[1;32m--> 116\u001b[1;33m         \u001b[1;32mwith\u001b[0m \u001b[0mopen\u001b[0m\u001b[1;33m(\u001b[0m\u001b[0mfilename\u001b[0m\u001b[1;33m,\u001b[0m \u001b[1;34m\"rb\"\u001b[0m\u001b[1;33m)\u001b[0m \u001b[1;32mas\u001b[0m \u001b[0mf\u001b[0m\u001b[1;33m:\u001b[0m\u001b[1;33m\u001b[0m\u001b[0m\n\u001b[0m\u001b[0;32m    117\u001b[0m             \u001b[0mpeek\u001b[0m \u001b[1;33m=\u001b[0m \u001b[0mf\u001b[0m\u001b[1;33m.\u001b[0m\u001b[0mread\u001b[0m\u001b[1;33m(\u001b[0m\u001b[0mpeeksz\u001b[0m\u001b[1;33m)\u001b[0m\u001b[1;33m\u001b[0m\u001b[0m\n\u001b[0;32m    118\u001b[0m     \u001b[1;32mif\u001b[0m \u001b[0mpeek\u001b[0m \u001b[1;33m==\u001b[0m \u001b[1;34mb\"PK\\x03\\x04\"\u001b[0m\u001b[1;33m:\u001b[0m \u001b[1;31m# a ZIP file\u001b[0m\u001b[1;33m\u001b[0m\u001b[0m\n",
            "\u001b[1;31mFileNotFoundError\u001b[0m: [Errno 2] No such file or directory: 'Excel_sample.xslx'"
          ]
        }
      ]
    },
    {
      "metadata": {
        "id": "GIezJO-cjcsP",
        "colab_type": "text"
      },
      "cell_type": "markdown",
      "source": [
        "## Reading from HTML"
      ]
    },
    {
      "metadata": {
        "id": "8haxByROjcsQ",
        "colab_type": "code",
        "colab": {},
        "outputId": "3607d136-9241-45c6-aaae-66865fbecdd9"
      },
      "cell_type": "code",
      "source": [
        "data = pd.read_html('https://www.google.cpm')"
      ],
      "execution_count": 0,
      "outputs": [
        {
          "output_type": "error",
          "ename": "URLError",
          "evalue": "<urlopen error [Errno 11001] getaddrinfo failed>",
          "traceback": [
            "\u001b[1;31m---------------------------------------------------------------------------\u001b[0m",
            "\u001b[1;31mgaierror\u001b[0m                                  Traceback (most recent call last)",
            "\u001b[1;32m~\\Anaconda3\\lib\\urllib\\request.py\u001b[0m in \u001b[0;36mdo_open\u001b[1;34m(self, http_class, req, **http_conn_args)\u001b[0m\n\u001b[0;32m   1316\u001b[0m                 h.request(req.get_method(), req.selector, req.data, headers,\n\u001b[1;32m-> 1317\u001b[1;33m                           encode_chunked=req.has_header('Transfer-encoding'))\n\u001b[0m\u001b[0;32m   1318\u001b[0m             \u001b[1;32mexcept\u001b[0m \u001b[0mOSError\u001b[0m \u001b[1;32mas\u001b[0m \u001b[0merr\u001b[0m\u001b[1;33m:\u001b[0m \u001b[1;31m# timeout error\u001b[0m\u001b[1;33m\u001b[0m\u001b[0m\n",
            "\u001b[1;32m~\\Anaconda3\\lib\\http\\client.py\u001b[0m in \u001b[0;36mrequest\u001b[1;34m(self, method, url, body, headers, encode_chunked)\u001b[0m\n\u001b[0;32m   1228\u001b[0m         \u001b[1;34m\"\"\"Send a complete request to the server.\"\"\"\u001b[0m\u001b[1;33m\u001b[0m\u001b[0m\n\u001b[1;32m-> 1229\u001b[1;33m         \u001b[0mself\u001b[0m\u001b[1;33m.\u001b[0m\u001b[0m_send_request\u001b[0m\u001b[1;33m(\u001b[0m\u001b[0mmethod\u001b[0m\u001b[1;33m,\u001b[0m \u001b[0murl\u001b[0m\u001b[1;33m,\u001b[0m \u001b[0mbody\u001b[0m\u001b[1;33m,\u001b[0m \u001b[0mheaders\u001b[0m\u001b[1;33m,\u001b[0m \u001b[0mencode_chunked\u001b[0m\u001b[1;33m)\u001b[0m\u001b[1;33m\u001b[0m\u001b[0m\n\u001b[0m\u001b[0;32m   1230\u001b[0m \u001b[1;33m\u001b[0m\u001b[0m\n",
            "\u001b[1;32m~\\Anaconda3\\lib\\http\\client.py\u001b[0m in \u001b[0;36m_send_request\u001b[1;34m(self, method, url, body, headers, encode_chunked)\u001b[0m\n\u001b[0;32m   1274\u001b[0m             \u001b[0mbody\u001b[0m \u001b[1;33m=\u001b[0m \u001b[0m_encode\u001b[0m\u001b[1;33m(\u001b[0m\u001b[0mbody\u001b[0m\u001b[1;33m,\u001b[0m \u001b[1;34m'body'\u001b[0m\u001b[1;33m)\u001b[0m\u001b[1;33m\u001b[0m\u001b[0m\n\u001b[1;32m-> 1275\u001b[1;33m         \u001b[0mself\u001b[0m\u001b[1;33m.\u001b[0m\u001b[0mendheaders\u001b[0m\u001b[1;33m(\u001b[0m\u001b[0mbody\u001b[0m\u001b[1;33m,\u001b[0m \u001b[0mencode_chunked\u001b[0m\u001b[1;33m=\u001b[0m\u001b[0mencode_chunked\u001b[0m\u001b[1;33m)\u001b[0m\u001b[1;33m\u001b[0m\u001b[0m\n\u001b[0m\u001b[0;32m   1276\u001b[0m \u001b[1;33m\u001b[0m\u001b[0m\n",
            "\u001b[1;32m~\\Anaconda3\\lib\\http\\client.py\u001b[0m in \u001b[0;36mendheaders\u001b[1;34m(self, message_body, encode_chunked)\u001b[0m\n\u001b[0;32m   1223\u001b[0m             \u001b[1;32mraise\u001b[0m \u001b[0mCannotSendHeader\u001b[0m\u001b[1;33m(\u001b[0m\u001b[1;33m)\u001b[0m\u001b[1;33m\u001b[0m\u001b[0m\n\u001b[1;32m-> 1224\u001b[1;33m         \u001b[0mself\u001b[0m\u001b[1;33m.\u001b[0m\u001b[0m_send_output\u001b[0m\u001b[1;33m(\u001b[0m\u001b[0mmessage_body\u001b[0m\u001b[1;33m,\u001b[0m \u001b[0mencode_chunked\u001b[0m\u001b[1;33m=\u001b[0m\u001b[0mencode_chunked\u001b[0m\u001b[1;33m)\u001b[0m\u001b[1;33m\u001b[0m\u001b[0m\n\u001b[0m\u001b[0;32m   1225\u001b[0m \u001b[1;33m\u001b[0m\u001b[0m\n",
            "\u001b[1;32m~\\Anaconda3\\lib\\http\\client.py\u001b[0m in \u001b[0;36m_send_output\u001b[1;34m(self, message_body, encode_chunked)\u001b[0m\n\u001b[0;32m   1015\u001b[0m         \u001b[1;32mdel\u001b[0m \u001b[0mself\u001b[0m\u001b[1;33m.\u001b[0m\u001b[0m_buffer\u001b[0m\u001b[1;33m[\u001b[0m\u001b[1;33m:\u001b[0m\u001b[1;33m]\u001b[0m\u001b[1;33m\u001b[0m\u001b[0m\n\u001b[1;32m-> 1016\u001b[1;33m         \u001b[0mself\u001b[0m\u001b[1;33m.\u001b[0m\u001b[0msend\u001b[0m\u001b[1;33m(\u001b[0m\u001b[0mmsg\u001b[0m\u001b[1;33m)\u001b[0m\u001b[1;33m\u001b[0m\u001b[0m\n\u001b[0m\u001b[0;32m   1017\u001b[0m \u001b[1;33m\u001b[0m\u001b[0m\n",
            "\u001b[1;32m~\\Anaconda3\\lib\\http\\client.py\u001b[0m in \u001b[0;36msend\u001b[1;34m(self, data)\u001b[0m\n\u001b[0;32m    955\u001b[0m             \u001b[1;32mif\u001b[0m \u001b[0mself\u001b[0m\u001b[1;33m.\u001b[0m\u001b[0mauto_open\u001b[0m\u001b[1;33m:\u001b[0m\u001b[1;33m\u001b[0m\u001b[0m\n\u001b[1;32m--> 956\u001b[1;33m                 \u001b[0mself\u001b[0m\u001b[1;33m.\u001b[0m\u001b[0mconnect\u001b[0m\u001b[1;33m(\u001b[0m\u001b[1;33m)\u001b[0m\u001b[1;33m\u001b[0m\u001b[0m\n\u001b[0m\u001b[0;32m    957\u001b[0m             \u001b[1;32melse\u001b[0m\u001b[1;33m:\u001b[0m\u001b[1;33m\u001b[0m\u001b[0m\n",
            "\u001b[1;32m~\\Anaconda3\\lib\\http\\client.py\u001b[0m in \u001b[0;36mconnect\u001b[1;34m(self)\u001b[0m\n\u001b[0;32m   1383\u001b[0m \u001b[1;33m\u001b[0m\u001b[0m\n\u001b[1;32m-> 1384\u001b[1;33m             \u001b[0msuper\u001b[0m\u001b[1;33m(\u001b[0m\u001b[1;33m)\u001b[0m\u001b[1;33m.\u001b[0m\u001b[0mconnect\u001b[0m\u001b[1;33m(\u001b[0m\u001b[1;33m)\u001b[0m\u001b[1;33m\u001b[0m\u001b[0m\n\u001b[0m\u001b[0;32m   1385\u001b[0m \u001b[1;33m\u001b[0m\u001b[0m\n",
            "\u001b[1;32m~\\Anaconda3\\lib\\http\\client.py\u001b[0m in \u001b[0;36mconnect\u001b[1;34m(self)\u001b[0m\n\u001b[0;32m    927\u001b[0m         self.sock = self._create_connection(\n\u001b[1;32m--> 928\u001b[1;33m             (self.host,self.port), self.timeout, self.source_address)\n\u001b[0m\u001b[0;32m    929\u001b[0m         \u001b[0mself\u001b[0m\u001b[1;33m.\u001b[0m\u001b[0msock\u001b[0m\u001b[1;33m.\u001b[0m\u001b[0msetsockopt\u001b[0m\u001b[1;33m(\u001b[0m\u001b[0msocket\u001b[0m\u001b[1;33m.\u001b[0m\u001b[0mIPPROTO_TCP\u001b[0m\u001b[1;33m,\u001b[0m \u001b[0msocket\u001b[0m\u001b[1;33m.\u001b[0m\u001b[0mTCP_NODELAY\u001b[0m\u001b[1;33m,\u001b[0m \u001b[1;36m1\u001b[0m\u001b[1;33m)\u001b[0m\u001b[1;33m\u001b[0m\u001b[0m\n",
            "\u001b[1;32m~\\Anaconda3\\lib\\socket.py\u001b[0m in \u001b[0;36mcreate_connection\u001b[1;34m(address, timeout, source_address)\u001b[0m\n\u001b[0;32m    706\u001b[0m     \u001b[0merr\u001b[0m \u001b[1;33m=\u001b[0m \u001b[1;32mNone\u001b[0m\u001b[1;33m\u001b[0m\u001b[0m\n\u001b[1;32m--> 707\u001b[1;33m     \u001b[1;32mfor\u001b[0m \u001b[0mres\u001b[0m \u001b[1;32min\u001b[0m \u001b[0mgetaddrinfo\u001b[0m\u001b[1;33m(\u001b[0m\u001b[0mhost\u001b[0m\u001b[1;33m,\u001b[0m \u001b[0mport\u001b[0m\u001b[1;33m,\u001b[0m \u001b[1;36m0\u001b[0m\u001b[1;33m,\u001b[0m \u001b[0mSOCK_STREAM\u001b[0m\u001b[1;33m)\u001b[0m\u001b[1;33m:\u001b[0m\u001b[1;33m\u001b[0m\u001b[0m\n\u001b[0m\u001b[0;32m    708\u001b[0m         \u001b[0maf\u001b[0m\u001b[1;33m,\u001b[0m \u001b[0msocktype\u001b[0m\u001b[1;33m,\u001b[0m \u001b[0mproto\u001b[0m\u001b[1;33m,\u001b[0m \u001b[0mcanonname\u001b[0m\u001b[1;33m,\u001b[0m \u001b[0msa\u001b[0m \u001b[1;33m=\u001b[0m \u001b[0mres\u001b[0m\u001b[1;33m\u001b[0m\u001b[0m\n",
            "\u001b[1;32m~\\Anaconda3\\lib\\socket.py\u001b[0m in \u001b[0;36mgetaddrinfo\u001b[1;34m(host, port, family, type, proto, flags)\u001b[0m\n\u001b[0;32m    747\u001b[0m     \u001b[0maddrlist\u001b[0m \u001b[1;33m=\u001b[0m \u001b[1;33m[\u001b[0m\u001b[1;33m]\u001b[0m\u001b[1;33m\u001b[0m\u001b[0m\n\u001b[1;32m--> 748\u001b[1;33m     \u001b[1;32mfor\u001b[0m \u001b[0mres\u001b[0m \u001b[1;32min\u001b[0m \u001b[0m_socket\u001b[0m\u001b[1;33m.\u001b[0m\u001b[0mgetaddrinfo\u001b[0m\u001b[1;33m(\u001b[0m\u001b[0mhost\u001b[0m\u001b[1;33m,\u001b[0m \u001b[0mport\u001b[0m\u001b[1;33m,\u001b[0m \u001b[0mfamily\u001b[0m\u001b[1;33m,\u001b[0m \u001b[0mtype\u001b[0m\u001b[1;33m,\u001b[0m \u001b[0mproto\u001b[0m\u001b[1;33m,\u001b[0m \u001b[0mflags\u001b[0m\u001b[1;33m)\u001b[0m\u001b[1;33m:\u001b[0m\u001b[1;33m\u001b[0m\u001b[0m\n\u001b[0m\u001b[0;32m    749\u001b[0m         \u001b[0maf\u001b[0m\u001b[1;33m,\u001b[0m \u001b[0msocktype\u001b[0m\u001b[1;33m,\u001b[0m \u001b[0mproto\u001b[0m\u001b[1;33m,\u001b[0m \u001b[0mcanonname\u001b[0m\u001b[1;33m,\u001b[0m \u001b[0msa\u001b[0m \u001b[1;33m=\u001b[0m \u001b[0mres\u001b[0m\u001b[1;33m\u001b[0m\u001b[0m\n",
            "\u001b[1;31mgaierror\u001b[0m: [Errno 11001] getaddrinfo failed",
            "\nDuring handling of the above exception, another exception occurred:\n",
            "\u001b[1;31mURLError\u001b[0m                                  Traceback (most recent call last)",
            "\u001b[1;32m<ipython-input-250-1167e6416e3c>\u001b[0m in \u001b[0;36m<module>\u001b[1;34m()\u001b[0m\n\u001b[1;32m----> 1\u001b[1;33m \u001b[0mdata\u001b[0m \u001b[1;33m=\u001b[0m \u001b[0mpd\u001b[0m\u001b[1;33m.\u001b[0m\u001b[0mread_html\u001b[0m\u001b[1;33m(\u001b[0m\u001b[1;34m'https://www.google.cpm'\u001b[0m\u001b[1;33m)\u001b[0m\u001b[1;33m\u001b[0m\u001b[0m\n\u001b[0m",
            "\u001b[1;32m~\\Anaconda3\\lib\\site-packages\\pandas\\io\\html.py\u001b[0m in \u001b[0;36mread_html\u001b[1;34m(io, match, flavor, header, index_col, skiprows, attrs, parse_dates, tupleize_cols, thousands, encoding, decimal, converters, na_values, keep_default_na, displayed_only)\u001b[0m\n\u001b[0;32m    985\u001b[0m                   \u001b[0mdecimal\u001b[0m\u001b[1;33m=\u001b[0m\u001b[0mdecimal\u001b[0m\u001b[1;33m,\u001b[0m \u001b[0mconverters\u001b[0m\u001b[1;33m=\u001b[0m\u001b[0mconverters\u001b[0m\u001b[1;33m,\u001b[0m \u001b[0mna_values\u001b[0m\u001b[1;33m=\u001b[0m\u001b[0mna_values\u001b[0m\u001b[1;33m,\u001b[0m\u001b[1;33m\u001b[0m\u001b[0m\n\u001b[0;32m    986\u001b[0m                   \u001b[0mkeep_default_na\u001b[0m\u001b[1;33m=\u001b[0m\u001b[0mkeep_default_na\u001b[0m\u001b[1;33m,\u001b[0m\u001b[1;33m\u001b[0m\u001b[0m\n\u001b[1;32m--> 987\u001b[1;33m                   displayed_only=displayed_only)\n\u001b[0m",
            "\u001b[1;32m~\\Anaconda3\\lib\\site-packages\\pandas\\io\\html.py\u001b[0m in \u001b[0;36m_parse\u001b[1;34m(flavor, io, match, attrs, encoding, displayed_only, **kwargs)\u001b[0m\n\u001b[0;32m    813\u001b[0m             \u001b[1;32mbreak\u001b[0m\u001b[1;33m\u001b[0m\u001b[0m\n\u001b[0;32m    814\u001b[0m     \u001b[1;32melse\u001b[0m\u001b[1;33m:\u001b[0m\u001b[1;33m\u001b[0m\u001b[0m\n\u001b[1;32m--> 815\u001b[1;33m         \u001b[0mraise_with_traceback\u001b[0m\u001b[1;33m(\u001b[0m\u001b[0mretained\u001b[0m\u001b[1;33m)\u001b[0m\u001b[1;33m\u001b[0m\u001b[0m\n\u001b[0m\u001b[0;32m    816\u001b[0m \u001b[1;33m\u001b[0m\u001b[0m\n\u001b[0;32m    817\u001b[0m     \u001b[0mret\u001b[0m \u001b[1;33m=\u001b[0m \u001b[1;33m[\u001b[0m\u001b[1;33m]\u001b[0m\u001b[1;33m\u001b[0m\u001b[0m\n",
            "\u001b[1;32m~\\Anaconda3\\lib\\site-packages\\pandas\\compat\\__init__.py\u001b[0m in \u001b[0;36mraise_with_traceback\u001b[1;34m(exc, traceback)\u001b[0m\n\u001b[0;32m    402\u001b[0m         \u001b[1;32mif\u001b[0m \u001b[0mtraceback\u001b[0m \u001b[1;33m==\u001b[0m \u001b[0mEllipsis\u001b[0m\u001b[1;33m:\u001b[0m\u001b[1;33m\u001b[0m\u001b[0m\n\u001b[0;32m    403\u001b[0m             \u001b[0m_\u001b[0m\u001b[1;33m,\u001b[0m \u001b[0m_\u001b[0m\u001b[1;33m,\u001b[0m \u001b[0mtraceback\u001b[0m \u001b[1;33m=\u001b[0m \u001b[0msys\u001b[0m\u001b[1;33m.\u001b[0m\u001b[0mexc_info\u001b[0m\u001b[1;33m(\u001b[0m\u001b[1;33m)\u001b[0m\u001b[1;33m\u001b[0m\u001b[0m\n\u001b[1;32m--> 404\u001b[1;33m         \u001b[1;32mraise\u001b[0m \u001b[0mexc\u001b[0m\u001b[1;33m.\u001b[0m\u001b[0mwith_traceback\u001b[0m\u001b[1;33m(\u001b[0m\u001b[0mtraceback\u001b[0m\u001b[1;33m)\u001b[0m\u001b[1;33m\u001b[0m\u001b[0m\n\u001b[0m\u001b[0;32m    405\u001b[0m \u001b[1;32melse\u001b[0m\u001b[1;33m:\u001b[0m\u001b[1;33m\u001b[0m\u001b[0m\n\u001b[0;32m    406\u001b[0m     \u001b[1;31m# this version of raise is a syntax error in Python 3\u001b[0m\u001b[1;33m\u001b[0m\u001b[1;33m\u001b[0m\u001b[0m\n",
            "\u001b[1;31mURLError\u001b[0m: <urlopen error [Errno 11001] getaddrinfo failed>"
          ]
        }
      ]
    },
    {
      "metadata": {
        "id": "_ov4o5MpjcsT",
        "colab_type": "code",
        "colab": {},
        "outputId": "75de32c9-d0f4-442c-9c6d-c09a3559c1e1"
      },
      "cell_type": "code",
      "source": [
        "#the data read is list. Every table for example is converted to dataframe\n",
        "data[0].head()"
      ],
      "execution_count": 0,
      "outputs": [
        {
          "output_type": "error",
          "ename": "KeyError",
          "evalue": "0",
          "traceback": [
            "\u001b[1;31m---------------------------------------------------------------------------\u001b[0m",
            "\u001b[1;31mKeyError\u001b[0m                                  Traceback (most recent call last)",
            "\u001b[1;32m<ipython-input-252-70a03c00c215>\u001b[0m in \u001b[0;36m<module>\u001b[1;34m()\u001b[0m\n\u001b[0;32m      1\u001b[0m \u001b[1;31m#the data read is list. Every table for example is converted to dataframe\u001b[0m\u001b[1;33m\u001b[0m\u001b[1;33m\u001b[0m\u001b[0m\n\u001b[1;32m----> 2\u001b[1;33m \u001b[0mdata\u001b[0m\u001b[1;33m[\u001b[0m\u001b[1;36m0\u001b[0m\u001b[1;33m]\u001b[0m\u001b[1;33m.\u001b[0m\u001b[0mhead\u001b[0m\u001b[1;33m(\u001b[0m\u001b[1;33m)\u001b[0m\u001b[1;33m\u001b[0m\u001b[0m\n\u001b[0m",
            "\u001b[1;31mKeyError\u001b[0m: 0"
          ]
        }
      ]
    },
    {
      "metadata": {
        "id": "umSYNkiyjcsW",
        "colab_type": "text"
      },
      "cell_type": "markdown",
      "source": [
        "**Check this Once. Try with link given**"
      ]
    },
    {
      "metadata": {
        "id": "1X-PNb2UjcsX",
        "colab_type": "text"
      },
      "cell_type": "markdown",
      "source": [
        "## Reading from SQL"
      ]
    },
    {
      "metadata": {
        "id": "khwgLVJRjcsX",
        "colab_type": "text"
      },
      "cell_type": "markdown",
      "source": [
        "Pandas is not great for reading from SQL as there can be different flavors of SQL like postgresql, mysql etc. For each, different libraries are needed."
      ]
    },
    {
      "metadata": {
        "id": "fgtQ4uT5jcsX",
        "colab_type": "code",
        "colab": {}
      },
      "cell_type": "code",
      "source": [
        "from sqlalchemy import create_engine_engine"
      ],
      "execution_count": 0,
      "outputs": []
    },
    {
      "metadata": {
        "id": "HCTGJUx2jcsY",
        "colab_type": "code",
        "colab": {}
      },
      "cell_type": "code",
      "source": [
        "#this line of code will create a very small SQLite engine running in memory\n",
        "engine = create_engine('sqlite:///:memory:')"
      ],
      "execution_count": 0,
      "outputs": []
    },
    {
      "metadata": {
        "id": "RgQg-r1GjcsZ",
        "colab_type": "code",
        "colab": {},
        "outputId": "462e287e-1206-4fef-88c4-eb2be65321b6"
      },
      "cell_type": "code",
      "source": [
        "#Creating a table and writing to engine (connection)\n",
        "df.to_sql('my_table',engine)"
      ],
      "execution_count": 0,
      "outputs": [
        {
          "output_type": "error",
          "ename": "ValueError",
          "evalue": "Table 'my_table' already exists.",
          "traceback": [
            "\u001b[1;31m---------------------------------------------------------------------------\u001b[0m",
            "\u001b[1;31mValueError\u001b[0m                                Traceback (most recent call last)",
            "\u001b[1;32m<ipython-input-261-ac36802a1d11>\u001b[0m in \u001b[0;36m<module>\u001b[1;34m()\u001b[0m\n\u001b[0;32m      1\u001b[0m \u001b[1;31m#Creating a table and writing to engine (connection)\u001b[0m\u001b[1;33m\u001b[0m\u001b[1;33m\u001b[0m\u001b[0m\n\u001b[1;32m----> 2\u001b[1;33m \u001b[0mdf\u001b[0m\u001b[1;33m.\u001b[0m\u001b[0mto_sql\u001b[0m\u001b[1;33m(\u001b[0m\u001b[1;34m'my_table'\u001b[0m\u001b[1;33m,\u001b[0m\u001b[0mengine\u001b[0m\u001b[1;33m)\u001b[0m\u001b[1;33m\u001b[0m\u001b[0m\n\u001b[0m",
            "\u001b[1;32m~\\Anaconda3\\lib\\site-packages\\pandas\\core\\generic.py\u001b[0m in \u001b[0;36mto_sql\u001b[1;34m(self, name, con, schema, if_exists, index, index_label, chunksize, dtype)\u001b[0m\n\u001b[0;32m   2128\u001b[0m         sql.to_sql(self, name, con, schema=schema, if_exists=if_exists,\n\u001b[0;32m   2129\u001b[0m                    \u001b[0mindex\u001b[0m\u001b[1;33m=\u001b[0m\u001b[0mindex\u001b[0m\u001b[1;33m,\u001b[0m \u001b[0mindex_label\u001b[0m\u001b[1;33m=\u001b[0m\u001b[0mindex_label\u001b[0m\u001b[1;33m,\u001b[0m \u001b[0mchunksize\u001b[0m\u001b[1;33m=\u001b[0m\u001b[0mchunksize\u001b[0m\u001b[1;33m,\u001b[0m\u001b[1;33m\u001b[0m\u001b[0m\n\u001b[1;32m-> 2130\u001b[1;33m                    dtype=dtype)\n\u001b[0m\u001b[0;32m   2131\u001b[0m \u001b[1;33m\u001b[0m\u001b[0m\n\u001b[0;32m   2132\u001b[0m     def to_pickle(self, path, compression='infer',\n",
            "\u001b[1;32m~\\Anaconda3\\lib\\site-packages\\pandas\\io\\sql.py\u001b[0m in \u001b[0;36mto_sql\u001b[1;34m(frame, name, con, schema, if_exists, index, index_label, chunksize, dtype)\u001b[0m\n\u001b[0;32m    448\u001b[0m     pandas_sql.to_sql(frame, name, if_exists=if_exists, index=index,\n\u001b[0;32m    449\u001b[0m                       \u001b[0mindex_label\u001b[0m\u001b[1;33m=\u001b[0m\u001b[0mindex_label\u001b[0m\u001b[1;33m,\u001b[0m \u001b[0mschema\u001b[0m\u001b[1;33m=\u001b[0m\u001b[0mschema\u001b[0m\u001b[1;33m,\u001b[0m\u001b[1;33m\u001b[0m\u001b[0m\n\u001b[1;32m--> 450\u001b[1;33m                       chunksize=chunksize, dtype=dtype)\n\u001b[0m\u001b[0;32m    451\u001b[0m \u001b[1;33m\u001b[0m\u001b[0m\n\u001b[0;32m    452\u001b[0m \u001b[1;33m\u001b[0m\u001b[0m\n",
            "\u001b[1;32m~\\Anaconda3\\lib\\site-packages\\pandas\\io\\sql.py\u001b[0m in \u001b[0;36mto_sql\u001b[1;34m(self, frame, name, if_exists, index, index_label, schema, chunksize, dtype)\u001b[0m\n\u001b[0;32m   1124\u001b[0m                          \u001b[0mif_exists\u001b[0m\u001b[1;33m=\u001b[0m\u001b[0mif_exists\u001b[0m\u001b[1;33m,\u001b[0m \u001b[0mindex_label\u001b[0m\u001b[1;33m=\u001b[0m\u001b[0mindex_label\u001b[0m\u001b[1;33m,\u001b[0m\u001b[1;33m\u001b[0m\u001b[0m\n\u001b[0;32m   1125\u001b[0m                          schema=schema, dtype=dtype)\n\u001b[1;32m-> 1126\u001b[1;33m         \u001b[0mtable\u001b[0m\u001b[1;33m.\u001b[0m\u001b[0mcreate\u001b[0m\u001b[1;33m(\u001b[0m\u001b[1;33m)\u001b[0m\u001b[1;33m\u001b[0m\u001b[0m\n\u001b[0m\u001b[0;32m   1127\u001b[0m         \u001b[0mtable\u001b[0m\u001b[1;33m.\u001b[0m\u001b[0minsert\u001b[0m\u001b[1;33m(\u001b[0m\u001b[0mchunksize\u001b[0m\u001b[1;33m)\u001b[0m\u001b[1;33m\u001b[0m\u001b[0m\n\u001b[0;32m   1128\u001b[0m         \u001b[1;32mif\u001b[0m \u001b[1;33m(\u001b[0m\u001b[1;32mnot\u001b[0m \u001b[0mname\u001b[0m\u001b[1;33m.\u001b[0m\u001b[0misdigit\u001b[0m\u001b[1;33m(\u001b[0m\u001b[1;33m)\u001b[0m \u001b[1;32mand\u001b[0m \u001b[1;32mnot\u001b[0m \u001b[0mname\u001b[0m\u001b[1;33m.\u001b[0m\u001b[0mislower\u001b[0m\u001b[1;33m(\u001b[0m\u001b[1;33m)\u001b[0m\u001b[1;33m)\u001b[0m\u001b[1;33m:\u001b[0m\u001b[1;33m\u001b[0m\u001b[0m\n",
            "\u001b[1;32m~\\Anaconda3\\lib\\site-packages\\pandas\\io\\sql.py\u001b[0m in \u001b[0;36mcreate\u001b[1;34m(self)\u001b[0m\n\u001b[0;32m    561\u001b[0m         \u001b[1;32mif\u001b[0m \u001b[0mself\u001b[0m\u001b[1;33m.\u001b[0m\u001b[0mexists\u001b[0m\u001b[1;33m(\u001b[0m\u001b[1;33m)\u001b[0m\u001b[1;33m:\u001b[0m\u001b[1;33m\u001b[0m\u001b[0m\n\u001b[0;32m    562\u001b[0m             \u001b[1;32mif\u001b[0m \u001b[0mself\u001b[0m\u001b[1;33m.\u001b[0m\u001b[0mif_exists\u001b[0m \u001b[1;33m==\u001b[0m \u001b[1;34m'fail'\u001b[0m\u001b[1;33m:\u001b[0m\u001b[1;33m\u001b[0m\u001b[0m\n\u001b[1;32m--> 563\u001b[1;33m                 \u001b[1;32mraise\u001b[0m \u001b[0mValueError\u001b[0m\u001b[1;33m(\u001b[0m\u001b[1;34m\"Table '%s' already exists.\"\u001b[0m \u001b[1;33m%\u001b[0m \u001b[0mself\u001b[0m\u001b[1;33m.\u001b[0m\u001b[0mname\u001b[0m\u001b[1;33m)\u001b[0m\u001b[1;33m\u001b[0m\u001b[0m\n\u001b[0m\u001b[0;32m    564\u001b[0m             \u001b[1;32melif\u001b[0m \u001b[0mself\u001b[0m\u001b[1;33m.\u001b[0m\u001b[0mif_exists\u001b[0m \u001b[1;33m==\u001b[0m \u001b[1;34m'replace'\u001b[0m\u001b[1;33m:\u001b[0m\u001b[1;33m\u001b[0m\u001b[0m\n\u001b[0;32m    565\u001b[0m                 \u001b[0mself\u001b[0m\u001b[1;33m.\u001b[0m\u001b[0mpd_sql\u001b[0m\u001b[1;33m.\u001b[0m\u001b[0mdrop_table\u001b[0m\u001b[1;33m(\u001b[0m\u001b[0mself\u001b[0m\u001b[1;33m.\u001b[0m\u001b[0mname\u001b[0m\u001b[1;33m,\u001b[0m \u001b[0mself\u001b[0m\u001b[1;33m.\u001b[0m\u001b[0mschema\u001b[0m\u001b[1;33m)\u001b[0m\u001b[1;33m\u001b[0m\u001b[0m\n",
            "\u001b[1;31mValueError\u001b[0m: Table 'my_table' already exists."
          ]
        }
      ]
    },
    {
      "metadata": {
        "id": "VIvlDPuQjcse",
        "colab_type": "code",
        "colab": {},
        "outputId": "1f553c5c-a039-46fd-b575-a2604dbe57e2"
      },
      "cell_type": "code",
      "source": [
        "#reading back from the sql db\n",
        "\n",
        "sqldf = pd.read_sql('my_table',con=engine)\n",
        "sqldf"
      ],
      "execution_count": 0,
      "outputs": [
        {
          "output_type": "execute_result",
          "data": {
            "text/html": [
              "<div>\n",
              "<style scoped>\n",
              "    .dataframe tbody tr th:only-of-type {\n",
              "        vertical-align: middle;\n",
              "    }\n",
              "\n",
              "    .dataframe tbody tr th {\n",
              "        vertical-align: top;\n",
              "    }\n",
              "\n",
              "    .dataframe thead th {\n",
              "        text-align: right;\n",
              "    }\n",
              "</style>\n",
              "<table border=\"1\" class=\"dataframe\">\n",
              "  <thead>\n",
              "    <tr style=\"text-align: right;\">\n",
              "      <th></th>\n",
              "      <th>index</th>\n",
              "      <th>Domestic Shipments Name</th>\n",
              "      <th>LANE FROM</th>\n",
              "      <th>LANE TO</th>\n",
              "      <th>FREIGHT</th>\n",
              "      <th>DEST STATE</th>\n",
              "      <th>DISTANCE</th>\n",
              "      <th>RATE_PER_MILE</th>\n",
              "      <th>SHIPMENT</th>\n",
              "      <th>SOURCE STATE</th>\n",
              "      <th>TRANSPORT_MODE</th>\n",
              "    </tr>\n",
              "  </thead>\n",
              "  <tbody>\n",
              "    <tr>\n",
              "      <th>0</th>\n",
              "      <td>0</td>\n",
              "      <td>a0W1W000008Mv2c</td>\n",
              "      <td>SMYRNA, NY</td>\n",
              "      <td>LOGANSPORT, IN</td>\n",
              "      <td>1750.0</td>\n",
              "      <td>IN</td>\n",
              "      <td>676.0</td>\n",
              "      <td>2.59</td>\n",
              "      <td>444080.0</td>\n",
              "      <td>NY</td>\n",
              "      <td>TL</td>\n",
              "    </tr>\n",
              "    <tr>\n",
              "      <th>1</th>\n",
              "      <td>1</td>\n",
              "      <td>a0W1W000008Mv2d</td>\n",
              "      <td>SMYRNA, NY</td>\n",
              "      <td>SWEDESBORO, NJ</td>\n",
              "      <td>700.0</td>\n",
              "      <td>NJ</td>\n",
              "      <td>254.0</td>\n",
              "      <td>2.76</td>\n",
              "      <td>443813.0</td>\n",
              "      <td>NY</td>\n",
              "      <td>TL</td>\n",
              "    </tr>\n",
              "    <tr>\n",
              "      <th>2</th>\n",
              "      <td>2</td>\n",
              "      <td>a0W1W000008Mv2e</td>\n",
              "      <td>TITUSVILLE, PA</td>\n",
              "      <td>ST-EUSTACHE, QC</td>\n",
              "      <td>1700.0</td>\n",
              "      <td>QC</td>\n",
              "      <td>519.0</td>\n",
              "      <td>3.28</td>\n",
              "      <td>443848.0</td>\n",
              "      <td>PA</td>\n",
              "      <td>TL</td>\n",
              "    </tr>\n",
              "    <tr>\n",
              "      <th>3</th>\n",
              "      <td>3</td>\n",
              "      <td>a0W1W000008Mv2f</td>\n",
              "      <td>TITUSVILLE, PA</td>\n",
              "      <td>TROY, PA</td>\n",
              "      <td>750.0</td>\n",
              "      <td>PA</td>\n",
              "      <td>240.0</td>\n",
              "      <td>3.13</td>\n",
              "      <td>442823.0</td>\n",
              "      <td>PA</td>\n",
              "      <td>TL</td>\n",
              "    </tr>\n",
              "    <tr>\n",
              "      <th>4</th>\n",
              "      <td>4</td>\n",
              "      <td>a0W1W000008Mv2g</td>\n",
              "      <td>ALLEGANY, NY</td>\n",
              "      <td>LIVERMORE, CA</td>\n",
              "      <td>2710.0</td>\n",
              "      <td>CA</td>\n",
              "      <td>2656.0</td>\n",
              "      <td>1.02</td>\n",
              "      <td>443101.0</td>\n",
              "      <td>NY</td>\n",
              "      <td>INTRMDL</td>\n",
              "    </tr>\n",
              "    <tr>\n",
              "      <th>5</th>\n",
              "      <td>5</td>\n",
              "      <td>a0W1W000008Mv2h</td>\n",
              "      <td>ALLEGANY, NY</td>\n",
              "      <td>LOGANSPORT, IN</td>\n",
              "      <td>1400.0</td>\n",
              "      <td>IN</td>\n",
              "      <td>482.0</td>\n",
              "      <td>2.90</td>\n",
              "      <td>443915.0</td>\n",
              "      <td>NY</td>\n",
              "      <td>TL</td>\n",
              "    </tr>\n",
              "    <tr>\n",
              "      <th>6</th>\n",
              "      <td>6</td>\n",
              "      <td>a0W1W000008Mv2i</td>\n",
              "      <td>ALLEGANY, NY</td>\n",
              "      <td>LOGANSPORT, IN</td>\n",
              "      <td>1450.0</td>\n",
              "      <td>IN</td>\n",
              "      <td>482.0</td>\n",
              "      <td>3.01</td>\n",
              "      <td>444425.0</td>\n",
              "      <td>NY</td>\n",
              "      <td>TL</td>\n",
              "    </tr>\n",
              "    <tr>\n",
              "      <th>7</th>\n",
              "      <td>7</td>\n",
              "      <td>a0W1W000008Mv2j</td>\n",
              "      <td>BOONVILLE, NY</td>\n",
              "      <td>BALLY, PA</td>\n",
              "      <td>935.0</td>\n",
              "      <td>PA</td>\n",
              "      <td>314.0</td>\n",
              "      <td>2.98</td>\n",
              "      <td>444090.0</td>\n",
              "      <td>NY</td>\n",
              "      <td>TL</td>\n",
              "    </tr>\n",
              "    <tr>\n",
              "      <th>8</th>\n",
              "      <td>8</td>\n",
              "      <td>a0W1W000008Mv2k</td>\n",
              "      <td>BOONVILLE, NY</td>\n",
              "      <td>BRIDGEPORT, CT</td>\n",
              "      <td>800.0</td>\n",
              "      <td>CT</td>\n",
              "      <td>287.0</td>\n",
              "      <td>2.79</td>\n",
              "      <td>444395.0</td>\n",
              "      <td>NY</td>\n",
              "      <td>TL</td>\n",
              "    </tr>\n",
              "    <tr>\n",
              "      <th>9</th>\n",
              "      <td>9</td>\n",
              "      <td>a0W1W000008Mv2l</td>\n",
              "      <td>BOONVILLE, NY</td>\n",
              "      <td>CHEEKTOWAGA, NY</td>\n",
              "      <td>600.0</td>\n",
              "      <td>NY</td>\n",
              "      <td>229.0</td>\n",
              "      <td>2.62</td>\n",
              "      <td>444249.0</td>\n",
              "      <td>NY</td>\n",
              "      <td>TL</td>\n",
              "    </tr>\n",
              "    <tr>\n",
              "      <th>10</th>\n",
              "      <td>10</td>\n",
              "      <td>a0W1W000008Mv2m</td>\n",
              "      <td>BOONVILLE, NY</td>\n",
              "      <td>SMYRNA, NY</td>\n",
              "      <td>475.0</td>\n",
              "      <td>NY</td>\n",
              "      <td>80.0</td>\n",
              "      <td>5.94</td>\n",
              "      <td>444435.0</td>\n",
              "      <td>NY</td>\n",
              "      <td>TL</td>\n",
              "    </tr>\n",
              "    <tr>\n",
              "      <th>11</th>\n",
              "      <td>11</td>\n",
              "      <td>a0W1W000008Mv2n</td>\n",
              "      <td>BOONVILLE, NY</td>\n",
              "      <td>SMYRNA, NY</td>\n",
              "      <td>475.0</td>\n",
              "      <td>NY</td>\n",
              "      <td>80.0</td>\n",
              "      <td>5.94</td>\n",
              "      <td>444436.0</td>\n",
              "      <td>NY</td>\n",
              "      <td>TL</td>\n",
              "    </tr>\n",
              "    <tr>\n",
              "      <th>12</th>\n",
              "      <td>12</td>\n",
              "      <td>a0W1W000008Mv2o</td>\n",
              "      <td>BOONVILLE, NY</td>\n",
              "      <td>SMYRNA, NY</td>\n",
              "      <td>475.0</td>\n",
              "      <td>NY</td>\n",
              "      <td>80.0</td>\n",
              "      <td>5.94</td>\n",
              "      <td>444504.0</td>\n",
              "      <td>NY</td>\n",
              "      <td>TL</td>\n",
              "    </tr>\n",
              "    <tr>\n",
              "      <th>13</th>\n",
              "      <td>13</td>\n",
              "      <td>a0W1W000008Mv2p</td>\n",
              "      <td>CANDOR, NY</td>\n",
              "      <td>TEWKSBURY, MA</td>\n",
              "      <td>900.0</td>\n",
              "      <td>MA</td>\n",
              "      <td>374.0</td>\n",
              "      <td>2.41</td>\n",
              "      <td>444027.0</td>\n",
              "      <td>NY</td>\n",
              "      <td>TL</td>\n",
              "    </tr>\n",
              "    <tr>\n",
              "      <th>14</th>\n",
              "      <td>14</td>\n",
              "      <td>a0W1W000008Mv2q</td>\n",
              "      <td>CAYUTA, NY</td>\n",
              "      <td>CLEARFIELD, PA</td>\n",
              "      <td>700.0</td>\n",
              "      <td>PA</td>\n",
              "      <td>197.0</td>\n",
              "      <td>3.55</td>\n",
              "      <td>444001.0</td>\n",
              "      <td>NY</td>\n",
              "      <td>TL</td>\n",
              "    </tr>\n",
              "    <tr>\n",
              "      <th>15</th>\n",
              "      <td>15</td>\n",
              "      <td>a0W1W000008MuyS</td>\n",
              "      <td>BOONVILLE, NY</td>\n",
              "      <td>SMYRNA, NY</td>\n",
              "      <td>475.0</td>\n",
              "      <td>NY</td>\n",
              "      <td>80.0</td>\n",
              "      <td>5.94</td>\n",
              "      <td>442943.0</td>\n",
              "      <td>NY</td>\n",
              "      <td>TL</td>\n",
              "    </tr>\n",
              "    <tr>\n",
              "      <th>16</th>\n",
              "      <td>16</td>\n",
              "      <td>a0W1W000008MuyT</td>\n",
              "      <td>BOONVILLE, NY</td>\n",
              "      <td>SMYRNA, NY</td>\n",
              "      <td>475.0</td>\n",
              "      <td>NY</td>\n",
              "      <td>80.0</td>\n",
              "      <td>5.94</td>\n",
              "      <td>442944.0</td>\n",
              "      <td>NY</td>\n",
              "      <td>TL</td>\n",
              "    </tr>\n",
              "    <tr>\n",
              "      <th>17</th>\n",
              "      <td>17</td>\n",
              "      <td>a0W1W000008MuyU</td>\n",
              "      <td>BOONVILLE, NY</td>\n",
              "      <td>SMYRNA, NY</td>\n",
              "      <td>475.0</td>\n",
              "      <td>NY</td>\n",
              "      <td>80.0</td>\n",
              "      <td>5.94</td>\n",
              "      <td>442948.0</td>\n",
              "      <td>NY</td>\n",
              "      <td>TL</td>\n",
              "    </tr>\n",
              "    <tr>\n",
              "      <th>18</th>\n",
              "      <td>18</td>\n",
              "      <td>a0W1W000008MuyV</td>\n",
              "      <td>BOONVILLE, NY</td>\n",
              "      <td>SMYRNA, NY</td>\n",
              "      <td>475.0</td>\n",
              "      <td>NY</td>\n",
              "      <td>80.0</td>\n",
              "      <td>5.94</td>\n",
              "      <td>442950.0</td>\n",
              "      <td>NY</td>\n",
              "      <td>TL</td>\n",
              "    </tr>\n",
              "    <tr>\n",
              "      <th>19</th>\n",
              "      <td>19</td>\n",
              "      <td>a0W1W000008MuyW</td>\n",
              "      <td>BOONVILLE, NY</td>\n",
              "      <td>SMYRNA, NY</td>\n",
              "      <td>475.0</td>\n",
              "      <td>NY</td>\n",
              "      <td>80.0</td>\n",
              "      <td>5.94</td>\n",
              "      <td>442951.0</td>\n",
              "      <td>NY</td>\n",
              "      <td>TL</td>\n",
              "    </tr>\n",
              "    <tr>\n",
              "      <th>20</th>\n",
              "      <td>20</td>\n",
              "      <td>a0W1W000008MuyX</td>\n",
              "      <td>BOONVILLE, NY</td>\n",
              "      <td>SMYRNA, NY</td>\n",
              "      <td>475.0</td>\n",
              "      <td>NY</td>\n",
              "      <td>80.0</td>\n",
              "      <td>5.94</td>\n",
              "      <td>443218.0</td>\n",
              "      <td>NY</td>\n",
              "      <td>TL</td>\n",
              "    </tr>\n",
              "    <tr>\n",
              "      <th>21</th>\n",
              "      <td>21</td>\n",
              "      <td>a0W1W000008MuyY</td>\n",
              "      <td>CANTON, NC</td>\n",
              "      <td>ELLIJAY, GA</td>\n",
              "      <td>650.0</td>\n",
              "      <td>GA</td>\n",
              "      <td>146.0</td>\n",
              "      <td>4.45</td>\n",
              "      <td>442967.0</td>\n",
              "      <td>NC</td>\n",
              "      <td>TL</td>\n",
              "    </tr>\n",
              "    <tr>\n",
              "      <th>22</th>\n",
              "      <td>22</td>\n",
              "      <td>a0W1W000008MuyZ</td>\n",
              "      <td>COVE CITY, NC</td>\n",
              "      <td>BRAINERD, MN</td>\n",
              "      <td>3500.0</td>\n",
              "      <td>MN</td>\n",
              "      <td>1455.0</td>\n",
              "      <td>2.41</td>\n",
              "      <td>442126.0</td>\n",
              "      <td>NC</td>\n",
              "      <td>TL</td>\n",
              "    </tr>\n",
              "    <tr>\n",
              "      <th>23</th>\n",
              "      <td>23</td>\n",
              "      <td>a0W1W000008Muya</td>\n",
              "      <td>COVE CITY, NC</td>\n",
              "      <td>RICE, MN</td>\n",
              "      <td>3400.0</td>\n",
              "      <td>MN</td>\n",
              "      <td>1406.0</td>\n",
              "      <td>2.42</td>\n",
              "      <td>441304.0</td>\n",
              "      <td>NC</td>\n",
              "      <td>TL</td>\n",
              "    </tr>\n",
              "    <tr>\n",
              "      <th>24</th>\n",
              "      <td>24</td>\n",
              "      <td>a0W1W000008Muyb</td>\n",
              "      <td>DONALDS, SC</td>\n",
              "      <td>SUWANEE, GA</td>\n",
              "      <td>700.0</td>\n",
              "      <td>GA</td>\n",
              "      <td>123.0</td>\n",
              "      <td>5.69</td>\n",
              "      <td>442362.0</td>\n",
              "      <td>SC</td>\n",
              "      <td>TL</td>\n",
              "    </tr>\n",
              "    <tr>\n",
              "      <th>25</th>\n",
              "      <td>25</td>\n",
              "      <td>a0W1W000008Muyc</td>\n",
              "      <td>DONALDS, SC</td>\n",
              "      <td>ZEELAND, MI</td>\n",
              "      <td>2450.0</td>\n",
              "      <td>MI</td>\n",
              "      <td>792.0</td>\n",
              "      <td>3.09</td>\n",
              "      <td>441717.0</td>\n",
              "      <td>SC</td>\n",
              "      <td>TL</td>\n",
              "    </tr>\n",
              "    <tr>\n",
              "      <th>26</th>\n",
              "      <td>26</td>\n",
              "      <td>a0W1W000008Muyd</td>\n",
              "      <td>HUNTERSVILLE, NC</td>\n",
              "      <td>SAYRE, PA</td>\n",
              "      <td>1750.0</td>\n",
              "      <td>PA</td>\n",
              "      <td>613.0</td>\n",
              "      <td>2.85</td>\n",
              "      <td>442465.0</td>\n",
              "      <td>NC</td>\n",
              "      <td>TL</td>\n",
              "    </tr>\n",
              "    <tr>\n",
              "      <th>27</th>\n",
              "      <td>27</td>\n",
              "      <td>a0W1W000008Muye</td>\n",
              "      <td>HURLEY, WI</td>\n",
              "      <td>LA PORTE, IN</td>\n",
              "      <td>1130.0</td>\n",
              "      <td>IN</td>\n",
              "      <td>475.0</td>\n",
              "      <td>2.38</td>\n",
              "      <td>441366.0</td>\n",
              "      <td>WI</td>\n",
              "      <td>TL</td>\n",
              "    </tr>\n",
              "    <tr>\n",
              "      <th>28</th>\n",
              "      <td>28</td>\n",
              "      <td>a0W1W000008Muyf</td>\n",
              "      <td>LEITCHFIELD, KY</td>\n",
              "      <td>ST. AUGUSTINE, FL</td>\n",
              "      <td>2300.0</td>\n",
              "      <td>FL</td>\n",
              "      <td>767.0</td>\n",
              "      <td>3.00</td>\n",
              "      <td>442076.0</td>\n",
              "      <td>KY</td>\n",
              "      <td>TL</td>\n",
              "    </tr>\n",
              "    <tr>\n",
              "      <th>29</th>\n",
              "      <td>29</td>\n",
              "      <td>a0W1W000008Muyg</td>\n",
              "      <td>MARIETTA, OH</td>\n",
              "      <td>BEVERLY, WV</td>\n",
              "      <td>850.0</td>\n",
              "      <td>WV</td>\n",
              "      <td>150.0</td>\n",
              "      <td>5.67</td>\n",
              "      <td>442282.0</td>\n",
              "      <td>OH</td>\n",
              "      <td>TL</td>\n",
              "    </tr>\n",
              "    <tr>\n",
              "      <th>...</th>\n",
              "      <td>...</td>\n",
              "      <td>...</td>\n",
              "      <td>...</td>\n",
              "      <td>...</td>\n",
              "      <td>...</td>\n",
              "      <td>...</td>\n",
              "      <td>...</td>\n",
              "      <td>...</td>\n",
              "      <td>...</td>\n",
              "      <td>...</td>\n",
              "      <td>...</td>\n",
              "    </tr>\n",
              "    <tr>\n",
              "      <th>1900</th>\n",
              "      <td>1900</td>\n",
              "      <td>a0W1W000008MuoW</td>\n",
              "      <td>ALLENSVILLE, PA</td>\n",
              "      <td>TITUSVILLE, PA</td>\n",
              "      <td>600.0</td>\n",
              "      <td>PA</td>\n",
              "      <td>170.0</td>\n",
              "      <td>3.53</td>\n",
              "      <td>438583.0</td>\n",
              "      <td>PA</td>\n",
              "      <td>TL</td>\n",
              "    </tr>\n",
              "    <tr>\n",
              "      <th>1901</th>\n",
              "      <td>1901</td>\n",
              "      <td>a0W1W000008MuoX</td>\n",
              "      <td>BARTOW, WV</td>\n",
              "      <td>LONG BEACH, CA</td>\n",
              "      <td>2587.5</td>\n",
              "      <td>CA</td>\n",
              "      <td>2522.0</td>\n",
              "      <td>1.03</td>\n",
              "      <td>438519.0</td>\n",
              "      <td>WV</td>\n",
              "      <td>INTRMDL</td>\n",
              "    </tr>\n",
              "    <tr>\n",
              "      <th>1902</th>\n",
              "      <td>1902</td>\n",
              "      <td>a0W1W000008MuoY</td>\n",
              "      <td>BOONVILLE, NY</td>\n",
              "      <td>BRIDGEPORT, CT</td>\n",
              "      <td>800.0</td>\n",
              "      <td>CT</td>\n",
              "      <td>287.0</td>\n",
              "      <td>2.79</td>\n",
              "      <td>438535.0</td>\n",
              "      <td>NY</td>\n",
              "      <td>TL</td>\n",
              "    </tr>\n",
              "    <tr>\n",
              "      <th>1903</th>\n",
              "      <td>1903</td>\n",
              "      <td>a0W1W000008MuoZ</td>\n",
              "      <td>BOONVILLE, NY</td>\n",
              "      <td>SMYRNA, NY</td>\n",
              "      <td>475.0</td>\n",
              "      <td>NY</td>\n",
              "      <td>80.0</td>\n",
              "      <td>5.94</td>\n",
              "      <td>439018.0</td>\n",
              "      <td>NY</td>\n",
              "      <td>TL</td>\n",
              "    </tr>\n",
              "    <tr>\n",
              "      <th>1904</th>\n",
              "      <td>1904</td>\n",
              "      <td>a0W1W000008Muoa</td>\n",
              "      <td>BOONVILLE, NY</td>\n",
              "      <td>SMYRNA, NY</td>\n",
              "      <td>475.0</td>\n",
              "      <td>NY</td>\n",
              "      <td>80.0</td>\n",
              "      <td>5.94</td>\n",
              "      <td>439019.0</td>\n",
              "      <td>NY</td>\n",
              "      <td>TL</td>\n",
              "    </tr>\n",
              "    <tr>\n",
              "      <th>1905</th>\n",
              "      <td>1905</td>\n",
              "      <td>a0W1W000008Muob</td>\n",
              "      <td>BOONVILLE, NY</td>\n",
              "      <td>SMYRNA, NY</td>\n",
              "      <td>475.0</td>\n",
              "      <td>NY</td>\n",
              "      <td>80.0</td>\n",
              "      <td>5.94</td>\n",
              "      <td>439021.0</td>\n",
              "      <td>NY</td>\n",
              "      <td>TL</td>\n",
              "    </tr>\n",
              "    <tr>\n",
              "      <th>1906</th>\n",
              "      <td>1906</td>\n",
              "      <td>a0W1W000008Muoc</td>\n",
              "      <td>BOONVILLE, NY</td>\n",
              "      <td>SMYRNA, NY</td>\n",
              "      <td>475.0</td>\n",
              "      <td>NY</td>\n",
              "      <td>80.0</td>\n",
              "      <td>5.94</td>\n",
              "      <td>439022.0</td>\n",
              "      <td>NY</td>\n",
              "      <td>TL</td>\n",
              "    </tr>\n",
              "    <tr>\n",
              "      <th>1907</th>\n",
              "      <td>1907</td>\n",
              "      <td>a0W1W000008Muod</td>\n",
              "      <td>CANDOR, NY</td>\n",
              "      <td>ACTON, MA</td>\n",
              "      <td>950.0</td>\n",
              "      <td>MA</td>\n",
              "      <td>362.0</td>\n",
              "      <td>2.62</td>\n",
              "      <td>438200.0</td>\n",
              "      <td>NY</td>\n",
              "      <td>TL</td>\n",
              "    </tr>\n",
              "    <tr>\n",
              "      <th>1908</th>\n",
              "      <td>1908</td>\n",
              "      <td>a0W1W000008Muoe</td>\n",
              "      <td>CANDOR, NY</td>\n",
              "      <td>MIFFLINBURG, PA</td>\n",
              "      <td>500.0</td>\n",
              "      <td>PA</td>\n",
              "      <td>130.0</td>\n",
              "      <td>3.85</td>\n",
              "      <td>438739.0</td>\n",
              "      <td>NY</td>\n",
              "      <td>TL</td>\n",
              "    </tr>\n",
              "    <tr>\n",
              "      <th>1909</th>\n",
              "      <td>1909</td>\n",
              "      <td>a0W1W000008Muof</td>\n",
              "      <td>CANDOR, NY</td>\n",
              "      <td>MIFFLINBURG, PA</td>\n",
              "      <td>500.0</td>\n",
              "      <td>PA</td>\n",
              "      <td>130.0</td>\n",
              "      <td>3.85</td>\n",
              "      <td>438819.0</td>\n",
              "      <td>NY</td>\n",
              "      <td>TL</td>\n",
              "    </tr>\n",
              "    <tr>\n",
              "      <th>1910</th>\n",
              "      <td>1910</td>\n",
              "      <td>a0W1W000008Muog</td>\n",
              "      <td>CAYUTA, NY</td>\n",
              "      <td>AUBURN, AL</td>\n",
              "      <td>1900.0</td>\n",
              "      <td>AL</td>\n",
              "      <td>1016.0</td>\n",
              "      <td>1.87</td>\n",
              "      <td>438799.0</td>\n",
              "      <td>NY</td>\n",
              "      <td>TL</td>\n",
              "    </tr>\n",
              "    <tr>\n",
              "      <th>1911</th>\n",
              "      <td>1911</td>\n",
              "      <td>a0W1W000008Muom</td>\n",
              "      <td>LEITCHFIELD, KY</td>\n",
              "      <td>FORT WORTH, TX</td>\n",
              "      <td>2000.0</td>\n",
              "      <td>TX</td>\n",
              "      <td>805.0</td>\n",
              "      <td>2.48</td>\n",
              "      <td>438715.0</td>\n",
              "      <td>KY</td>\n",
              "      <td>TL</td>\n",
              "    </tr>\n",
              "    <tr>\n",
              "      <th>1912</th>\n",
              "      <td>1912</td>\n",
              "      <td>a0W1W000008Muon</td>\n",
              "      <td>LEITCHFIELD, KY</td>\n",
              "      <td>SCOTT CITY, MO</td>\n",
              "      <td>900.0</td>\n",
              "      <td>MO</td>\n",
              "      <td>263.0</td>\n",
              "      <td>3.42</td>\n",
              "      <td>437529.0</td>\n",
              "      <td>KY</td>\n",
              "      <td>TL</td>\n",
              "    </tr>\n",
              "    <tr>\n",
              "      <th>1913</th>\n",
              "      <td>1913</td>\n",
              "      <td>a0W1W000008Muoo</td>\n",
              "      <td>LEWISTOWN, PA</td>\n",
              "      <td>SMYRNA, NY</td>\n",
              "      <td>700.0</td>\n",
              "      <td>NY</td>\n",
              "      <td>250.0</td>\n",
              "      <td>2.80</td>\n",
              "      <td>438429.0</td>\n",
              "      <td>PA</td>\n",
              "      <td>TL</td>\n",
              "    </tr>\n",
              "    <tr>\n",
              "      <th>1914</th>\n",
              "      <td>1914</td>\n",
              "      <td>a0W1W000008Muop</td>\n",
              "      <td>MARIETTA, OH</td>\n",
              "      <td>VONORE, TN</td>\n",
              "      <td>1600.0</td>\n",
              "      <td>TN</td>\n",
              "      <td>436.0</td>\n",
              "      <td>3.67</td>\n",
              "      <td>438761.0</td>\n",
              "      <td>OH</td>\n",
              "      <td>TL</td>\n",
              "    </tr>\n",
              "    <tr>\n",
              "      <th>1915</th>\n",
              "      <td>1915</td>\n",
              "      <td>a0W1W000008Muoq</td>\n",
              "      <td>MARIETTA, OH</td>\n",
              "      <td>VONORE, TN</td>\n",
              "      <td>1700.0</td>\n",
              "      <td>TN</td>\n",
              "      <td>436.0</td>\n",
              "      <td>3.90</td>\n",
              "      <td>438736.0</td>\n",
              "      <td>OH</td>\n",
              "      <td>TL</td>\n",
              "    </tr>\n",
              "    <tr>\n",
              "      <th>1916</th>\n",
              "      <td>1916</td>\n",
              "      <td>a0W1W000008Muor</td>\n",
              "      <td>MARIETTA, OH</td>\n",
              "      <td>WAYNESBORO, VA</td>\n",
              "      <td>900.0</td>\n",
              "      <td>VA</td>\n",
              "      <td>317.0</td>\n",
              "      <td>2.84</td>\n",
              "      <td>438407.0</td>\n",
              "      <td>OH</td>\n",
              "      <td>TL</td>\n",
              "    </tr>\n",
              "    <tr>\n",
              "      <th>1917</th>\n",
              "      <td>1917</td>\n",
              "      <td>a0W1W000008Mup7</td>\n",
              "      <td>BOONVILLE, NY</td>\n",
              "      <td>SMYRNA, NY</td>\n",
              "      <td>475.0</td>\n",
              "      <td>NY</td>\n",
              "      <td>80.0</td>\n",
              "      <td>5.94</td>\n",
              "      <td>439166.0</td>\n",
              "      <td>NY</td>\n",
              "      <td>TL</td>\n",
              "    </tr>\n",
              "    <tr>\n",
              "      <th>1918</th>\n",
              "      <td>1918</td>\n",
              "      <td>a0W1W000008Mup8</td>\n",
              "      <td>BRATTLEBORO, VT</td>\n",
              "      <td>SMYRNA, NY</td>\n",
              "      <td>750.0</td>\n",
              "      <td>NY</td>\n",
              "      <td>201.0</td>\n",
              "      <td>3.73</td>\n",
              "      <td>438805.0</td>\n",
              "      <td>VT</td>\n",
              "      <td>TL</td>\n",
              "    </tr>\n",
              "    <tr>\n",
              "      <th>1919</th>\n",
              "      <td>1919</td>\n",
              "      <td>a0W1W000008Mup9</td>\n",
              "      <td>BRATTLEBORO, VT</td>\n",
              "      <td>SMYRNA, NY</td>\n",
              "      <td>1100.0</td>\n",
              "      <td>NY</td>\n",
              "      <td>201.0</td>\n",
              "      <td>5.47</td>\n",
              "      <td>438373.0</td>\n",
              "      <td>VT</td>\n",
              "      <td>LTL</td>\n",
              "    </tr>\n",
              "    <tr>\n",
              "      <th>1920</th>\n",
              "      <td>1920</td>\n",
              "      <td>a0W1W000008Mup6</td>\n",
              "      <td>BOONVILLE, NY</td>\n",
              "      <td>SMYRNA, NY</td>\n",
              "      <td>475.0</td>\n",
              "      <td>NY</td>\n",
              "      <td>80.0</td>\n",
              "      <td>5.94</td>\n",
              "      <td>439060.0</td>\n",
              "      <td>NY</td>\n",
              "      <td>TL</td>\n",
              "    </tr>\n",
              "    <tr>\n",
              "      <th>1921</th>\n",
              "      <td>1921</td>\n",
              "      <td>a0W1W000008MupA</td>\n",
              "      <td>CANDOR, NY</td>\n",
              "      <td>NEWBURYPORT, MA</td>\n",
              "      <td>1000.0</td>\n",
              "      <td>MA</td>\n",
              "      <td>403.0</td>\n",
              "      <td>2.48</td>\n",
              "      <td>437712.0</td>\n",
              "      <td>NY</td>\n",
              "      <td>TL</td>\n",
              "    </tr>\n",
              "    <tr>\n",
              "      <th>1922</th>\n",
              "      <td>1922</td>\n",
              "      <td>a0W1W000008MupB</td>\n",
              "      <td>CANDOR, NY</td>\n",
              "      <td>SUGARCREEK, OH</td>\n",
              "      <td>850.0</td>\n",
              "      <td>OH</td>\n",
              "      <td>405.0</td>\n",
              "      <td>2.10</td>\n",
              "      <td>438815.0</td>\n",
              "      <td>NY</td>\n",
              "      <td>TL</td>\n",
              "    </tr>\n",
              "    <tr>\n",
              "      <th>1923</th>\n",
              "      <td>1923</td>\n",
              "      <td>None</td>\n",
              "      <td>None</td>\n",
              "      <td>None</td>\n",
              "      <td>NaN</td>\n",
              "      <td>None</td>\n",
              "      <td>NaN</td>\n",
              "      <td>NaN</td>\n",
              "      <td>NaN</td>\n",
              "      <td>None</td>\n",
              "      <td>None</td>\n",
              "    </tr>\n",
              "    <tr>\n",
              "      <th>1924</th>\n",
              "      <td>1924</td>\n",
              "      <td>None</td>\n",
              "      <td>None</td>\n",
              "      <td>None</td>\n",
              "      <td>NaN</td>\n",
              "      <td>None</td>\n",
              "      <td>NaN</td>\n",
              "      <td>NaN</td>\n",
              "      <td>NaN</td>\n",
              "      <td>None</td>\n",
              "      <td>None</td>\n",
              "    </tr>\n",
              "    <tr>\n",
              "      <th>1925</th>\n",
              "      <td>1925</td>\n",
              "      <td>Domestic Shipments(2/14/2018--&gt;8/14/2018</td>\n",
              "      <td>None</td>\n",
              "      <td>None</td>\n",
              "      <td>NaN</td>\n",
              "      <td>None</td>\n",
              "      <td>NaN</td>\n",
              "      <td>NaN</td>\n",
              "      <td>NaN</td>\n",
              "      <td>None</td>\n",
              "      <td>None</td>\n",
              "    </tr>\n",
              "    <tr>\n",
              "      <th>1926</th>\n",
              "      <td>1926</td>\n",
              "      <td>Copyright (c) 2000-2018 salesforce.com, inc. A...</td>\n",
              "      <td>None</td>\n",
              "      <td>None</td>\n",
              "      <td>NaN</td>\n",
              "      <td>None</td>\n",
              "      <td>NaN</td>\n",
              "      <td>NaN</td>\n",
              "      <td>NaN</td>\n",
              "      <td>None</td>\n",
              "      <td>None</td>\n",
              "    </tr>\n",
              "    <tr>\n",
              "      <th>1927</th>\n",
              "      <td>1927</td>\n",
              "      <td>Confidential Information - Do Not Distribute</td>\n",
              "      <td>None</td>\n",
              "      <td>None</td>\n",
              "      <td>NaN</td>\n",
              "      <td>None</td>\n",
              "      <td>NaN</td>\n",
              "      <td>NaN</td>\n",
              "      <td>NaN</td>\n",
              "      <td>None</td>\n",
              "      <td>None</td>\n",
              "    </tr>\n",
              "    <tr>\n",
              "      <th>1928</th>\n",
              "      <td>1928</td>\n",
              "      <td>Generated By:  Micah Bledsoe  8/14/2018 8:31 AM</td>\n",
              "      <td>None</td>\n",
              "      <td>None</td>\n",
              "      <td>NaN</td>\n",
              "      <td>None</td>\n",
              "      <td>NaN</td>\n",
              "      <td>NaN</td>\n",
              "      <td>NaN</td>\n",
              "      <td>None</td>\n",
              "      <td>None</td>\n",
              "    </tr>\n",
              "    <tr>\n",
              "      <th>1929</th>\n",
              "      <td>1929</td>\n",
              "      <td>Baillie Lumber</td>\n",
              "      <td>None</td>\n",
              "      <td>None</td>\n",
              "      <td>NaN</td>\n",
              "      <td>None</td>\n",
              "      <td>NaN</td>\n",
              "      <td>NaN</td>\n",
              "      <td>NaN</td>\n",
              "      <td>None</td>\n",
              "      <td>None</td>\n",
              "    </tr>\n",
              "  </tbody>\n",
              "</table>\n",
              "<p>1930 rows × 11 columns</p>\n",
              "</div>"
            ],
            "text/plain": [
              "      index                            Domestic Shipments Name  \\\n",
              "0         0                                    a0W1W000008Mv2c   \n",
              "1         1                                    a0W1W000008Mv2d   \n",
              "2         2                                    a0W1W000008Mv2e   \n",
              "3         3                                    a0W1W000008Mv2f   \n",
              "4         4                                    a0W1W000008Mv2g   \n",
              "5         5                                    a0W1W000008Mv2h   \n",
              "6         6                                    a0W1W000008Mv2i   \n",
              "7         7                                    a0W1W000008Mv2j   \n",
              "8         8                                    a0W1W000008Mv2k   \n",
              "9         9                                    a0W1W000008Mv2l   \n",
              "10       10                                    a0W1W000008Mv2m   \n",
              "11       11                                    a0W1W000008Mv2n   \n",
              "12       12                                    a0W1W000008Mv2o   \n",
              "13       13                                    a0W1W000008Mv2p   \n",
              "14       14                                    a0W1W000008Mv2q   \n",
              "15       15                                    a0W1W000008MuyS   \n",
              "16       16                                    a0W1W000008MuyT   \n",
              "17       17                                    a0W1W000008MuyU   \n",
              "18       18                                    a0W1W000008MuyV   \n",
              "19       19                                    a0W1W000008MuyW   \n",
              "20       20                                    a0W1W000008MuyX   \n",
              "21       21                                    a0W1W000008MuyY   \n",
              "22       22                                    a0W1W000008MuyZ   \n",
              "23       23                                    a0W1W000008Muya   \n",
              "24       24                                    a0W1W000008Muyb   \n",
              "25       25                                    a0W1W000008Muyc   \n",
              "26       26                                    a0W1W000008Muyd   \n",
              "27       27                                    a0W1W000008Muye   \n",
              "28       28                                    a0W1W000008Muyf   \n",
              "29       29                                    a0W1W000008Muyg   \n",
              "...     ...                                                ...   \n",
              "1900   1900                                    a0W1W000008MuoW   \n",
              "1901   1901                                    a0W1W000008MuoX   \n",
              "1902   1902                                    a0W1W000008MuoY   \n",
              "1903   1903                                    a0W1W000008MuoZ   \n",
              "1904   1904                                    a0W1W000008Muoa   \n",
              "1905   1905                                    a0W1W000008Muob   \n",
              "1906   1906                                    a0W1W000008Muoc   \n",
              "1907   1907                                    a0W1W000008Muod   \n",
              "1908   1908                                    a0W1W000008Muoe   \n",
              "1909   1909                                    a0W1W000008Muof   \n",
              "1910   1910                                    a0W1W000008Muog   \n",
              "1911   1911                                    a0W1W000008Muom   \n",
              "1912   1912                                    a0W1W000008Muon   \n",
              "1913   1913                                    a0W1W000008Muoo   \n",
              "1914   1914                                    a0W1W000008Muop   \n",
              "1915   1915                                    a0W1W000008Muoq   \n",
              "1916   1916                                    a0W1W000008Muor   \n",
              "1917   1917                                    a0W1W000008Mup7   \n",
              "1918   1918                                    a0W1W000008Mup8   \n",
              "1919   1919                                    a0W1W000008Mup9   \n",
              "1920   1920                                    a0W1W000008Mup6   \n",
              "1921   1921                                    a0W1W000008MupA   \n",
              "1922   1922                                    a0W1W000008MupB   \n",
              "1923   1923                                               None   \n",
              "1924   1924                                               None   \n",
              "1925   1925           Domestic Shipments(2/14/2018-->8/14/2018   \n",
              "1926   1926  Copyright (c) 2000-2018 salesforce.com, inc. A...   \n",
              "1927   1927       Confidential Information - Do Not Distribute   \n",
              "1928   1928    Generated By:  Micah Bledsoe  8/14/2018 8:31 AM   \n",
              "1929   1929                                     Baillie Lumber   \n",
              "\n",
              "             LANE FROM            LANE TO  FREIGHT DEST STATE  DISTANCE  \\\n",
              "0           SMYRNA, NY     LOGANSPORT, IN   1750.0         IN     676.0   \n",
              "1           SMYRNA, NY     SWEDESBORO, NJ    700.0         NJ     254.0   \n",
              "2       TITUSVILLE, PA    ST-EUSTACHE, QC   1700.0         QC     519.0   \n",
              "3       TITUSVILLE, PA           TROY, PA    750.0         PA     240.0   \n",
              "4         ALLEGANY, NY      LIVERMORE, CA   2710.0         CA    2656.0   \n",
              "5         ALLEGANY, NY     LOGANSPORT, IN   1400.0         IN     482.0   \n",
              "6         ALLEGANY, NY     LOGANSPORT, IN   1450.0         IN     482.0   \n",
              "7        BOONVILLE, NY          BALLY, PA    935.0         PA     314.0   \n",
              "8        BOONVILLE, NY     BRIDGEPORT, CT    800.0         CT     287.0   \n",
              "9        BOONVILLE, NY    CHEEKTOWAGA, NY    600.0         NY     229.0   \n",
              "10       BOONVILLE, NY         SMYRNA, NY    475.0         NY      80.0   \n",
              "11       BOONVILLE, NY         SMYRNA, NY    475.0         NY      80.0   \n",
              "12       BOONVILLE, NY         SMYRNA, NY    475.0         NY      80.0   \n",
              "13          CANDOR, NY      TEWKSBURY, MA    900.0         MA     374.0   \n",
              "14          CAYUTA, NY     CLEARFIELD, PA    700.0         PA     197.0   \n",
              "15       BOONVILLE, NY         SMYRNA, NY    475.0         NY      80.0   \n",
              "16       BOONVILLE, NY         SMYRNA, NY    475.0         NY      80.0   \n",
              "17       BOONVILLE, NY         SMYRNA, NY    475.0         NY      80.0   \n",
              "18       BOONVILLE, NY         SMYRNA, NY    475.0         NY      80.0   \n",
              "19       BOONVILLE, NY         SMYRNA, NY    475.0         NY      80.0   \n",
              "20       BOONVILLE, NY         SMYRNA, NY    475.0         NY      80.0   \n",
              "21          CANTON, NC        ELLIJAY, GA    650.0         GA     146.0   \n",
              "22       COVE CITY, NC       BRAINERD, MN   3500.0         MN    1455.0   \n",
              "23       COVE CITY, NC           RICE, MN   3400.0         MN    1406.0   \n",
              "24         DONALDS, SC        SUWANEE, GA    700.0         GA     123.0   \n",
              "25         DONALDS, SC        ZEELAND, MI   2450.0         MI     792.0   \n",
              "26    HUNTERSVILLE, NC          SAYRE, PA   1750.0         PA     613.0   \n",
              "27          HURLEY, WI       LA PORTE, IN   1130.0         IN     475.0   \n",
              "28     LEITCHFIELD, KY  ST. AUGUSTINE, FL   2300.0         FL     767.0   \n",
              "29        MARIETTA, OH        BEVERLY, WV    850.0         WV     150.0   \n",
              "...                ...                ...      ...        ...       ...   \n",
              "1900   ALLENSVILLE, PA     TITUSVILLE, PA    600.0         PA     170.0   \n",
              "1901        BARTOW, WV     LONG BEACH, CA   2587.5         CA    2522.0   \n",
              "1902     BOONVILLE, NY     BRIDGEPORT, CT    800.0         CT     287.0   \n",
              "1903     BOONVILLE, NY         SMYRNA, NY    475.0         NY      80.0   \n",
              "1904     BOONVILLE, NY         SMYRNA, NY    475.0         NY      80.0   \n",
              "1905     BOONVILLE, NY         SMYRNA, NY    475.0         NY      80.0   \n",
              "1906     BOONVILLE, NY         SMYRNA, NY    475.0         NY      80.0   \n",
              "1907        CANDOR, NY          ACTON, MA    950.0         MA     362.0   \n",
              "1908        CANDOR, NY    MIFFLINBURG, PA    500.0         PA     130.0   \n",
              "1909        CANDOR, NY    MIFFLINBURG, PA    500.0         PA     130.0   \n",
              "1910        CAYUTA, NY         AUBURN, AL   1900.0         AL    1016.0   \n",
              "1911   LEITCHFIELD, KY     FORT WORTH, TX   2000.0         TX     805.0   \n",
              "1912   LEITCHFIELD, KY     SCOTT CITY, MO    900.0         MO     263.0   \n",
              "1913     LEWISTOWN, PA         SMYRNA, NY    700.0         NY     250.0   \n",
              "1914      MARIETTA, OH         VONORE, TN   1600.0         TN     436.0   \n",
              "1915      MARIETTA, OH         VONORE, TN   1700.0         TN     436.0   \n",
              "1916      MARIETTA, OH     WAYNESBORO, VA    900.0         VA     317.0   \n",
              "1917     BOONVILLE, NY         SMYRNA, NY    475.0         NY      80.0   \n",
              "1918   BRATTLEBORO, VT         SMYRNA, NY    750.0         NY     201.0   \n",
              "1919   BRATTLEBORO, VT         SMYRNA, NY   1100.0         NY     201.0   \n",
              "1920     BOONVILLE, NY         SMYRNA, NY    475.0         NY      80.0   \n",
              "1921        CANDOR, NY    NEWBURYPORT, MA   1000.0         MA     403.0   \n",
              "1922        CANDOR, NY     SUGARCREEK, OH    850.0         OH     405.0   \n",
              "1923              None               None      NaN       None       NaN   \n",
              "1924              None               None      NaN       None       NaN   \n",
              "1925              None               None      NaN       None       NaN   \n",
              "1926              None               None      NaN       None       NaN   \n",
              "1927              None               None      NaN       None       NaN   \n",
              "1928              None               None      NaN       None       NaN   \n",
              "1929              None               None      NaN       None       NaN   \n",
              "\n",
              "      RATE_PER_MILE  SHIPMENT SOURCE STATE TRANSPORT_MODE  \n",
              "0              2.59  444080.0           NY             TL  \n",
              "1              2.76  443813.0           NY             TL  \n",
              "2              3.28  443848.0           PA             TL  \n",
              "3              3.13  442823.0           PA             TL  \n",
              "4              1.02  443101.0           NY        INTRMDL  \n",
              "5              2.90  443915.0           NY             TL  \n",
              "6              3.01  444425.0           NY             TL  \n",
              "7              2.98  444090.0           NY             TL  \n",
              "8              2.79  444395.0           NY             TL  \n",
              "9              2.62  444249.0           NY             TL  \n",
              "10             5.94  444435.0           NY             TL  \n",
              "11             5.94  444436.0           NY             TL  \n",
              "12             5.94  444504.0           NY             TL  \n",
              "13             2.41  444027.0           NY             TL  \n",
              "14             3.55  444001.0           NY             TL  \n",
              "15             5.94  442943.0           NY             TL  \n",
              "16             5.94  442944.0           NY             TL  \n",
              "17             5.94  442948.0           NY             TL  \n",
              "18             5.94  442950.0           NY             TL  \n",
              "19             5.94  442951.0           NY             TL  \n",
              "20             5.94  443218.0           NY             TL  \n",
              "21             4.45  442967.0           NC             TL  \n",
              "22             2.41  442126.0           NC             TL  \n",
              "23             2.42  441304.0           NC             TL  \n",
              "24             5.69  442362.0           SC             TL  \n",
              "25             3.09  441717.0           SC             TL  \n",
              "26             2.85  442465.0           NC             TL  \n",
              "27             2.38  441366.0           WI             TL  \n",
              "28             3.00  442076.0           KY             TL  \n",
              "29             5.67  442282.0           OH             TL  \n",
              "...             ...       ...          ...            ...  \n",
              "1900           3.53  438583.0           PA             TL  \n",
              "1901           1.03  438519.0           WV        INTRMDL  \n",
              "1902           2.79  438535.0           NY             TL  \n",
              "1903           5.94  439018.0           NY             TL  \n",
              "1904           5.94  439019.0           NY             TL  \n",
              "1905           5.94  439021.0           NY             TL  \n",
              "1906           5.94  439022.0           NY             TL  \n",
              "1907           2.62  438200.0           NY             TL  \n",
              "1908           3.85  438739.0           NY             TL  \n",
              "1909           3.85  438819.0           NY             TL  \n",
              "1910           1.87  438799.0           NY             TL  \n",
              "1911           2.48  438715.0           KY             TL  \n",
              "1912           3.42  437529.0           KY             TL  \n",
              "1913           2.80  438429.0           PA             TL  \n",
              "1914           3.67  438761.0           OH             TL  \n",
              "1915           3.90  438736.0           OH             TL  \n",
              "1916           2.84  438407.0           OH             TL  \n",
              "1917           5.94  439166.0           NY             TL  \n",
              "1918           3.73  438805.0           VT             TL  \n",
              "1919           5.47  438373.0           VT            LTL  \n",
              "1920           5.94  439060.0           NY             TL  \n",
              "1921           2.48  437712.0           NY             TL  \n",
              "1922           2.10  438815.0           NY             TL  \n",
              "1923            NaN       NaN         None           None  \n",
              "1924            NaN       NaN         None           None  \n",
              "1925            NaN       NaN         None           None  \n",
              "1926            NaN       NaN         None           None  \n",
              "1927            NaN       NaN         None           None  \n",
              "1928            NaN       NaN         None           None  \n",
              "1929            NaN       NaN         None           None  \n",
              "\n",
              "[1930 rows x 11 columns]"
            ]
          },
          "metadata": {
            "tags": []
          },
          "execution_count": 259
        }
      ]
    },
    {
      "metadata": {
        "id": "Kp4HxJQCjcsh",
        "colab_type": "code",
        "colab": {}
      },
      "cell_type": "code",
      "source": [
        ""
      ],
      "execution_count": 0,
      "outputs": []
    }
  ]
}